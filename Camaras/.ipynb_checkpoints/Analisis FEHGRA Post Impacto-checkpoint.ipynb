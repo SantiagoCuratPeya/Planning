{
 "cells": [
  {
   "cell_type": "markdown",
   "metadata": {},
   "source": [
    "### IMPORTS"
   ]
  },
  {
   "cell_type": "code",
   "execution_count": 1,
   "metadata": {},
   "outputs": [],
   "source": [
    "import pandas as pd\n",
    "import numpy as np\n",
    "import pandas_gbq\n",
    "import datetime\n",
    "from dateutil.relativedelta import relativedelta\n",
    "import calendar\n",
    "from gspread_pandas import Spread, conf"
   ]
  },
  {
   "cell_type": "markdown",
   "metadata": {},
   "source": [
    "### CREDENCIALES Y CONEXIONES"
   ]
  },
  {
   "cell_type": "code",
   "execution_count": 2,
   "metadata": {},
   "outputs": [],
   "source": [
    "cred = conf.get_config('C:\\\\Users\\\\santiago.curat\\\\Pandas\\\\PEYA', 'PedidosYa-8b8c4d19f61c.json')"
   ]
  },
  {
   "cell_type": "markdown",
   "metadata": {},
   "source": [
    "### GOOGLE SHEETS"
   ]
  },
  {
   "cell_type": "code",
   "execution_count": 3,
   "metadata": {},
   "outputs": [],
   "source": [
    "# Grids Impactados\n",
    "sheet_id = '18TKPCJy746jqLvD6u2fkuOYkgpXVYoOUe5cIU-LTgaI'\n",
    "wks_name = 'Analisis Partners'\n",
    "sheet = Spread(sheet_id, wks_name, config=cred)\n",
    "partners = sheet.sheet_to_df(index=0,header_rows=1)"
   ]
  },
  {
   "cell_type": "code",
   "execution_count": 4,
   "metadata": {},
   "outputs": [],
   "source": [
    "# Me quedo con los Grids\n",
    "grids_impacto = list(set(partners['Grids'].copy()))\n",
    "grids_string = \"','\".join(grids_impacto)\n",
    "grids_string = \"'\"+grids_string+\"'\""
   ]
  },
  {
   "cell_type": "markdown",
   "metadata": {},
   "source": [
    "## QUERIES"
   ]
  },
  {
   "cell_type": "code",
   "execution_count": 5,
   "metadata": {},
   "outputs": [],
   "source": [
    "query = '''SELECT o.restaurant.id AS Id,\n",
    "       p.salesforce_id AS Grid,\n",
    "       CASE WHEN p.is_logistic = TRUE THEN 'Si' ELSE 'No' END AS Log_Mktp,\n",
    "       DATE(o.registered_date) AS Fecha,\n",
    "       COUNT(DISTINCT o.order_id) AS Confirmed,\n",
    "       SUM(o.total_amount + o.shipping_amount + o.discount_paid_by_company) AS GMV_Gross,\n",
    "       SUM(o.total_amount + o.discount_paid_by_company + o.shipping_amount - o.shipping_amount_no_discount) AS GFV_Gross,\n",
    "       SUM(o.commission_amount) AS Revenue\n",
    "FROM `peya-bi-tools-pro.il_core.fact_orders` AS o\n",
    "LEFT JOIN `peya-bi-tools-pro.il_core.dim_partner` AS p ON o.restaurant.id = p.partner_id\n",
    "WHERE DATE(o.registered_date) >= DATE('2021-01-01')\n",
    "      AND p.salesforce_id IN ({0})\n",
    "      AND o.order_status = 'CONFIRMED'\n",
    "GROUP BY 1,2,3,4'''.format(grids_string)\n",
    "\n",
    "query_comision = '''SELECT p.partner_id AS Id,\n",
    "       p.salesforce_id AS Grid,\n",
    "       ph.yyyymmdd AS Fecha,\n",
    "       ph.commission_restaurant AS Comision\n",
    "FROM `peya-bi-tools-pro.il_core.dim_partner` AS p\n",
    "LEFT JOIN `peya-bi-tools-pro.il_core.dim_historical_partners` AS ph ON p.partner_id = ph.restaurant_id\n",
    "WHERE p.country_id = 3\n",
    "      AND DATE(ph.yyyymmdd) >= DATE('2020-12-01')\n",
    "      AND DATE(ph.yyyymmdd ) IN (SELECT DATE_SUB(MAX(DATE(ph.yyyymmdd)),INTERVAL 1 DAY)\n",
    "                                 FROM `peya-bi-tools-pro.il_core.dim_historical_partners` AS ph\n",
    "                                 WHERE DATE(ph.yyyymmdd) >= DATE('2020-12-01')\n",
    "                                 GROUP BY SUBSTR(CAST(ph.yyyymmdd AS STRING),1,7))\n",
    "      AND p.salesforce_id IN ({0})'''.format(grids_string)"
   ]
  },
  {
   "cell_type": "code",
   "execution_count": 6,
   "metadata": {},
   "outputs": [
    {
     "name": "stderr",
     "output_type": "stream",
     "text": [
      "Downloading: 100%|████████████████████████████████████████████████████████| 200187/200187 [00:18<00:00, 10830.48rows/s]\n"
     ]
    }
   ],
   "source": [
    "hue_crudo = pd.io.gbq.read_gbq(query, project_id='peya-argentina', dialect='standard')"
   ]
  },
  {
   "cell_type": "code",
   "execution_count": 7,
   "metadata": {},
   "outputs": [
    {
     "name": "stderr",
     "output_type": "stream",
     "text": [
      "Downloading: 100%|███████████████████████████████████████████████████████████| 11071/11071 [00:02<00:00, 5248.97rows/s]\n"
     ]
    }
   ],
   "source": [
    "hue_crudo_comision = pd.io.gbq.read_gbq(query_comision, project_id='peya-argentina', dialect='standard')"
   ]
  },
  {
   "cell_type": "code",
   "execution_count": 8,
   "metadata": {},
   "outputs": [],
   "source": [
    "# Copio las Bases\n",
    "crudo = hue_crudo.copy()\n",
    "crudo_comision = hue_crudo_comision.copy()"
   ]
  },
  {
   "cell_type": "markdown",
   "metadata": {},
   "source": [
    "### TRABAJO"
   ]
  },
  {
   "cell_type": "code",
   "execution_count": 9,
   "metadata": {},
   "outputs": [],
   "source": [
    "# Doy formato al mes\n",
    "crudo_comision['Mes'] = pd.to_datetime(crudo_comision['Fecha'], format='%Y%m%d').dt.strftime('%Y-%m')\n",
    "crudo['Fecha'] = pd.to_datetime(crudo['Fecha'], format='%Y-%m-%d').dt.strftime('%Y-%m-%d')\n",
    "crudo_comision['Fecha'] = pd.to_datetime(crudo_comision['Fecha'], format='%Y%m%d').dt.strftime('%Y%m%d')\n",
    "crudo_comision['Fecha'] = [str(x).replace('-','') for x in crudo_comision['Fecha']]"
   ]
  },
  {
   "cell_type": "code",
   "execution_count": 10,
   "metadata": {},
   "outputs": [],
   "source": [
    "# Doy formato a las columnas\n",
    "crudo[['Confirmed','GMV_Gross','GFV_Gross','Revenue']] = crudo[['Confirmed','GMV_Gross','GFV_Gross','Revenue']].astype(float)"
   ]
  },
  {
   "cell_type": "code",
   "execution_count": 11,
   "metadata": {},
   "outputs": [],
   "source": [
    "# Cambio el formato a los numeros\n",
    "crudo['Confirmed'] = [str(x).replace('.', ',') for x in crudo['Confirmed']]\n",
    "crudo['GMV_Gross'] = [str(x).replace('.', ',') for x in crudo['GMV_Gross']]\n",
    "crudo['GFV_Gross'] = [str(x).replace('.', ',') for x in crudo['GFV_Gross']]\n",
    "crudo['Revenue'] = [str(x).replace('.', ',') for x in crudo['Revenue']]"
   ]
  },
  {
   "cell_type": "markdown",
   "metadata": {},
   "source": [
    "### CARGA"
   ]
  },
  {
   "cell_type": "code",
   "execution_count": 12,
   "metadata": {},
   "outputs": [],
   "source": [
    "#Carga Crudo Analisis FEHGRA Luego Impacto\n",
    "sheet_id = '18TKPCJy746jqLvD6u2fkuOYkgpXVYoOUe5cIU-LTgaI'\n",
    "wks_name = 'Crudo Post'\n",
    "sheet = Spread(sheet_id, wks_name, config=cred)\n",
    "sheet.df_to_sheet(crudo, index=False, sheet=wks_name, replace=True)"
   ]
  },
  {
   "cell_type": "code",
   "execution_count": 13,
   "metadata": {},
   "outputs": [],
   "source": [
    "# Carga Crudo Analisis FEHGRA Luego Impacto Comisiones\n",
    "sheet_id = '1bhdWCGRgmK2_BOLtM7WEgzMteLWa6yE4qBC8iQT0BgY'\n",
    "wks_name = 'Crudo Post Comisiones'\n",
    "sheet = Spread(sheet_id, wks_name, config=cred)\n",
    "sheet.df_to_sheet(crudo_comision, index=False, sheet=wks_name, replace=True)"
   ]
  }
 ],
 "metadata": {
  "kernelspec": {
   "display_name": "Python 3",
   "language": "python",
   "name": "python3"
  },
  "language_info": {
   "codemirror_mode": {
    "name": "ipython",
    "version": 3
   },
   "file_extension": ".py",
   "mimetype": "text/x-python",
   "name": "python",
   "nbconvert_exporter": "python",
   "pygments_lexer": "ipython3",
   "version": "3.8.5"
  }
 },
 "nbformat": 4,
 "nbformat_minor": 4
}
