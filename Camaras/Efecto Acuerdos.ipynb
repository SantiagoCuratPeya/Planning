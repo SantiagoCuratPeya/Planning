{
 "cells": [
  {
   "cell_type": "markdown",
   "metadata": {},
   "source": [
    "### IMPORTS"
   ]
  },
  {
   "cell_type": "code",
   "execution_count": 54,
   "metadata": {},
   "outputs": [],
   "source": [
    "import sys\n",
    "path = 'C:\\\\Users\\\\santiago.curat\\\\Pandas\\\\PEYA'\n",
    "sys.path.insert(0,path)"
   ]
  },
  {
   "cell_type": "code",
   "execution_count": 55,
   "metadata": {},
   "outputs": [],
   "source": [
    "import pandas as pd\n",
    "import numpy as np\n",
    "import calendar\n",
    "import datetime\n",
    "from dateutil.relativedelta import relativedelta\n",
    "from Roster_FEHGRA import *\n",
    "from gspread_pandas import Spread, conf"
   ]
  },
  {
   "cell_type": "markdown",
   "metadata": {},
   "source": [
    "### CREDENCIALES Y CONEXIONES"
   ]
  },
  {
   "cell_type": "code",
   "execution_count": 56,
   "metadata": {},
   "outputs": [],
   "source": [
    "cred = conf.get_config('C:\\\\Users\\\\santiago.curat\\\\Pandas\\\\PEYA', 'PedidosYa-8b8c4d19f61c.json')"
   ]
  },
  {
   "cell_type": "markdown",
   "metadata": {},
   "source": [
    "### GOOGLE SHEETS"
   ]
  },
  {
   "cell_type": "code",
   "execution_count": 81,
   "metadata": {},
   "outputs": [],
   "source": [
    "# Me traigo los impactos\n",
    "sheet_id = '18TKPCJy746jqLvD6u2fkuOYkgpXVYoOUe5cIU-LTgaI'\n",
    "wks_name = 'Analisis Post'\n",
    "sheet = Spread(sheet_id, wks_name, config=cred)\n",
    "base = sheet.sheet_to_df(index=0,header_rows=1)"
   ]
  },
  {
   "cell_type": "code",
   "execution_count": 82,
   "metadata": {},
   "outputs": [],
   "source": [
    "# Limpio las filas vacias\n",
    "base = base[base['Grids'] != ''].copy()\n",
    "#Filtro columnas\n",
    "base = base[['Grids','Ejecución Impacto','Impacto','Comi Vieja 2','Comision Nueva','Camara']].copy()\n",
    "base.columns = ['Grids','Ejecucion','Impacto','Comision Vieja','Comision Nueva','Camara']"
   ]
  },
  {
   "cell_type": "code",
   "execution_count": 83,
   "metadata": {},
   "outputs": [],
   "source": [
    "# Cambio el formato de las fechas\n",
    "base['Ejecucion'] = [x.replace('/', '-') for x in base['Ejecucion']]\n",
    "base['Ejecucion'] = base['Ejecucion'].apply(lambda x: str(datetime.date.today().replace(day=1))[:-3] if x == '' else x)\n",
    "# Cambio el formato a las comisiones\n",
    "base['Comision Vieja'] = [float(x.replace(',','.').replace('%','')) for x in base['Comision Vieja']]\n",
    "# Armo lista de Grids\n",
    "grids = str(base['Grids'].to_list()).replace('[','(').replace(']',')')"
   ]
  },
  {
   "cell_type": "markdown",
   "metadata": {},
   "source": [
    "### CONSTANTES"
   ]
  },
  {
   "cell_type": "code",
   "execution_count": 85,
   "metadata": {},
   "outputs": [],
   "source": [
    "inicio = '2021-04-01'\n",
    "fin = '2021-04-30'"
   ]
  },
  {
   "cell_type": "markdown",
   "metadata": {},
   "source": [
    "### QUERIES"
   ]
  },
  {
   "cell_type": "code",
   "execution_count": 86,
   "metadata": {},
   "outputs": [],
   "source": [
    "q_p = '''WITH orders_table AS (\n",
    "    SELECT o.restaurant.id AS id,\n",
    "           SUBSTR(CAST(o.registered_date AS STRING),1,7) AS month,\n",
    "           SUM(CASE WHEN o.with_logistics THEN o.total_amount + o.discount_paid_by_company + o.shipping_amount - o.shipping_amount_no_discount\n",
    "               ELSE o.total_amount + o.shipping_amount + o.discount_paid_by_company END) AS income,\n",
    "           SUM(o.commission_amount) AS Revenue\n",
    "    FROM `peya-bi-tools-pro.il_core.fact_orders` AS o\n",
    "    WHERE o.country_id = 3\n",
    "          AND o.registered_date >= DATE('2020-12-01')\n",
    "          AND o.order_status = 'CONFIRMED'\n",
    "    GROUP BY 1,2)\n",
    "SELECT p.salesforce_id AS Grids,\n",
    "       ot.month AS Month,\n",
    "       CASE WHEN p.is_online THEN 'Si' ELSE 'No' END AS Online,\n",
    "       CASE WHEN p.is_logistic THEN 'Si' ELSE 'No' END AS Logistic,\n",
    "       IFNULL(p.billingInfo.sap_id,'-') AS SAP_Id,\n",
    "       IFNULL(p.billingInfo.rut,'-') AS CUIT,\n",
    "       p.city.name AS City,\n",
    "       a.area_name AS Area,\n",
    "       p.billingInfo.partner_commission AS Commission,\n",
    "       ot.income AS Income,\n",
    "       ot.revenue AS Revenue\n",
    "FROM `peya-bi-tools-pro.il_core.dim_partner` AS p\n",
    "LEFT JOIN orders_table AS ot ON p.partner_id = ot.id\n",
    "LEFT JOIN `peya-bi-tools-pro.il_core.dim_area` AS a ON p.address.area_id = a.area_id\n",
    "WHERE p.country_id = 3\n",
    "      AND p.salesforce_id IN {0}'''.format(grids)\n",
    "\n",
    "q_resto = '''SELECT p.city.name AS City,\n",
    "       a.area_name AS Area,\n",
    "       SUM(CASE WHEN o.with_logistics THEN o.total_amount + o.discount_paid_by_company + o.shipping_amount - o.shipping_amount_no_discount ELSE 0 END) AS Income_Log,\n",
    "       SUM(CASE WHEN o.with_logistics = FALSE THEN o.total_amount + o.shipping_amount + o.discount_paid_by_company ELSE 0 END) AS Income_Mktp,\n",
    "       SUM(CASE WHEN o.with_logistics THEN o.commission_amount ELSE 0 END) AS Revenue_Log,\n",
    "       SUM(CASE WHEN o.with_logistics= FALSE THEN o.commission_amount ELSE 0 END) AS Revenue_Mktp\n",
    "FROM `peya-bi-tools-pro.il_core.fact_orders` AS o\n",
    "LEFT JOIN `peya-bi-tools-pro.il_core.dim_partner` AS p ON o.restaurant.id = p.partner_id\n",
    "LEFT JOIN `peya-bi-tools-pro.il_core.dim_area` AS a ON p.address.area_id = a.area_id\n",
    "WHERE p.country_id = 3\n",
    "      AND o.registered_date BETWEEN DATE('{0}') AND DATE('{1}')\n",
    "      AND p.salesforce_id NOT IN {1}\n",
    "      AND o.order_status = 'CONFIRMED'\n",
    "GROUP BY 1,2'''.format(inicio,fin,grids)"
   ]
  },
  {
   "cell_type": "code",
   "execution_count": 51,
   "metadata": {},
   "outputs": [
    {
     "name": "stderr",
     "output_type": "stream",
     "text": [
      "Downloading: 100%|███████████████████████████████████████████████████████████| 10626/10626 [00:02<00:00, 4541.42rows/s]\n"
     ]
    }
   ],
   "source": [
    "# Descargo la data\n",
    "hue_p = pd.io.gbq.read_gbq(q_p, project_id='peya-argentina', dialect='standard')"
   ]
  },
  {
   "cell_type": "code",
   "execution_count": 52,
   "metadata": {},
   "outputs": [
    {
     "name": "stderr",
     "output_type": "stream",
     "text": [
      "Downloading: 100%|████████████████████████████████████████████████████████████████| 886/886 [00:01<00:00, 655.23rows/s]\n"
     ]
    }
   ],
   "source": [
    "hue_resto = pd.io.gbq.read_gbq(q_resto, project_id='peya-argentina', dialect='standard')"
   ]
  },
  {
   "cell_type": "code",
   "execution_count": 61,
   "metadata": {},
   "outputs": [],
   "source": [
    "# Copio las bases\n",
    "partners = hue_p.copy()\n",
    "resto = hue_resto.copy()"
   ]
  },
  {
   "cell_type": "markdown",
   "metadata": {},
   "source": [
    "### FUNCIONES"
   ]
  },
  {
   "cell_type": "code",
   "execution_count": 63,
   "metadata": {},
   "outputs": [],
   "source": [
    "def comisiones(i):\n",
    "    if i['Comision Vieja'] == 0:\n",
    "        bandera = 0\n",
    "        for j in tuplas_com:\n",
    "            if i['Grids'] == j[0]:\n",
    "                val = j[1]\n",
    "                bandera = 1\n",
    "        if bandera == 0:\n",
    "            val = 'Error'\n",
    "    else:\n",
    "        val = i['Comision Vieja']\n",
    "    return val\n",
    "\n",
    "def incomes_revenues(i):\n",
    "    bandera = 0\n",
    "    for j in tuplas_inc:\n",
    "        if i['Grids'] == j[1] and str(j[0]) == (i['Ejecucion'] - pd.DateOffset(months=1)).strftime('%Y-%m'):\n",
    "            income = j[2]\n",
    "            revenue = j[3]\n",
    "            bandera = 1\n",
    "    if bandera == 0:\n",
    "        income = 0\n",
    "        revenue = 0\n",
    "    return pd.Series([income,revenue])\n",
    "\n",
    "def nuevas_comisiones(i):\n",
    "    if i['Comision Nueva'] == '-':\n",
    "        if i['Logistic'] == 'Si':\n",
    "            val = 18\n",
    "        else:\n",
    "            val = 10\n",
    "    else:\n",
    "        val = i['Comision Nueva']\n",
    "    return val"
   ]
  },
  {
   "cell_type": "markdown",
   "metadata": {},
   "source": [
    "### TRABAJO"
   ]
  },
  {
   "cell_type": "code",
   "execution_count": 87,
   "metadata": {},
   "outputs": [],
   "source": [
    "# Creo la lista de tuplas para comisiones\n",
    "tuplas_com = list(partners[['Grids','Commission']].drop_duplicates().to_records(index=False))"
   ]
  },
  {
   "cell_type": "code",
   "execution_count": 65,
   "metadata": {},
   "outputs": [],
   "source": [
    "# Coloco la comision a los partners faltantes\n",
    "base['Comision Vieja'] = base.apply(comisiones,axis=1)\n",
    "base = base[base['Comision Vieja'] != 'Error'].copy()"
   ]
  },
  {
   "cell_type": "code",
   "execution_count": 66,
   "metadata": {},
   "outputs": [],
   "source": [
    "# Doy formato a la fecha\n",
    "partners['Month'] = pd.to_datetime(partners['Month'], format='%Y-%m').dt.strftime('%Y-%m')\n",
    "base['Ejecucion'] = pd.to_datetime(base['Ejecucion'], format='%Y-%m')"
   ]
  },
  {
   "cell_type": "code",
   "execution_count": 89,
   "metadata": {},
   "outputs": [],
   "source": [
    "# Creo una lista de tuplas para Income\n",
    "tuplas_inc = list(partners[['Month','Grids','Income','Revenue']].to_records(index=False))"
   ]
  },
  {
   "cell_type": "code",
   "execution_count": 68,
   "metadata": {},
   "outputs": [],
   "source": [
    "# Coloco el Income LM\n",
    "base[['Income LM','Revenue LM']] = base.apply(incomes_revenues,axis=1)\n",
    "# Cabmio el formato al mes\n",
    "base['Ejecucion'] = pd.to_datetime(base['Ejecucion'], format='%Y-%m-%d').dt.strftime('%Y-%m')"
   ]
  },
  {
   "cell_type": "code",
   "execution_count": 69,
   "metadata": {},
   "outputs": [],
   "source": [
    "# Agrego Feudo y Reino a partners\n",
    "partners['Feudo'] = partners.apply(feudos,axis=1)\n",
    "partners['Reino'] = partners.apply(reinos,axis=1)"
   ]
  },
  {
   "cell_type": "code",
   "execution_count": 70,
   "metadata": {},
   "outputs": [],
   "source": [
    "# Agrego Online y Logistic a la Base\n",
    "final_base = base.merge(partners[['Grids','Online','Logistic','Feudo','Reino','SAP_Id','CUIT']].drop_duplicates(),on=['Grids'],how='left')"
   ]
  },
  {
   "cell_type": "code",
   "execution_count": 71,
   "metadata": {},
   "outputs": [],
   "source": [
    "# Coloco la comision nueva estimada a los partners nuevos\n",
    "final_base['Comision Nueva'] = final_base.apply(nuevas_comisiones,axis=1)"
   ]
  },
  {
   "cell_type": "code",
   "execution_count": 72,
   "metadata": {},
   "outputs": [],
   "source": [
    "# Coloco el nuevo Revenue\n",
    "final_base['Income LM'] = final_base['Income LM'].astype(float)\n",
    "final_base['Comision Nueva'] = final_base['Comision Nueva'].astype(float)\n",
    "final_base['Revenue Nuevo'] = final_base['Income LM'] * (final_base['Comision Nueva']/100)\n",
    "final_base['Revenue Nuevo'].replace([np.nan,np.inf,-np.inf],0,inplace=True)"
   ]
  },
  {
   "cell_type": "code",
   "execution_count": 73,
   "metadata": {},
   "outputs": [],
   "source": [
    "# Coloco Feudo y Reino al resto\n",
    "resto['Feudo'] = resto.apply(feudos,axis=1)\n",
    "resto['Reino'] = resto.apply(reinos,axis=1)"
   ]
  },
  {
   "cell_type": "code",
   "execution_count": 74,
   "metadata": {},
   "outputs": [],
   "source": [
    "# Creo una PT del resto\n",
    "values = ['Income_Log','Income_Mktp','Revenue_Log','Revenue_Mktp']\n",
    "resto[values] = resto[values].astype(float)\n",
    "pt_resto = resto.pivot_table(index=['Reino','Feudo'],values=values,aggfunc='sum',fill_value=0).reset_index()"
   ]
  },
  {
   "cell_type": "code",
   "execution_count": 75,
   "metadata": {},
   "outputs": [],
   "source": [
    "# Arreglo el formato de numeros a Final_Base\n",
    "final_base['Comision Vieja'] = [str(x).replace('.', ',') for x in final_base['Comision Vieja']]\n",
    "final_base['Comision Nueva'] = [str(x).replace('.', ',') for x in final_base['Comision Nueva']]\n",
    "final_base['Income LM'] = [str(x).replace('.', ',') for x in final_base['Income LM']]\n",
    "final_base['Revenue LM'] = [str(x).replace('.', ',') for x in final_base['Revenue LM']]\n",
    "final_base['Revenue Nuevo'] = [str(x).replace('.', ',') for x in final_base['Revenue Nuevo']]\n",
    "# Arreglo el formato de numeros a PT_Resto\n",
    "pt_resto['Income_Log'] = [str(x).replace('.', ',') for x in pt_resto['Income_Log']]\n",
    "pt_resto['Income_Mktp'] = [str(x).replace('.', ',') for x in pt_resto['Income_Mktp']]\n",
    "pt_resto['Revenue_Log'] = [str(x).replace('.', ',') for x in pt_resto['Revenue_Log']]\n",
    "pt_resto['Revenue_Mktp'] = [str(x).replace('.', ',') for x in pt_resto['Revenue_Mktp']]"
   ]
  },
  {
   "cell_type": "code",
   "execution_count": 78,
   "metadata": {},
   "outputs": [],
   "source": [
    "# Ordeno las columnas de Final_Base\n",
    "cols = ['Grids','Ejecucion','Impacto','Comision Vieja','Comision Nueva','Camara','Income LM','Revenue LM','Online','Logistic',\n",
    "        'Feudo','Reino','Revenue Nuevo','SAP_Id','CUIT']\n",
    "final_base = final_base[cols].copy()"
   ]
  },
  {
   "cell_type": "markdown",
   "metadata": {},
   "source": [
    "### CARGA"
   ]
  },
  {
   "cell_type": "code",
   "execution_count": 80,
   "metadata": {},
   "outputs": [],
   "source": [
    "# Carga Final Impactos\n",
    "sheet_id = '18TKPCJy746jqLvD6u2fkuOYkgpXVYoOUe5cIU-LTgaI'\n",
    "wks_name = 'Analisis Economico Impactos'\n",
    "sheet = Spread(sheet_id, wks_name, config=cred)\n",
    "sheet.df_to_sheet(final_base, index=False, sheet=wks_name, replace=True)"
   ]
  },
  {
   "cell_type": "code",
   "execution_count": 34,
   "metadata": {},
   "outputs": [
    {
     "data": {
      "text/plain": [
       "{'spreadsheetId': '18TKPCJy746jqLvD6u2fkuOYkgpXVYoOUe5cIU-LTgaI',\n",
       " 'replies': [{'findReplace': {'valuesChanged': 96,\n",
       "    'rowsChanged': 24,\n",
       "    'sheetsChanged': 1,\n",
       "    'occurrencesChanged': 96}}]}"
      ]
     },
     "execution_count": 34,
     "metadata": {},
     "output_type": "execute_result"
    }
   ],
   "source": [
    "# Carga Final Resto\n",
    "sheet_id = '18TKPCJy746jqLvD6u2fkuOYkgpXVYoOUe5cIU-LTgaI'\n",
    "wks_name = 'Analisis Economico Resto' \n",
    "sheet = Spread(sheet_id, wks_name, config=cred)\n",
    "sheet.df_to_sheet(pt_resto, index=False, sheet=wks_name, replace=True)"
   ]
  }
 ],
 "metadata": {
  "kernelspec": {
   "display_name": "Python 3",
   "language": "python",
   "name": "python3"
  },
  "language_info": {
   "codemirror_mode": {
    "name": "ipython",
    "version": 3
   },
   "file_extension": ".py",
   "mimetype": "text/x-python",
   "name": "python",
   "nbconvert_exporter": "python",
   "pygments_lexer": "ipython3",
   "version": "3.7.6"
  }
 },
 "nbformat": 4,
 "nbformat_minor": 4
}
