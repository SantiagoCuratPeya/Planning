{
 "cells": [
  {
   "cell_type": "markdown",
   "metadata": {},
   "source": [
    "### IMPORTS"
   ]
  },
  {
   "cell_type": "code",
   "execution_count": 1,
   "metadata": {},
   "outputs": [],
   "source": [
    "import pandas as pd\n",
    "import numpy as np\n",
    "import pandas_gbq\n",
    "import datetime\n",
    "from dateutil.relativedelta import relativedelta\n",
    "import calendar\n",
    "from gspread_pandas import Spread, conf\n",
    "from Roster import *"
   ]
  },
  {
   "cell_type": "markdown",
   "metadata": {},
   "source": [
    "### CREDENCIALES"
   ]
  },
  {
   "cell_type": "code",
   "execution_count": 2,
   "metadata": {},
   "outputs": [],
   "source": [
    "cred = conf.get_config('C:\\\\Users\\\\santiago.curat\\\\Pandas\\\\PEYA', 'PedidosYa-8b8c4d19f61c.json')"
   ]
  },
  {
   "cell_type": "markdown",
   "metadata": {},
   "source": [
    "### GOOGLE SHEETS"
   ]
  },
  {
   "cell_type": "code",
   "execution_count": 3,
   "metadata": {},
   "outputs": [],
   "source": [
    "# Ids Swimlanes\n",
    "sheet_id = '1bTm4jQQ-VQ2hNX_HeCTgRY3YDhkXDHN3X36-lS178A0'\n",
    "wks_name = 'Final'\n",
    "sheet = Spread(sheet_id, wks_name, config=cred)\n",
    "ids = sheet.sheet_to_df(index=0,header_rows=1)"
   ]
  },
  {
   "cell_type": "code",
   "execution_count": 4,
   "metadata": {},
   "outputs": [],
   "source": [
    "# Separo la lista de Ids\n",
    "desc = [i for i in ids[ids.columns[0]] if i != '']\n",
    "excl = [i for i in ids[ids.columns[1]] if i != '']\n",
    "total = desc + excl"
   ]
  },
  {
   "cell_type": "markdown",
   "metadata": {},
   "source": [
    "### CONSTANTES"
   ]
  },
  {
   "cell_type": "code",
   "execution_count": 5,
   "metadata": {},
   "outputs": [],
   "source": [
    "fecha = '2021-05-14'"
   ]
  },
  {
   "cell_type": "markdown",
   "metadata": {},
   "source": [
    "### TRABAJO"
   ]
  },
  {
   "cell_type": "code",
   "execution_count": 6,
   "metadata": {},
   "outputs": [],
   "source": [
    "# Creo el DF inicial\n",
    "final = pd.DataFrame(total,columns=['id'])"
   ]
  },
  {
   "cell_type": "code",
   "execution_count": 7,
   "metadata": {},
   "outputs": [],
   "source": [
    "# Coloco la fecha de carga\n",
    "final['fecha'] = fecha"
   ]
  },
  {
   "cell_type": "code",
   "execution_count": 8,
   "metadata": {},
   "outputs": [],
   "source": [
    "# Coloco la SL a la cual pertenecen\n",
    "final['swimlane'] = final['id'].apply(lambda x: 'Descubrimientos' if x in desc else 'Exclusivos')"
   ]
  },
  {
   "cell_type": "code",
   "execution_count": 9,
   "metadata": {},
   "outputs": [],
   "source": [
    "# Doy formato a las columnas\n",
    "final['id'] = final['id'].astype(int)\n",
    "final['fecha'] = pd.to_datetime(final['fecha'], format='%Y-%m-%d').dt.strftime('%Y-%m-%d')"
   ]
  },
  {
   "cell_type": "markdown",
   "metadata": {},
   "source": [
    "### CARGA"
   ]
  },
  {
   "cell_type": "code",
   "execution_count": 74,
   "metadata": {},
   "outputs": [
    {
     "name": "stderr",
     "output_type": "stream",
     "text": [
      "1it [00:05,  5.16s/it]\n"
     ]
    }
   ],
   "source": [
    "# Cargo la Tabla en la DDBB\n",
    "pd.io.gbq.to_gbq(final,destination_table='user_santiago_curat.swimlanes_argentina_history',project_id='peya-argentina',if_exists='append')"
   ]
  }
 ],
 "metadata": {
  "kernelspec": {
   "display_name": "Python 3",
   "language": "python",
   "name": "python3"
  },
  "language_info": {
   "codemirror_mode": {
    "name": "ipython",
    "version": 3
   },
   "file_extension": ".py",
   "mimetype": "text/x-python",
   "name": "python",
   "nbconvert_exporter": "python",
   "pygments_lexer": "ipython3",
   "version": "3.7.6"
  }
 },
 "nbformat": 4,
 "nbformat_minor": 4
}
