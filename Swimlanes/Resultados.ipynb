{
 "cells": [
  {
   "cell_type": "markdown",
   "metadata": {},
   "source": [
    "### IMPORTS"
   ]
  },
  {
   "cell_type": "code",
   "execution_count": 1,
   "metadata": {},
   "outputs": [],
   "source": [
    "import pandas as pd\n",
    "import numpy as np\n",
    "import pandas_gbq\n",
    "import datetime\n",
    "from dateutil.relativedelta import relativedelta\n",
    "import calendar\n",
    "from gspread_pandas import Spread, conf\n",
    "from Roster import *\n",
    "import seaborn as sns"
   ]
  },
  {
   "cell_type": "markdown",
   "metadata": {},
   "source": [
    "### CREDENCIALES"
   ]
  },
  {
   "cell_type": "code",
   "execution_count": 2,
   "metadata": {},
   "outputs": [],
   "source": [
    "cred = conf.get_config('C:\\\\Users\\\\santiago.curat\\\\Pandas\\\\PEYA', 'PedidosYa-8b8c4d19f61c.json')"
   ]
  },
  {
   "cell_type": "markdown",
   "metadata": {},
   "source": [
    "### CONSTANTES"
   ]
  },
  {
   "cell_type": "code",
   "execution_count": 11,
   "metadata": {},
   "outputs": [],
   "source": [
    "# Carga\n",
    "inicio = '2021-05-26'\n",
    "fin = '2021-05-30'"
   ]
  },
  {
   "cell_type": "markdown",
   "metadata": {},
   "source": [
    "### CARGA"
   ]
  },
  {
   "cell_type": "markdown",
   "metadata": {},
   "source": [
    "#### QUERIES"
   ]
  },
  {
   "cell_type": "code",
   "execution_count": 12,
   "metadata": {},
   "outputs": [],
   "source": [
    "q_carga = '''WITH sw_transaction AS (\n",
    "    SELECT st.fullVisitorId AS full_id,\n",
    "       st.visitId AS visit_id,\n",
    "       st.platform_DH AS platform,\n",
    "       DATE(st.date) AS day,\n",
    "       st.shopId AS shop_id,\n",
    "       st.transactions AS transactions\n",
    "FROM `peya-bi-tools-pro.il_sessions.fact_sessions_events_transaction` AS st\n",
    "WHERE DATE(st.date) BETWEEN DATE('{0}') AND DATE('{1}')\n",
    "      AND st.cdCountry = 'Argentina'\n",
    "      AND st.transactions > 0),\n",
    "    sw_clicked AS (\n",
    "    SELECT se.fullVisitorId AS full_id,\n",
    "        se.visitId AS visit_id,\n",
    "        se.platform_DH AS platform,\n",
    "        DATE(se.date) AS day,\n",
    "        se.cd20 AS shop_id,\n",
    "        MAX(IF(REGEXP_CONTAINS(LOWER(REPLACE(se.cd110,' (AR)','ar ')),'descubrirar'),1,0)) AS desc_clicked,\n",
    "        MAX(IF(REGEXP_CONTAINS(LOWER(REPLACE(se.cd110,' (AR)','ar ')),'exclusivosar'),1,0)) AS excl_clicked,\n",
    "        MAX(CASE WHEN st.transactions IS NOT NULL AND st.transactions >= 1 AND REGEXP_CONTAINS(LOWER(REPLACE(se.cd110,' (AR)','ar ')),'descubrirar') THEN 1 ELSE 0 END) AS desc_transaction,\n",
    "        MAX(CASE WHEN st.transactions IS NOT NULL AND st.transactions >= 1 AND REGEXP_CONTAINS(LOWER(REPLACE(se.cd110,' (AR)','ar ')),'exclusivosar') THEN 1 ELSE 0 END) AS excl_transaction\n",
    "    FROM `peya-bi-tools-pro.il_sessions.fact_sessions_events` AS se\n",
    "    LEFT JOIN sw_transaction AS st ON se.fullVisitorId = st.full_id\n",
    "                                    AND se.visitId = st.visit_id\n",
    "                                    AND se.platform_DH = st.platform\n",
    "                                    AND DATE(se.date) = st.day\n",
    "                                    AND se.cd20 = st.shop_id \n",
    "    WHERE DATE(se.date) BETWEEN DATE('{0}') AND DATE('{1}')\n",
    "        AND REGEXP_CONTAINS(LOWER(se.eventAction),'swimlane.clicked')\n",
    "        AND se.cdCountry = 'Argentina'\n",
    "        AND (REGEXP_CONTAINS(LOWER(REPLACE(se.cd110,' (AR)','ar ')),'descubrirar') OR REGEXP_CONTAINS(LOWER(REPLACE(se.cd110,' (AR)','ar ')),'exclusivosar'))\n",
    "    GROUP BY 1,2,3,4,5),\n",
    "    sw_showed AS (\n",
    "    SELECT se.fullVisitorId AS full_id,\n",
    "        se.visitId AS visit_id,\n",
    "        se.platform_DH AS platform,\n",
    "        DATE(se.date) AS day,\n",
    "        se.cdCountry AS country,\n",
    "        se.cdCity AS city,\n",
    "        se.cdArea AS area,\n",
    "        MAX(IF(REGEXP_CONTAINS(LOWER(REPLACE(se.cd111,' (AR)','ar ')),'descubrirar') OR REGEXP_CONTAINS(LOWER(REPLACE(se.cd188,' (AR)','ar ')),'descubrirar'),1,0)) AS desc_shown,\n",
    "        MAX(IF(REGEXP_CONTAINS(LOWER(REPLACE(se.cd111,' (AR)','ar ')),'exclusivosar') OR REGEXP_CONTAINS(LOWER(REPLACE(se.cd188,' (AR)','ar ')),'exclusivosar'),1,0)) AS excl_shown,\n",
    "        SUM(IF(REGEXP_CONTAINS(LOWER(REPLACE(se.cd111,' (AR)','ar ')),'descubrirar') OR REGEXP_CONTAINS(LOWER(REPLACE(se.cd188,' (AR)','ar ')),'descubrirar'),1,0)) AS desc_shown_total,\n",
    "        SUM(IF(REGEXP_CONTAINS(LOWER(REPLACE(se.cd111,' (AR)','ar ')),'exclusivosar') OR REGEXP_CONTAINS(LOWER(REPLACE(se.cd188,' (AR)','ar ')),'exclusivosar'),1,0)) AS excl_shown_total\n",
    "    FROM `peya-bi-tools-pro.il_sessions.fact_sessions_events` AS se\n",
    "    WHERE DATE(se.date) BETWEEN DATE('{0}') AND DATE('{1}')\n",
    "        AND se.cdCountry = 'Argentina'\n",
    "        AND se.eventAction IN ('shop_list.loaded','shop_list.updated')\n",
    "        AND (REGEXP_CONTAINS(LOWER(REPLACE(se.cd111,' (AR)','ar ')),'descubrirar') OR REGEXP_CONTAINS(LOWER(REPLACE(se.cd111,' (AR)','ar ')),'exclusivosar'))\n",
    "    GROUP BY 1,2,3,4,5,6,7)\n",
    "SELECT ss.country AS Country,\n",
    "       ss.city AS City,\n",
    "       a.area_name AS Area,\n",
    "       ss.platform AS Platform,\n",
    "       SUBSTR(CAST(ss.day AS STRING),1,7) AS Month,\n",
    "       ss.day AS Fecha,\n",
    "       SUM(ss.excl_shown) AS Excl_Shown,\n",
    "       SUM(ss.desc_shown) AS Desc_Shown,\n",
    "       SUM(ss.excl_shown_total) AS Excl_Shown_Total,\n",
    "       SUM(ss.desc_shown_total) AS Desc_Shown_Total,\n",
    "       COUNT(DISTINCT(CASE WHEN sc.excl_clicked = 1 THEN CONCAT(IFNULL(sc.full_id,'-'),IFNULL(CAST(sc.visit_id AS STRING),'-'),IFNULL(sc.platform,'-'),IFNULL(CAST(sc.day AS STRING),'-')) ELSE NULL END)) AS Excl_Clicked,\n",
    "       COUNT(DISTINCT(CASE WHEN sc.desc_clicked = 1 THEN CONCAT(IFNULL(sc.full_id,'-'),IFNULL(CAST(sc.visit_id AS STRING),'-'),IFNULL(sc.platform,'-'),IFNULL(CAST(sc.day AS STRING),'-')) ELSE NULL END)) AS Desc_Clicked,\n",
    "       COUNT(DISTINCT(CASE WHEN sc.excl_transaction = 1 THEN CONCAT(IFNULL(sc.full_id,'-'),IFNULL(CAST(sc.visit_id AS STRING),'-'),IFNULL(sc.platform,'-'),IFNULL(CAST(sc.day AS STRING),'-')) ELSE NULL END)) AS Excl_Transaction,\n",
    "       COUNT(DISTINCT(CASE WHEN sc.desc_transaction = 1 THEN CONCAT(IFNULL(sc.full_id,'-'),IFNULL(CAST(sc.visit_id AS STRING),'-'),IFNULL(sc.platform,'-'),IFNULL(CAST(sc.day AS STRING),'-')) ELSE NULL END)) AS Desc_Transaction,\n",
    "       COALESCE(SUM(sc.excl_clicked),0) AS Excl_Clicked_Total,\n",
    "       COALESCE(SUM(sc.desc_clicked),0) AS Desc_Clicked_Total,\n",
    "       COALESCE(SUM(sc.excl_transaction),0) AS Excl_Transaction_Total,\n",
    "       COALESCE(SUM(sc.desc_transaction),0) AS Desc_Transaction_Total\n",
    "FROM sw_showed AS ss\n",
    "LEFT JOIN sw_clicked AS sc ON ss.full_id = sc.full_id \n",
    "                           AND ss.visit_id = sc.visit_id\n",
    "                           AND ss.platform = sc.platform\n",
    "                           AND ss.day = sc.day\n",
    "LEFT JOIN `peya-bi-tools-pro.il_core.dim_area` AS a ON ss.area = CAST(a.area_id AS STRING)\n",
    "GROUP BY 1,2,3,4,5,6'''.format(inicio,fin)"
   ]
  },
  {
   "cell_type": "code",
   "execution_count": 13,
   "metadata": {},
   "outputs": [
    {
     "name": "stderr",
     "output_type": "stream",
     "text": [
      "Downloading: 100%|███████████████████████████████████████████████████████████| 40983/40983 [00:08<00:00, 4922.01rows/s]\n"
     ]
    }
   ],
   "source": [
    "# Descargo la data\n",
    "hue_carga = pd.io.gbq.read_gbq(q_carga, project_id='peya-argentina', dialect='standard')"
   ]
  },
  {
   "cell_type": "code",
   "execution_count": 14,
   "metadata": {},
   "outputs": [],
   "source": [
    "# Copio las bases\n",
    "carga = hue_carga.copy()"
   ]
  },
  {
   "cell_type": "markdown",
   "metadata": {},
   "source": [
    "#### CARGA DE TABLA PERSONAL"
   ]
  },
  {
   "cell_type": "code",
   "execution_count": 15,
   "metadata": {},
   "outputs": [
    {
     "name": "stderr",
     "output_type": "stream",
     "text": [
      "1it [00:18, 18.02s/it]\n"
     ]
    }
   ],
   "source": [
    "# Cargo la Tabla en la DDBB\n",
    "pd.io.gbq.to_gbq(carga,destination_table='user_santiago_curat.swimlanes_argentina_resultados',project_id='peya-argentina',if_exists='append')"
   ]
  },
  {
   "cell_type": "markdown",
   "metadata": {},
   "source": [
    "### ETAPA DE TRABAJO"
   ]
  },
  {
   "cell_type": "markdown",
   "metadata": {},
   "source": [
    "#### QUERIES"
   ]
  },
  {
   "cell_type": "code",
   "execution_count": 26,
   "metadata": {},
   "outputs": [],
   "source": [
    "q_res = '''SELECT slr.Country AS Country,\n",
    "       slr.City AS City,\n",
    "       slr.Area AS Area,\n",
    "       slr.Platform AS Platform,\n",
    "       slr.Month AS Month,\n",
    "       DATE(slr.fecha) AS Fecha,\n",
    "       slr.Excl_Shown AS Excl_Shown,\n",
    "       slr.Desc_Shown AS Desc_Shown,\n",
    "       slr.Excl_Shown_Total AS Excl_Shown_Total,\n",
    "       slr.Desc_Shown_Total AS Desc_Shown_Total,\n",
    "       slr.Excl_Clicked AS Excl_Clicked,\n",
    "       slr.Desc_Clicked AS Desc_Clicked,\n",
    "       slr.Excl_Transaction AS Excl_Transaction,\n",
    "       slr.Desc_Transaction AS Desc_Transaction,\n",
    "       slr.Excl_Clicked_Total AS Excl_Clicked_Total,\n",
    "       slr.Desc_Clicked_Total AS Desc_Clicked_Total,\n",
    "       slr.Excl_Transaction_Total AS Excl_Transaction_Total,\n",
    "       slr.Desc_Transaction_Total AS Desc_Transaction_Total\n",
    "FROM `peya-argentina.user_santiago_curat.swimlanes_argentina_resultados` AS slr'''"
   ]
  },
  {
   "cell_type": "code",
   "execution_count": 17,
   "metadata": {},
   "outputs": [
    {
     "name": "stderr",
     "output_type": "stream",
     "text": [
      "Downloading: 100%|█████████████████████████████████████████████████████████| 289295/289295 [00:47<00:00, 6141.46rows/s]\n"
     ]
    }
   ],
   "source": [
    "# Descargo la data\n",
    "hue_res = pd.io.gbq.read_gbq(q_res, project_id='peya-argentina', dialect='standard')"
   ]
  },
  {
   "cell_type": "code",
   "execution_count": 18,
   "metadata": {},
   "outputs": [],
   "source": [
    "# Copio las bases\n",
    "res = hue_res.copy()"
   ]
  },
  {
   "cell_type": "markdown",
   "metadata": {},
   "source": [
    "#### TRABAJO"
   ]
  },
  {
   "cell_type": "code",
   "execution_count": 20,
   "metadata": {},
   "outputs": [],
   "source": [
    "# Doy formato a la fecha\n",
    "res['Fecha'] = pd.to_datetime(res['Fecha'], format='%Y-%m-%d').dt.strftime('%Y-%m-%d')"
   ]
  },
  {
   "cell_type": "code",
   "execution_count": 23,
   "metadata": {},
   "outputs": [],
   "source": [
    "# Creo columnas\n",
    "val = ['Excl_Shown','Desc_Shown','Excl_Clicked','Desc_Clicked','Excl_Transaction','Desc_Transaction']\n",
    "pt = res.pivot_table(index=['Fecha'],values=val,aggfunc='sum',fill_value=0).reset_index()\n",
    "pt['CTR_Desc'] = round(pt['Desc_Clicked'] / pt['Desc_Shown'] * 100,2)\n",
    "pt['CTR_Excl'] = round(pt['Excl_Clicked'] / pt['Excl_Shown'] * 100,2)\n",
    "pt['CVR_Desc'] = round(pt['Desc_Transaction'] / pt['Desc_Clicked'] * 100,2)\n",
    "pt['CVR_Excl'] = round(pt['Excl_Transaction'] / pt['Excl_Clicked'] * 100,2)\n",
    "pt.replace([np.nan,np.inf,-np.inf],0,inplace=True)"
   ]
  },
  {
   "cell_type": "code",
   "execution_count": null,
   "metadata": {},
   "outputs": [],
   "source": []
  }
 ],
 "metadata": {
  "kernelspec": {
   "display_name": "Python 3",
   "language": "python",
   "name": "python3"
  },
  "language_info": {
   "codemirror_mode": {
    "name": "ipython",
    "version": 3
   },
   "file_extension": ".py",
   "mimetype": "text/x-python",
   "name": "python",
   "nbconvert_exporter": "python",
   "pygments_lexer": "ipython3",
   "version": "3.7.6"
  }
 },
 "nbformat": 4,
 "nbformat_minor": 4
}
