{
 "cells": [
  {
   "cell_type": "markdown",
   "metadata": {},
   "source": [
    "### IMPORTS"
   ]
  },
  {
   "cell_type": "code",
   "execution_count": 1,
   "metadata": {},
   "outputs": [],
   "source": [
    "import pandas as pd\n",
    "import numpy as np\n",
    "import pandas_gbq\n",
    "import datetime\n",
    "from dateutil.relativedelta import relativedelta\n",
    "import calendar\n",
    "from gspread_pandas import Spread, conf\n",
    "from Roster import *"
   ]
  },
  {
   "cell_type": "markdown",
   "metadata": {},
   "source": [
    "### CREDENCIALES"
   ]
  },
  {
   "cell_type": "code",
   "execution_count": 39,
   "metadata": {},
   "outputs": [],
   "source": [
    "cred = conf.get_config('C:\\\\Users\\\\santiago.curat\\\\Pandas\\\\PEYA', 'PedidosYa-8b8c4d19f61c.json')"
   ]
  },
  {
   "cell_type": "markdown",
   "metadata": {},
   "source": [
    "### GOOGLE SHEETS"
   ]
  },
  {
   "cell_type": "code",
   "execution_count": 40,
   "metadata": {},
   "outputs": [],
   "source": [
    "# Exclusivos PEYA\n",
    "sheet_id = '1AJ_7hjnh8Q7rf_xp792VcH8pZL_1iUeGZYH7r9QbF1A'\n",
    "wks_name = 'Exclusivos'\n",
    "sheet = Spread(sheet_id, wks_name, config=cred)\n",
    "exclusivos = sheet.sheet_to_df(index=0,header_rows=1)"
   ]
  },
  {
   "cell_type": "code",
   "execution_count": 41,
   "metadata": {},
   "outputs": [],
   "source": [
    "# Partners PEYA\n",
    "sheet_id = '1HmAvHYbJJa3JyRTgRJGKXataQB_TvFwNzyo8a6qXd2o'\n",
    "wks_name = 'Partners PEYA'\n",
    "sheet = Spread(sheet_id, wks_name, config=cred)\n",
    "partners = sheet.sheet_to_df(index=0,header_rows=1)"
   ]
  },
  {
   "cell_type": "code",
   "execution_count": 42,
   "metadata": {},
   "outputs": [],
   "source": [
    "# Hago lista de exclusivos\n",
    "list_excl = exclusivos[exclusivos.columns[0]].unique().tolist()"
   ]
  },
  {
   "cell_type": "code",
   "execution_count": 43,
   "metadata": {},
   "outputs": [],
   "source": [
    "# Hago lista de KAM\n",
    "partners['Id'] = partners['Id'].astype(int)\n",
    "list_kam = partners[partners['KAM'] == 'Si']['Id'].unique().tolist()"
   ]
  },
  {
   "cell_type": "markdown",
   "metadata": {},
   "source": [
    "### CONSTANTES"
   ]
  },
  {
   "cell_type": "code",
   "execution_count": 2,
   "metadata": {},
   "outputs": [],
   "source": [
    "# Fechas\n",
    "today = datetime.date.today()\n",
    "ilm = str((today - relativedelta(months=1)).replace(day=1))\n",
    "flm = str(today - relativedelta(days=today.day))"
   ]
  },
  {
   "cell_type": "markdown",
   "metadata": {},
   "source": [
    "### FILTROS Y FUNCIONES"
   ]
  },
  {
   "cell_type": "code",
   "execution_count": 45,
   "metadata": {},
   "outputs": [],
   "source": [
    "# Exclusivos (Todos Online - Concept)\n",
    "filtro_exc = {'Avg_Rating_Food': 4, 'VFR': 0.05, 'CVR': 0.08, 'Sessions': 20}\n",
    "# Descubrir (Todos Online, Logisticos, con PO, NO KAM y con Voucher)\n",
    "filtro_desc = {'Avg_Rating': 4, 'VFR': 0.05, 'CVR': 0.08, 'Sessions': 20}"
   ]
  },
  {
   "cell_type": "code",
   "execution_count": 46,
   "metadata": {},
   "outputs": [],
   "source": [
    "def filtrado_excl(i):\n",
    "    if i['Online'] == 'No':\n",
    "        val_gen = 'No'\n",
    "        val_fin = 'No'\n",
    "    elif (i['Avg_Rating_Food'] >= filtro_exc['Avg_Rating_Food']) and (i['VFR'] <= filtro_exc['VFR']) and (i['CVR'] >= filtro_exc['CVR']) and (i['Sessions'] >= filtro_exc['Sessions']):\n",
    "        val_gen = 'Si'\n",
    "        val_fin = 'Si'\n",
    "    else:\n",
    "        val_gen = 'Si'\n",
    "        val_fin = 'No'\n",
    "    return pd.Series([val_gen,val_fin])\n",
    "def filtrado_desc(i):\n",
    "    if (i['Online'] == 'No') or (i['Logistic'] == 'No') or (i['Has_PO'] == 'No') or (i['KAM'] == 'Si') or (i['Accepts_Vouchers'] == 'No'):\n",
    "        val_gen = 'No'\n",
    "        val_fin = 'No'\n",
    "    elif (i['Avg_Rating'] >= filtro_desc['Avg_Rating']) and (i['VFR'] <= filtro_desc['VFR']) and (i['CVR'] >= filtro_desc['CVR']) and (i['Sessions'] >= filtro_desc['Sessions']):\n",
    "        val_gen = 'Si'\n",
    "        val_fin = 'Si'\n",
    "    else:\n",
    "        val_gen = 'Si'\n",
    "        val_fin = 'No'\n",
    "    return pd.Series([val_gen,val_fin])\n",
    "def score_excl(i):\n",
    "    if i['Concept'] == 'Si':\n",
    "        val = np.inf\n",
    "    else:\n",
    "        val = (i['Confirmed']**0.1)*(i['Take In']**0.1)*((1-i['VFR'])**0.5)*(i['Avg_Rating']**0.3)\n",
    "    return val\n",
    "def score_desc(i):\n",
    "    val = (i['CVR']/0.2)*(2/3)+((i['Confirmed'] / i['Active_Users'])/1.4)*(1/3)\n",
    "    return val"
   ]
  },
  {
   "cell_type": "markdown",
   "metadata": {},
   "source": [
    "### QUERIES"
   ]
  },
  {
   "cell_type": "code",
   "execution_count": 47,
   "metadata": {},
   "outputs": [],
   "source": [
    "q = '''WITH orders_table AS (\n",
    "    SELECT o.restaurant.id AS id,\n",
    "           COUNT(DISTINCT o.order_id) AS total,\n",
    "           COUNT(DISTINCT CASE WHEN o.order_status = 'CONFIRMED' THEN o.order_id ELSE NULL END) AS confirmed,\n",
    "           COUNT(DISTINCT CASE WHEN o.order_status IN ('REJECTED','PENDING','CANCELLED') THEN o.order_id ELSE NULL END) AS vfr_num,\n",
    "           COUNT(DISTINCT CASE WHEN o.order_status = 'CONFIRMED' THEN o.user.id ELSE NULL END) AS active_users,\n",
    "           SUM(CASE WHEN o.order_status = 'CONFIRMED' THEN o.commission_amount ELSE 0 END) AS revenue\n",
    "    FROM `peya-bi-tools-pro.il_core.fact_orders` AS o\n",
    "    WHERE o.country_id = 3\n",
    "          AND o.registered_date BETWEEN DATE('{0}') AND DATE('{1}')\n",
    "    GROUP BY 1),\n",
    "    pm_table AS (\n",
    "    SELECT pm.restaurant_id AS id,\n",
    "           CASE WHEN pm.is_online AND pm.has_confirmed_orders = FALSE THEN 'Si' ELSE 'No' END AS Zombie,\n",
    "           CASE WHEN pm.is_new_online THEN 'Si' ELSE 'No' END AS New_Online,\n",
    "           CASE WHEN pm.is_churned THEN 'Si' ELSE 'No' END AS Churn\n",
    "    FROM `peya-bi-tools-pro.il_core.fact_partners_monthly` AS pm\n",
    "    WHERE DATE(pm.full_date) BETWEEN DATE('{0}') AND DATE('{1}')),\n",
    "    sessions_table AS (\n",
    "    SELECT sbr.restaurant_id AS id,\n",
    "           SUM(sbr.sessions) AS sessions,\n",
    "           SUM(sbr.unique_orders) AS transactions\n",
    "    FROM `peya-bi-tools-pro.il_sessions.fact_sessions_by_restaurant` AS sbr\n",
    "    LEFT JOIN `peya-bi-tools-pro.il_core.dim_partner` AS p ON sbr.restaurant_id = p.partner_id\n",
    "    WHERE sbr.date BETWEEN DATE('{0}') AND DATE('{1}')\n",
    "          AND p.country_id = 3\n",
    "    GROUP BY 1)\n",
    "SELECT p.partner_id AS Id,\n",
    "       p.salesforce_id AS Grid,\n",
    "       p.city.name AS City,\n",
    "       a.area_name AS Area,\n",
    "       p.partner_name AS Name,\n",
    "       IFNULL(p.franchise.franchise_name,'-') AS Franchise,\n",
    "       CASE WHEN p.is_online THEN 'Si' ELSE 'No' END AS Online,\n",
    "       CASE WHEN p.accepts_and_supports_vouchers THEN 'Si' ELSE 'No' END AS Accepts_Vouchers,\n",
    "       CASE WHEN p.has_online_payment THEN 'Si' ELSE 'No' END AS Has_PO,\n",
    "       CASE WHEN p.is_logistic THEN 'Si' ELSE 'No' END AS Logistic,\n",
    "       CASE WHEN p.is_concept THEN 'Si' ELSE 'No' END AS Concept,\n",
    "       IFNULL(p.business_type.business_type_name,'-') AS Business,\n",
    "       IFNULL(p.main_cousine_category_name,'-') AS Main_Cuisine,\n",
    "       IFNULL(CAST(p.billingInfo.partner_commission AS STRING),'-') AS Commission,\n",
    "       IFNULL(CAST(p.first_date_online AS STRING),'-') AS First_Date_Online,\n",
    "       IFNULL(pm.Zombie,'No') AS Zombie,\n",
    "       IFNULL(pm.New_Online,'No') AS New_Online,\n",
    "       IFNULL(pm.Churn,'No') AS Churn,\n",
    "       IFNULL(p.avg_rating,0) AS Avg_Rating,\n",
    "       IFNULL(p.avg_rating_speed,0) AS Avg_Rating_Speed,\n",
    "       IFNULL(p.avg_rating_food,0) AS Avg_Rating_Food,\n",
    "       IFNULL(p.avg_rating_service,0) AS Avg_Rating_Service,\n",
    "       IFNULL(ot.total,0) AS Total,\n",
    "       IFNULL(ot.confirmed,0) AS Confirmed,\n",
    "       IFNULL(ot.vfr_num,0) AS VFR_Num,\n",
    "       IFNULL(ot.active_users,0) AS Active_Users,\n",
    "       IFNULL(ot.revenue,0) AS Revenue,\n",
    "       IFNULL(st.sessions,0) AS Sessions,\n",
    "       IFNULL(st.transactions,0) AS Transactions\n",
    "FROM `peya-bi-tools-pro.il_core.dim_partner` AS p\n",
    "LEFT JOIN orders_table AS ot ON p.partner_id = ot.id\n",
    "LEFT JOIN `peya-bi-tools-pro.il_core.dim_area` AS a ON p.address.area_id = a.area_id\n",
    "LEFT JOIN pm_table AS pm ON p.partner_id = pm.id\n",
    "LEFT JOIN sessions_table AS st ON p.partner_id = st.id\n",
    "WHERE p.country_id = 3\n",
    "      AND p.salesforce_id IS NOT NULL'''.format(ilm,flm)"
   ]
  },
  {
   "cell_type": "code",
   "execution_count": 53,
   "metadata": {},
   "outputs": [
    {
     "name": "stderr",
     "output_type": "stream",
     "text": [
      "Downloading: 100%|███████████████████████████████████████████████████████████| 70669/70669 [00:19<00:00, 3695.09rows/s]\n"
     ]
    }
   ],
   "source": [
    "# Descargo la data\n",
    "hue = pd.io.gbq.read_gbq(q, project_id='peya-argentina', dialect='standard')"
   ]
  },
  {
   "cell_type": "code",
   "execution_count": 79,
   "metadata": {},
   "outputs": [],
   "source": [
    "# Copio las bases\n",
    "crudo = hue.copy()"
   ]
  },
  {
   "cell_type": "markdown",
   "metadata": {},
   "source": [
    "### TRABAJO"
   ]
  },
  {
   "cell_type": "markdown",
   "metadata": {},
   "source": [
    "#### GENERAL"
   ]
  },
  {
   "cell_type": "code",
   "execution_count": 80,
   "metadata": {},
   "outputs": [],
   "source": [
    "# Marco los partners Exclusivos\n",
    "crudo['Exclusividad'] = crudo['Grid'].apply(lambda x: 'Si' if x in list_excl else 'No')\n",
    "# Marco las KAM\n",
    "crudo['Id'] = crudo['Id'].astype(int)\n",
    "crudo['KAM'] = crudo['Id'].apply(lambda x: 'Si' if x in list_kam else 'No')"
   ]
  },
  {
   "cell_type": "code",
   "execution_count": 81,
   "metadata": {},
   "outputs": [],
   "source": [
    "# Doy formato a las columnas\n",
    "cols = ['Avg_Rating','Avg_Rating_Speed','Avg_Rating_Food','Avg_Rating_Service','Total','Confirmed','VFR_Num',\n",
    "        'Active_Users','Revenue','Sessions','Transactions']\n",
    "crudo[cols] = crudo[cols].astype(float)\n",
    "# Creo las columnas faltantes\n",
    "crudo['CVR'] = crudo['Transactions'] / crudo['Sessions']\n",
    "crudo['Take In'] = crudo['Revenue'] / crudo['Confirmed']\n",
    "crudo['VFR'] = crudo['VFR_Num'] / crudo['Total']\n",
    "crudo.replace([np.nan,np.inf,-np.inf],0,inplace=True)\n",
    "# Coloco el Feudo y Reino\n",
    "crudo['Feudo'] = crudo.apply(feudos,axis=1)\n",
    "crudo['Reino'] = crudo.apply(reinos,axis=1)"
   ]
  },
  {
   "cell_type": "code",
   "execution_count": 82,
   "metadata": {},
   "outputs": [],
   "source": [
    "# Separo los Exclusivos de los No Exclusivos y filtro solo Restaurants\n",
    "excl = crudo[((crudo['Exclusividad'] == 'Si')|(crudo['Concept'] == 'Si'))&(crudo['Business'] == 'Restaurant')].copy()\n",
    "desc = crudo[((crudo['Exclusividad'] == 'No')&(crudo['Concept'] == 'No'))&(crudo['Business'] == 'Restaurant')].copy()"
   ]
  },
  {
   "cell_type": "code",
   "execution_count": 83,
   "metadata": {},
   "outputs": [],
   "source": [
    "# Hago el Filtro General de cada grupo\n",
    "excl[['Filtro General','Filtro']] = excl.apply(filtrado_excl,axis=1)\n",
    "desc[['Filtro General','Filtro']] = desc.apply(filtrado_desc,axis=1)\n",
    "# Me quedo con los que pasaron el filtro\n",
    "excl_fil = excl[excl['Filtro'] == 'Si'].copy()\n",
    "desc_fil = desc[desc['Filtro'] == 'Si'].copy()"
   ]
  },
  {
   "cell_type": "code",
   "execution_count": 84,
   "metadata": {},
   "outputs": [],
   "source": [
    "# Hago el Scoring de cada grupo\n",
    "excl_fil['Score'] = excl_fil.apply(score_excl,axis=1)\n",
    "desc_fil['Score'] = desc_fil.apply(score_desc,axis=1)"
   ]
  },
  {
   "cell_type": "code",
   "execution_count": 85,
   "metadata": {},
   "outputs": [],
   "source": [
    "# Hago el Ranking de cada grupo\n",
    "excl_fil['Jerarquia'] = excl_fil.groupby(['City','Area'])['Score'].rank(ascending=False)\n",
    "desc_fil['Jerarquia'] = desc_fil.groupby(['City','Area'])['Score'].rank(ascending=False)"
   ]
  },
  {
   "cell_type": "code",
   "execution_count": 86,
   "metadata": {},
   "outputs": [],
   "source": [
    "# Ordeno los Partners por City,Area y Ranking\n",
    "cols = ['City','Area','Jerarquia']\n",
    "excl_fil.sort_values(by=cols,inplace=True)\n",
    "desc_fil.sort_values(by=cols,inplace=True)"
   ]
  },
  {
   "cell_type": "markdown",
   "metadata": {},
   "source": [
    "#### PT DE RESUMEN"
   ]
  },
  {
   "cell_type": "code",
   "execution_count": 87,
   "metadata": {},
   "outputs": [],
   "source": [
    "# Creo una PT de Resumen por grupo\n",
    "pt_excl = excl_fil.pivot_table(index=['Reino','Feudo','City','Area'],values=['Id'],aggfunc='size',fill_value=0).reset_index()\n",
    "pt_desc = desc_fil.pivot_table(index=['Reino','Feudo','City','Area'],values=['Id'],aggfunc='size',fill_value=0).reset_index()\n",
    "# Cambio nombre a las columnas\n",
    "cols_excl = list(pt_excl.columns[:-1]) + ['Partners Exclusivos']\n",
    "cols_desc = list(pt_desc.columns[:-1]) + ['Partners Descubrir']\n",
    "pt_excl.columns = cols_excl\n",
    "pt_desc.columns = cols_desc\n",
    "# Uno ambas PT \n",
    "pt = pt_desc.merge(pt_excl,on=['Reino','Feudo','City','Area'],how='outer')\n",
    "pt.replace([np.nan,np.inf,-np.inf],0,inplace=True)"
   ]
  },
  {
   "cell_type": "markdown",
   "metadata": {},
   "source": [
    "#### ANALISIS CASCADA DE PARTNERS"
   ]
  },
  {
   "cell_type": "code",
   "execution_count": 88,
   "metadata": {},
   "outputs": [],
   "source": [
    "# Hago un analisis de cascada para la salida de Partners\n",
    "cascada = {}\n",
    "cascada['Inicial'] = crudo.shape[0]\n",
    "cascada['Restaurants'] = crudo[crudo['Business'] == 'Restaurant'].shape[0]\n",
    "cascada['Exclusivos Inicial'] = excl.shape[0]\n",
    "cascada['Descubrir Inicial'] = desc.shape[0]\n",
    "cascada['Exclusivos Filtro General'] = excl[excl['Filtro General'] == 'Si'].shape[0]\n",
    "cascada['Descubrir Filtro General'] = desc[desc['Filtro General'] == 'Si'].shape[0]\n",
    "cascada['Exclusivos Filtro'] = excl[excl['Filtro'] == 'Si'].shape[0]\n",
    "cascada['Descubrir Filtro'] = desc[desc['Filtro'] == 'Si'].shape[0]\n",
    "# Creo un DataFrame con la cascada\n",
    "cascada = pd.DataFrame.from_dict(cascada,orient='index').reset_index()\n",
    "cascada.columns = ['Etapa','Partners']"
   ]
  },
  {
   "cell_type": "markdown",
   "metadata": {},
   "source": [
    "### CARGA"
   ]
  },
  {
   "cell_type": "code",
   "execution_count": 93,
   "metadata": {},
   "outputs": [],
   "source": [
    "# Carga Exclusivos\n",
    "sheet_id = '1bTm4jQQ-VQ2hNX_HeCTgRY3YDhkXDHN3X36-lS178A0'\n",
    "wks_name = 'Exclusivos'\n",
    "sheet = Spread(sheet_id, wks_name, config=cred)\n",
    "sheet.df_to_sheet(excl_fil, index=False, sheet=wks_name, replace=True)"
   ]
  },
  {
   "cell_type": "code",
   "execution_count": 94,
   "metadata": {},
   "outputs": [],
   "source": [
    "# Carga Descubrimientos\n",
    "sheet_id = '1bTm4jQQ-VQ2hNX_HeCTgRY3YDhkXDHN3X36-lS178A0'\n",
    "wks_name = 'Descubrimientos'\n",
    "sheet = Spread(sheet_id, wks_name, config=cred)\n",
    "sheet.df_to_sheet(desc_fil, index=False, sheet=wks_name, replace=True)"
   ]
  },
  {
   "cell_type": "code",
   "execution_count": 95,
   "metadata": {},
   "outputs": [],
   "source": [
    "# Carga PT\n",
    "sheet_id = '1bTm4jQQ-VQ2hNX_HeCTgRY3YDhkXDHN3X36-lS178A0'\n",
    "wks_name = 'PT'\n",
    "sheet = Spread(sheet_id, wks_name, config=cred)\n",
    "sheet.df_to_sheet(pt, index=False, sheet=wks_name, replace=True)"
   ]
  },
  {
   "cell_type": "code",
   "execution_count": 96,
   "metadata": {},
   "outputs": [],
   "source": [
    "# Carga Cascada\n",
    "sheet_id = '1bTm4jQQ-VQ2hNX_HeCTgRY3YDhkXDHN3X36-lS178A0'\n",
    "wks_name = 'Cascada'\n",
    "sheet = Spread(sheet_id, wks_name, config=cred)\n",
    "sheet.df_to_sheet(cascada, index=False, sheet=wks_name, replace=True)"
   ]
  }
 ],
 "metadata": {
  "kernelspec": {
   "display_name": "Python 3",
   "language": "python",
   "name": "python3"
  },
  "language_info": {
   "codemirror_mode": {
    "name": "ipython",
    "version": 3
   },
   "file_extension": ".py",
   "mimetype": "text/x-python",
   "name": "python",
   "nbconvert_exporter": "python",
   "pygments_lexer": "ipython3",
   "version": "3.8.5"
  }
 },
 "nbformat": 4,
 "nbformat_minor": 4
}
