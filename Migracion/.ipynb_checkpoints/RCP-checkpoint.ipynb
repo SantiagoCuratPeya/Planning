{
 "cells": [
  {
   "cell_type": "markdown",
   "metadata": {},
   "source": [
    "### IMPORTS"
   ]
  },
  {
   "cell_type": "code",
   "execution_count": 1,
   "metadata": {},
   "outputs": [],
   "source": [
    "import pandas as pd\n",
    "import numpy as np\n",
    "import pandas_gbq\n",
    "import datetime\n",
    "from dateutil.relativedelta import relativedelta\n",
    "import calendar\n",
    "from gspread_pandas import Spread, conf"
   ]
  },
  {
   "cell_type": "markdown",
   "metadata": {},
   "source": [
    "### CREDENCIALES"
   ]
  },
  {
   "cell_type": "code",
   "execution_count": 2,
   "metadata": {},
   "outputs": [],
   "source": [
    "cred = conf.get_config('C:\\\\Users\\\\micaela.fuchs\\\\Anaconda', 'PedidosYa-6e661fd93faf.json')"
   ]
  },
  {
   "cell_type": "markdown",
   "metadata": {},
   "source": [
    "### GOOGLE SHEETS"
   ]
  },
  {
   "cell_type": "code",
   "execution_count": 3,
   "metadata": {},
   "outputs": [],
   "source": [
    "# Partners PEYA\n",
    "sheet_id = '1HmAvHYbJJa3JyRTgRJGKXataQB_TvFwNzyo8a6qXd2o'\n",
    "wks_name = 'Partners PEYA'\n",
    "sheet = Spread(sheet_id, wks_name, config=cred)\n",
    "partners = sheet.sheet_to_df(index=0,header_rows=1)"
   ]
  },
  {
   "cell_type": "code",
   "execution_count": 4,
   "metadata": {},
   "outputs": [],
   "source": [
    "# Stats PEYA\n",
    "sheet_id = '1PO5kGLgz5Xn_WNCQQB0OPcKCl7KeS7kMrkJaGxafqmY'\n",
    "wks_name = 'Stats PEYA'\n",
    "sheet = Spread(sheet_id, wks_name, config=cred)\n",
    "stats = sheet.sheet_to_df(index=0,header_rows=1)"
   ]
  },
  {
   "cell_type": "code",
   "execution_count": 5,
   "metadata": {},
   "outputs": [],
   "source": [
    "# RCP\n",
    "sheet_id = '1JNywQTVzEQKRwqrJRkpzjiXx5Ly-FldtBMfeSYHuL7w'\n",
    "wks_name = 'RCP'\n",
    "sheet = Spread(sheet_id, wks_name, config=cred)\n",
    "rcp = sheet.sheet_to_df(index=0,header_rows=1)"
   ]
  },
  {
   "cell_type": "code",
   "execution_count": 6,
   "metadata": {},
   "outputs": [],
   "source": [
    "# Trabajo RCP\n",
    "rcp = [i.upper() for i in rcp[rcp.columns[0]]]"
   ]
  },
  {
   "cell_type": "markdown",
   "metadata": {},
   "source": [
    "### TRABAJO"
   ]
  },
  {
   "cell_type": "code",
   "execution_count": 7,
   "metadata": {},
   "outputs": [],
   "source": [
    "# Filtro las columnas de stats\n",
    "cols = ['Confirmed LM','Confirmed TM','VFR_Num LM','VFR_Num TM','Total TM','Total LM','Dias_Online LM','Dias_Online TM',\n",
    "        'Sessions LM','Sessions TM','Closed_Time LM','Closed_Time TM','Scheduled_Time LM','Scheduled_Time TM']\n",
    "stats = stats[['Id']+cols+['Fecha_Cierre']].copy()\n",
    "# Doy formato a las columnas\n",
    "stats[cols] = stats[cols].astype(float)"
   ]
  },
  {
   "cell_type": "code",
   "execution_count": 8,
   "metadata": {},
   "outputs": [],
   "source": [
    "# Doy formato a las columnas para unir las tablas\n",
    "partners['Id'] = partners['Id'].astype(int)\n",
    "stats['Id'] = stats['Id'].astype(int)\n",
    "# Uno las tablas\n",
    "final = partners.merge(stats,on=['Id'],how='left')"
   ]
  },
  {
   "cell_type": "code",
   "execution_count": 9,
   "metadata": {},
   "outputs": [],
   "source": [
    "# Filtro las cuentas de RCP\n",
    "final = final[final['Account_Owner'].isin(rcp)].copy()"
   ]
  },
  {
   "cell_type": "code",
   "execution_count": 10,
   "metadata": {},
   "outputs": [],
   "source": [
    "# Creo las columnas faltantes\n",
    "final['%Closed_Time LM'] = final['Closed_Time LM'] / final['Scheduled_Time LM']\n",
    "final['%Closed_Time TM'] = final['Closed_Time TM'] / final['Scheduled_Time TM']\n",
    "final.replace([np.nan,np.inf,-np.inf],'-',inplace=True)"
   ]
  },
  {
   "cell_type": "code",
   "execution_count": 11,
   "metadata": {},
   "outputs": [],
   "source": [
    "# Cambio el formato a las columnas\n",
    "cols_int = ['Dias_Online TM','Dias_Online LM','Confirmed TM','Confirmed LM','VFR_Num TM','VFR_Num LM','Sessions TM','Sessions LM',\n",
    "            'Total TM','Total LM']\n",
    "cols_float = ['Closed_Time TM','Closed_Time LM','Scheduled_Time TM','Scheduled_Time LM']\n",
    "final[cols_int] = final[cols_int].astype(int)\n",
    "# Cambio el formato a los numeros float\n",
    "final['Closed_Time TM'] = [str(x).replace('.', ',') for x in final['Closed_Time TM']]\n",
    "final['Closed_Time LM'] = [str(x).replace('.', ',') for x in final['Closed_Time LM']]\n",
    "final['Scheduled_Time TM'] = [str(x).replace('.', ',') for x in final['Scheduled_Time TM']]\n",
    "final['Scheduled_Time LM'] = [str(x).replace('.', ',') for x in final['Scheduled_Time LM']]\n",
    "final['%Closed_Time TM'] = [str(x).replace('.', ',') for x in final['%Closed_Time TM']]\n",
    "final['%Closed_Time LM'] = [str(x).replace('.', ',') for x in final['%Closed_Time LM']]"
   ]
  },
  {
   "cell_type": "markdown",
   "metadata": {},
   "source": [
    "### CARGA"
   ]
  },
  {
   "cell_type": "code",
   "execution_count": 12,
   "metadata": {},
   "outputs": [],
   "source": [
    "# Carga RCP\n",
    "sheet_id = '1zsby3bUVMDV-nmO35vDksyldcYidzpYR5Ps_-HUajMA'\n",
    "wks_name = 'Crudo'\n",
    "sheet = Spread(sheet_id, wks_name, config=cred)\n",
    "sheet.df_to_sheet(final, index=False, sheet=wks_name, replace=True)"
   ]
  }
 ],
 "metadata": {
  "kernelspec": {
   "display_name": "Python 3",
   "language": "python",
   "name": "python3"
  },
  "language_info": {
   "codemirror_mode": {
    "name": "ipython",
    "version": 3
   },
   "file_extension": ".py",
   "mimetype": "text/x-python",
   "name": "python",
   "nbconvert_exporter": "python",
   "pygments_lexer": "ipython3",
   "version": "3.8.5"
  }
 },
 "nbformat": 4,
 "nbformat_minor": 4
}
