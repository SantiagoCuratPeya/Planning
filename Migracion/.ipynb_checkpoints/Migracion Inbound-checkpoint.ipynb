{
 "cells": [
  {
   "cell_type": "markdown",
   "metadata": {},
   "source": [
    "### IMPORTS"
   ]
  },
  {
   "cell_type": "code",
   "execution_count": 1,
   "metadata": {},
   "outputs": [],
   "source": [
    "import pandas as pd\n",
    "import numpy as np\n",
    "import pandas_gbq\n",
    "import datetime\n",
    "from dateutil.relativedelta import relativedelta\n",
    "import calendar\n",
    "from gspread_pandas import Spread, conf"
   ]
  },
  {
   "cell_type": "markdown",
   "metadata": {},
   "source": [
    "### CREDENCIALES"
   ]
  },
  {
   "cell_type": "code",
   "execution_count": 2,
   "metadata": {},
   "outputs": [],
   "source": [
    "cred = conf.get_config('C:\\\\Users\\\\micaela.fuchs\\\\Anaconda', 'PedidosYa-6e661fd93faf.json')"
   ]
  },
  {
   "cell_type": "markdown",
   "metadata": {},
   "source": [
    "### GOOGLE SHEETS"
   ]
  },
  {
   "cell_type": "code",
   "execution_count": 3,
   "metadata": {},
   "outputs": [],
   "source": [
    "# Partners PEYA\n",
    "sheet_id = '1HmAvHYbJJa3JyRTgRJGKXataQB_TvFwNzyo8a6qXd2o'\n",
    "wks_name = 'Partners PEYA'\n",
    "sheet = Spread(sheet_id, wks_name, config=cred)\n",
    "partners = sheet.sheet_to_df(index=0,header_rows=1)"
   ]
  },
  {
   "cell_type": "code",
   "execution_count": 4,
   "metadata": {},
   "outputs": [],
   "source": [
    "# Inbound\n",
    "sheet_id = '1FANWqEVrOiYb_GdNQt3vTb1y9MeBTb6NDXu1e3j148s'\n",
    "wks_name = 'Roster'\n",
    "sheet = Spread(sheet_id, wks_name, config=cred)\n",
    "inbound = sheet.sheet_to_df(index=0,header_rows=1)"
   ]
  },
  {
   "cell_type": "code",
   "execution_count": 5,
   "metadata": {},
   "outputs": [],
   "source": [
    "# Hago lista de los chicos de Inbound\n",
    "inbounds = [x.upper() for x in inbound[inbound.columns[0]].to_list()] + ['JESUS BAEZ MENDOZA']\n",
    "inb_camp = str([int(x) for x in inbound[inbound.columns[1]].to_list() if x != '']).replace('[','').replace(']','')"
   ]
  },
  {
   "cell_type": "markdown",
   "metadata": {},
   "source": [
    "### QUERIES"
   ]
  },
  {
   "cell_type": "code",
   "execution_count": 6,
   "metadata": {},
   "outputs": [],
   "source": [
    "# 705MB\n",
    "q_cam = '''SELECT DISTINCT p.partner_id AS Id,\n",
    "       sc.subsidized_campaign_name AS Campaign\n",
    "FROM `peya-bi-tools-pro.il_core.dim_subsidized_product` AS sp\n",
    "INNER JOIN `peya-bi-tools-pro.il_growth.dim_subsidized_campaign` AS sc ON sp.subsidized_product_campaing_id = sc.subsidized_campaign_id\n",
    "INNER JOIN `peya-bi-tools-pro.il_core.dim_partner_product` AS pp ON sp.product_id = pp.product_id\n",
    "INNER JOIN `peya-bi-tools-pro.il_core.dim_partner` AS p ON pp.partner_id = p.partner_id\n",
    "WHERE p.country_id = 3\n",
    "      AND sp.is_deleted = FALSE \n",
    "      AND pp.unavailable = FALSE \n",
    "      AND pp.enabled\n",
    "      AND pp.is_deleted = FALSE\n",
    "      AND pp.section_is_deleted = FALSE\n",
    "      AND sc.subsidized_campaign_id IN ({0})\n",
    "      AND (DATE(sp.end_date) >= CURRENT_DATE() OR DATE(sp.end_date) IS NULL)\n",
    "      AND p.salesforce_id IS NOT NULL\n",
    "ORDER BY 1,2'''.format(inb_camp)\n",
    "\n",
    "# 10MB\n",
    "q_origen = '''SELECT p.partner_id AS Id,\n",
    "       IFNULL(sfa.account_source,'-') AS Origen\n",
    "FROM`peya-bi-tools-pro.il_core.dim_partner` AS p\n",
    "LEFT JOIN `peya-bi-tools-pro.il_salesforce.dim_salesforce_account` AS sfa ON p.salesforce_id = sfa.account_grid\n",
    "WHERE p.country_id = 3\n",
    "      AND p.salesforce_id IS NOT NULL'''"
   ]
  },
  {
   "cell_type": "code",
   "execution_count": 7,
   "metadata": {},
   "outputs": [
    {
     "name": "stderr",
     "output_type": "stream",
     "text": [
      "Downloading: 100%|██████████| 11313/11313 [00:01<00:00, 6409.49rows/s]\n"
     ]
    }
   ],
   "source": [
    "# Descargo la data\n",
    "hue_cam = pd.io.gbq.read_gbq(q_cam, project_id='peya-argentina', dialect='standard')"
   ]
  },
  {
   "cell_type": "code",
   "execution_count": 8,
   "metadata": {},
   "outputs": [
    {
     "name": "stderr",
     "output_type": "stream",
     "text": [
      "Downloading: 100%|██████████| 71816/71816 [00:03<00:00, 20792.53rows/s]\n"
     ]
    }
   ],
   "source": [
    "hue_origen = pd.io.gbq.read_gbq(q_origen, project_id='peya-argentina', dialect='standard')"
   ]
  },
  {
   "cell_type": "code",
   "execution_count": 9,
   "metadata": {},
   "outputs": [],
   "source": [
    "# Copio las bases\n",
    "cam_inb = hue_cam.copy()\n",
    "origen_inb = hue_origen.copy()"
   ]
  },
  {
   "cell_type": "markdown",
   "metadata": {},
   "source": [
    "### TRABAJO"
   ]
  },
  {
   "cell_type": "code",
   "execution_count": 10,
   "metadata": {},
   "outputs": [],
   "source": [
    "# Hago una pivot table con las Campañas\n",
    "mig_inb = pd.DataFrame(cam_inb.pivot_table(index=['Id'],columns=['Campaign'],aggfunc='size',fill_value=0).to_records())"
   ]
  },
  {
   "cell_type": "code",
   "execution_count": 11,
   "metadata": {},
   "outputs": [],
   "source": [
    "# Cambio los 1 y 0 por Si y No\n",
    "for i in mig_inb.columns[1:]:\n",
    "    mig_inb[i] = mig_inb[i].apply(lambda x: 'Si' if x > 0 else 'No')"
   ]
  },
  {
   "cell_type": "code",
   "execution_count": 12,
   "metadata": {},
   "outputs": [],
   "source": [
    "# Doy formato a las columnas\n",
    "partners['Id'] = partners['Id'].astype(int)\n",
    "mig_inb['Id'] = mig_inb['Id'].astype(int)\n",
    "origen_inb['Id'] = origen_inb['Id'].astype(int)\n",
    "# Hago un Merge con Partners\n",
    "mig_inb = partners.merge(mig_inb,on=['Id'],how='left')\n",
    "mig_inb = mig_inb.merge(origen_inb,on=['Id'],how='left')\n",
    "mig_inb.replace([np.nan,np.inf,-np.inf],'No',inplace=True)"
   ]
  },
  {
   "cell_type": "code",
   "execution_count": 13,
   "metadata": {},
   "outputs": [],
   "source": [
    "# Filtro los Inbound\n",
    "mig_inb = mig_inb[mig_inb['Account_Owner'].isin(inbounds)].copy()"
   ]
  },
  {
   "cell_type": "markdown",
   "metadata": {},
   "source": [
    "### CARGA"
   ]
  },
  {
   "cell_type": "code",
   "execution_count": 14,
   "metadata": {},
   "outputs": [],
   "source": [
    "# Carga Migracion Inbound\n",
    "sheet_id = '1FANWqEVrOiYb_GdNQt3vTb1y9MeBTb6NDXu1e3j148s'\n",
    "wks_name = 'Crudo'\n",
    "sheet = Spread(sheet_id, wks_name, config=cred)\n",
    "sheet.df_to_sheet(mig_inb, index=False, sheet=wks_name, replace=True)"
   ]
  }
 ],
 "metadata": {
  "kernelspec": {
   "display_name": "Python 3",
   "language": "python",
   "name": "python3"
  },
  "language_info": {
   "codemirror_mode": {
    "name": "ipython",
    "version": 3
   },
   "file_extension": ".py",
   "mimetype": "text/x-python",
   "name": "python",
   "nbconvert_exporter": "python",
   "pygments_lexer": "ipython3",
   "version": "3.8.5"
  }
 },
 "nbformat": 4,
 "nbformat_minor": 4
}
