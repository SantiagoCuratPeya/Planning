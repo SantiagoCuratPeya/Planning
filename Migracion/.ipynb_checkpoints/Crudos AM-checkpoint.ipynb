{
 "cells": [
  {
   "cell_type": "markdown",
   "metadata": {},
   "source": [
    "### IMPORTS"
   ]
  },
  {
   "cell_type": "code",
   "execution_count": 1,
   "metadata": {},
   "outputs": [],
   "source": [
    "import pandas as pd\n",
    "import numpy as np\n",
    "import pandas_gbq\n",
    "import datetime\n",
    "from dateutil.relativedelta import relativedelta\n",
    "import calendar\n",
    "from gspread_pandas import Spread, conf"
   ]
  },
  {
   "cell_type": "markdown",
   "metadata": {},
   "source": [
    "### CREDENCIALES"
   ]
  },
  {
   "cell_type": "code",
   "execution_count": 2,
   "metadata": {},
   "outputs": [],
   "source": [
    "cred = conf.get_config('C:\\\\Users\\\\micaela.fuchs\\\\Anaconda', 'PedidosYa-6e661fd93faf.json')"
   ]
  },
  {
   "cell_type": "markdown",
   "metadata": {},
   "source": [
    "### CONSTANTES Y FUNCIONES"
   ]
  },
  {
   "cell_type": "code",
   "execution_count": 3,
   "metadata": {},
   "outputs": [],
   "source": [
    "# Valoraciones RR\n",
    "viernes = 1.4\n",
    "sabado = 1.4\n",
    "domingo = 1.4\n",
    "# Fechas\n",
    "hoy = datetime.date.today()\n",
    "if hoy.day == 1:\n",
    "    hoy = hoy - relativedelta(days=1)\n",
    "else:\n",
    "    hoy = hoy\n",
    "# Armo el RR\n",
    "calendario = calendar.monthcalendar(hoy.year,hoy.month)\n",
    "dias = {0:0,1:0,2:0,3:0,4:0,5:0,6:0}\n",
    "transcurridos = {0:0,1:0,2:0,3:0,4:0,5:0,6:0}\n",
    "mes = [dias,transcurridos]\n",
    "hoy = hoy.day\n",
    "for i in range(7):\n",
    "    for j in calendario:\n",
    "        if j[i] != 0:\n",
    "            dias[i] += 1\n",
    "        if j[i] < hoy and j[i] != 0:\n",
    "            transcurridos[i] +=1\n",
    "final_rr = [0,0]\n",
    "cont = 0\n",
    "for j in mes:\n",
    "    for i in j:\n",
    "        if i < 4:\n",
    "            final_rr[cont] += j[i]\n",
    "        elif i == 4:\n",
    "            final_rr[cont] += j[i] * viernes\n",
    "        elif i == 5:\n",
    "            final_rr[cont] += j[i] * sabado\n",
    "        else:\n",
    "            final_rr[cont] += j[i] * domingo\n",
    "    cont += 1\n",
    "rr = 0\n",
    "if final_rr[1] == 0:\n",
    "    rr = 0.01\n",
    "else:\n",
    "    rr = final_rr[1] / final_rr[0]"
   ]
  },
  {
   "cell_type": "markdown",
   "metadata": {},
   "source": [
    "### GOOGLE SHEETS"
   ]
  },
  {
   "cell_type": "code",
   "execution_count": 4,
   "metadata": {},
   "outputs": [],
   "source": [
    "# Partners PEYA\n",
    "sheet_id = '1HmAvHYbJJa3JyRTgRJGKXataQB_TvFwNzyo8a6qXd2o'\n",
    "wks_name = 'Partners PEYA'\n",
    "sheet = Spread(sheet_id, wks_name, config=cred)\n",
    "partners = sheet.sheet_to_df(index=0,header_rows=1)"
   ]
  },
  {
   "cell_type": "code",
   "execution_count": 5,
   "metadata": {},
   "outputs": [],
   "source": [
    "# Stats PEYA\n",
    "sheet_id = '1PO5kGLgz5Xn_WNCQQB0OPcKCl7KeS7kMrkJaGxafqmY'\n",
    "wks_name = 'Stats PEYA'\n",
    "sheet = Spread(sheet_id, wks_name, config=cred)\n",
    "stats = sheet.sheet_to_df(index=0,header_rows=1)"
   ]
  },
  {
   "cell_type": "code",
   "execution_count": 6,
   "metadata": {},
   "outputs": [],
   "source": [
    "# Roster\n",
    "sheet_id = '1JNywQTVzEQKRwqrJRkpzjiXx5Ly-FldtBMfeSYHuL7w'\n",
    "wks_name = 'Restaurant'\n",
    "sheet = Spread(sheet_id, wks_name, config=cred)\n",
    "roster = sheet.sheet_to_df(index=0,header_rows=1)"
   ]
  },
  {
   "cell_type": "code",
   "execution_count": 7,
   "metadata": {},
   "outputs": [],
   "source": [
    "# Managers\n",
    "sheet_id = '1JNywQTVzEQKRwqrJRkpzjiXx5Ly-FldtBMfeSYHuL7w'\n",
    "wks_name = 'Managers'\n",
    "sheet = Spread(sheet_id, wks_name, config=cred)\n",
    "managers = sheet.sheet_to_df(index=0,header_rows=1)"
   ]
  },
  {
   "cell_type": "code",
   "execution_count": 8,
   "metadata": {},
   "outputs": [],
   "source": [
    "# Trabajo los managers\n",
    "manager_caba = managers[managers['Region'] == 'CABA + ZN']['Manager'].values[0]\n",
    "manager_gba = managers[managers['Region'] == 'ZS + ZO + LP + MDQ']['Manager'].values[0]\n",
    "manager_noa = managers[managers['Region'] == 'NOA + CBA']['Manager'].values[0]\n",
    "manager_nea = managers[managers['Region'] == 'NEA + SFE']['Manager'].values[0]\n",
    "manager_pat = managers[managers['Region'] == 'CENTRO + PAT']['Manager'].values[0]"
   ]
  },
  {
   "cell_type": "markdown",
   "metadata": {},
   "source": [
    "### TRABAJO"
   ]
  },
  {
   "cell_type": "code",
   "execution_count": 9,
   "metadata": {},
   "outputs": [],
   "source": [
    "# Filtro las columnas de stats\n",
    "stats.drop(['Online','Account_Owner','Fecha_Cierre'],axis=1,inplace=True)\n",
    "# Doy formato a las columnas\n",
    "cols = [i for i in stats.columns if i not in ['Id']]\n",
    "stats[cols] = stats[cols].astype(float)"
   ]
  },
  {
   "cell_type": "code",
   "execution_count": 10,
   "metadata": {},
   "outputs": [],
   "source": [
    "# Doy formato a las columnas para unir las tablas\n",
    "partners['Id'] = partners['Id'].astype(int)\n",
    "stats['Id'] = stats['Id'].astype(int)\n",
    "# Uno las tablas\n",
    "final = partners.merge(stats,on=['Id'],how='left')"
   ]
  },
  {
   "cell_type": "code",
   "execution_count": 11,
   "metadata": {},
   "outputs": [],
   "source": [
    "# Selecciono las columnas finales\n",
    "cols = ['Grid','Id','Name','Franchise','City','Area','Feudo','Reino','KAM','Concept','Online','Accepts_Vouchers','Has_PO','Logistic',\n",
    "        'Business','Main_Cuisine','Commission','First_Date_Online','New_Online','Account_Owner','SF_Status','BO_Status','Churn',\n",
    "        'Zombie','Online_TM','Active_Users TM','Active_Users LM','Confirmed TM','Confirmed LM','Logistic TM','Logistic LM',\n",
    "        'Confirmed_OP TM','Confirmed_OP LM','Dias_Online TM','Dias_Online LM','GMV TM','GMV LM','VFR_Num TM','VFR_Num LM','Total TM',\n",
    "        'Total LM','Revenue TM','Revenue LM','VL_Numerador TM','VL_Numerador LM','VL_Denominador TM','VL_Denominador LM',\n",
    "        'Sessions TM','Sessions LM','Transactions TM','Transactions LM','Confirmed_Campaign TM','Confirmed_Campaign LM','Closed_Time TM',\n",
    "        'Closed_Time LM','Scheduled_Time TM','Scheduled_Time LM']\n",
    "final = final[cols].copy()"
   ]
  },
  {
   "cell_type": "code",
   "execution_count": 12,
   "metadata": {},
   "outputs": [],
   "source": [
    "# Calculo los campos necesarios\n",
    "final['Orders W/RR'] = final['Confirmed TM'] / rr\n",
    "final['ΔOrders W/RR'] = (final['Orders W/RR'] - final['Confirmed LM']) / final['Confirmed LM']\n",
    "final['%OD TM'] = final['Logistic TM'] / final['Confirmed TM']\n",
    "final['%OD LM'] = final['Logistic LM'] / final['Confirmed LM']\n",
    "final['Δ%OD'] = (final['%OD TM'] - final['%OD LM']) / final['%OD LM']\n",
    "final['VFR TM'] = final['VFR_Num TM'] / final['Total TM']\n",
    "final['VFR LM'] = final['VFR_Num LM'] / final['Total LM']\n",
    "final['ΔVFR'] = (final['VFR TM'] - final['VFR LM']) /final['VFR LM']\n",
    "final['Avg Basket Size TM'] = final['GMV TM'] / final['Confirmed TM']\n",
    "final['Avg Basket Size LM'] = final['GMV LM'] / final['Confirmed LM']\n",
    "final['ΔAvg Basket Size'] = (final['Avg Basket Size TM'] - final['Avg Basket Size LM']) /final['Avg Basket Size LM']\n",
    "final['GMV W/RR'] = final['GMV TM'] / rr\n",
    "final['ΔGMV W/RR'] = (final['GMV W/RR'] - final['GMV LM']) / final['GMV LM']\n",
    "final['Revenue W/RR'] = final['Revenue TM'] / rr\n",
    "final['ΔRevenue W/RR'] = (final['Revenue W/RR'] - final['Revenue LM']) / final['Revenue LM']\n",
    "final['Take-In TM'] = final['Revenue TM'] / final['Confirmed TM']\n",
    "final['Take-In LM'] = final['Revenue LM'] / final['Confirmed LM']\n",
    "final['ΔTake-In'] = (final['Take-In TM'] - final['Take-In LM']) / final['Take-In LM']\n",
    "final['VL10 TM'] = final['VL_Numerador TM'] / final['VL_Denominador TM']\n",
    "final['VL10 LM'] = final['VL_Numerador LM'] / final['VL_Denominador LM']\n",
    "final['ΔVL10'] = (final['VL10 TM'] - final['VL10 LM']) / final['VL10 LM']\n",
    "final['CVR TM'] = final['Transactions TM'] / final['Sessions TM']\n",
    "final['CVR LM'] = final['Transactions LM'] / final['Sessions LM']\n",
    "final['ΔCVR'] = (final['CVR TM'] - final['CVR LM']) / final['CVR LM']\n",
    "final['%Campaign Orders TM'] = final['Confirmed_Campaign TM'] / final['Confirmed TM']\n",
    "final['%Campaign Orders LM'] = final['Confirmed_Campaign LM'] / final['Confirmed LM']\n",
    "final['Δ%Campaign Orders'] = (final['%Campaign Orders TM'] - final['%Campaign Orders LM']) / final['%Campaign Orders LM']\n",
    "final['Churn NM'] = final.apply(lambda x: 'Si' if x['Dias_Online TM'] > 0 and x['Online'] == 'No' else 'No',axis=1)\n",
    "final['%Open Time TM'] = (final['Scheduled_Time TM'] - final['Closed_Time TM']) / final['Scheduled_Time TM']\n",
    "final['%Open Time LM'] = (final['Scheduled_Time LM'] - final['Closed_Time LM']) / final['Scheduled_Time LM']\n",
    "final['Δ%Open Time'] = (final['%Open Time TM'] - final['%Open Time LM']) / final['%Open Time LM']\n",
    "final.replace([np.nan,np.inf,-np.inf],0,inplace=True)"
   ]
  },
  {
   "cell_type": "code",
   "execution_count": 13,
   "metadata": {},
   "outputs": [],
   "source": [
    "# Redondeo todo a 4 decimales \n",
    "final = final.copy().round(4)"
   ]
  },
  {
   "cell_type": "code",
   "execution_count": 14,
   "metadata": {},
   "outputs": [],
   "source": [
    "# Trabajo el Roster\n",
    "roster[roster.columns[0]] = roster[roster.columns[0]].str.upper()\n",
    "roster.columns = ['Account_Owner','Zona','Cargo','Lider','Manager']\n",
    "# Hago Merge con el Roster\n",
    "final = final.merge(roster,on=['Account_Owner'],how='left')\n",
    "# Marco los faltantes como \"No Restaurant\"\n",
    "final.replace([np.nan,np.inf,-np.inf],'No Restaurant',inplace=True)"
   ]
  },
  {
   "cell_type": "code",
   "execution_count": 15,
   "metadata": {},
   "outputs": [],
   "source": [
    "# Columnas finales\n",
    "cols = ['Grid','Account_Owner','Online','Online_TM','Name','Franchise','City','Area','Feudo','Reino','Business','KAM','Concept',\n",
    "        'Logistic','Accepts_Vouchers','Has_PO','Main_Cuisine','Commission','Zombie','Churn','Churn NM','SF_Status','BO_Status',\n",
    "        'Active_Users TM','Active_Users LM','Confirmed TM','Confirmed LM','Orders W/RR','ΔOrders W/RR','Logistic TM','Logistic LM',\n",
    "        '%OD TM','%OD LM','Δ%OD','VFR_Num TM','VFR_Num LM','VFR TM','VFR LM','ΔVFR','Avg Basket Size TM','Avg Basket Size LM',\n",
    "        'ΔAvg Basket Size','GMV TM','GMV LM','GMV W/RR','ΔGMV W/RR','Revenue TM','Revenue LM','Revenue W/RR','ΔRevenue W/RR',\n",
    "        'Take-In TM','Take-In LM','ΔTake-In','VL_Numerador TM','VL_Numerador LM','VL_Denominador TM','VL_Denominador LM',\n",
    "        'VL10 TM','VL10 LM','ΔVL10','Sessions TM','Sessions LM','CVR TM','CVR LM','ΔCVR','Confirmed_Campaign TM','Confirmed_Campaign LM',\n",
    "        '%Campaign Orders TM','%Campaign Orders LM','Δ%Campaign Orders','%Open Time TM','%Open Time LM','Δ%Open Time','Zona','Cargo',\n",
    "        'Lider','Manager']\n",
    "final = final[cols].copy()"
   ]
  },
  {
   "cell_type": "code",
   "execution_count": 16,
   "metadata": {},
   "outputs": [],
   "source": [
    "# Separo las Regiones\n",
    "crudo_caba = final[((final['Reino'] == 'CABA + ZN')&(final['Online'] == 'Si'))|((final['Cargo'] == 'Accounts')&(final['Manager'] == manager_caba))].copy()\n",
    "crudo_gba = final[((final['Reino'] == 'ZS + ZO + LP + MDQ')&(final['Online'] == 'Si'))|((final['Cargo'] == 'Accounts')&(final['Manager'] == manager_gba))].copy()\n",
    "crudo_noa = final[((final['Reino'] == 'NOA + CBA')&(final['Online'] == 'Si'))|((final['Cargo'] == 'Accounts')&(final['Manager'] == manager_noa))].copy()\n",
    "crudo_nea = final[((final['Reino'] == 'NEA + SFE')&(final['Online'] == 'Si'))|((final['Cargo'] == 'Accounts')&(final['Manager'] == manager_nea))].copy()\n",
    "crudo_pat = final[((final['Reino'] == 'CENTRO + PAT')&(final['Online'] == 'Si'))|((final['Cargo'] == 'Accounts')&(final['Manager'] == manager_pat))].copy()"
   ]
  },
  {
   "cell_type": "markdown",
   "metadata": {},
   "source": [
    "### CARGA"
   ]
  },
  {
   "cell_type": "code",
   "execution_count": 17,
   "metadata": {},
   "outputs": [],
   "source": [
    "# Carga GBA\n",
    "sheet_id = '1td-XAs05rs0Z33sEkx3efVBYsxo4uvhLHrdWVb6sJOM'\n",
    "wks_name = 'Crudo BQ'\n",
    "sheet = Spread(sheet_id, wks_name, config=cred)\n",
    "sheet.df_to_sheet(crudo_gba, index=False, sheet=wks_name, replace=True)"
   ]
  },
  {
   "cell_type": "code",
   "execution_count": 18,
   "metadata": {},
   "outputs": [],
   "source": [
    "# Carga CABA\n",
    "sheet_id = '1wpTcOVRQSFg63DXB1ZjBEYBS6mTBSu2KYQmIVrtf5wk'\n",
    "wks_name = 'Crudo BQ'\n",
    "sheet = Spread(sheet_id, wks_name, config=cred)\n",
    "sheet.df_to_sheet(crudo_caba, index=False, sheet=wks_name, replace=True)"
   ]
  }
 ],
 "metadata": {
  "kernelspec": {
   "display_name": "Python 3",
   "language": "python",
   "name": "python3"
  },
  "language_info": {
   "codemirror_mode": {
    "name": "ipython",
    "version": 3
   },
   "file_extension": ".py",
   "mimetype": "text/x-python",
   "name": "python",
   "nbconvert_exporter": "python",
   "pygments_lexer": "ipython3",
   "version": "3.8.5"
  }
 },
 "nbformat": 4,
 "nbformat_minor": 4
}
