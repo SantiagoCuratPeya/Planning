{
 "cells": [
  {
   "cell_type": "markdown",
   "metadata": {},
   "source": [
    "### IMPORTS"
   ]
  },
  {
   "cell_type": "code",
   "execution_count": 1,
   "metadata": {},
   "outputs": [],
   "source": [
    "import pandas as pd\n",
    "import numpy as np\n",
    "import pandas_gbq\n",
    "import datetime\n",
    "from dateutil.relativedelta import relativedelta\n",
    "from Roster import *\n",
    "from gspread_pandas import Spread, conf"
   ]
  },
  {
   "cell_type": "markdown",
   "metadata": {},
   "source": [
    "### CREDENCIALES"
   ]
  },
  {
   "cell_type": "code",
   "execution_count": 2,
   "metadata": {},
   "outputs": [],
   "source": [
    "cred = conf.get_config('C:\\\\Users\\\\santiago.curat\\\\Pandas\\\\PEYA', 'PedidosYa-8b8c4d19f61c.json')"
   ]
  },
  {
   "cell_type": "markdown",
   "metadata": {},
   "source": [
    "### GOOGLE SHEETS"
   ]
  },
  {
   "cell_type": "code",
   "execution_count": 3,
   "metadata": {},
   "outputs": [],
   "source": [
    "# Reporte KAM\n",
    "sheet_id = '1JNywQTVzEQKRwqrJRkpzjiXx5Ly-FldtBMfeSYHuL7w'\n",
    "wks_name = 'KAM'\n",
    "sheet = Spread(sheet_id, wks_name, config=cred)\n",
    "reporte_kams = sheet.sheet_to_df(index=0,header_rows=1)"
   ]
  },
  {
   "cell_type": "code",
   "execution_count": 4,
   "metadata": {},
   "outputs": [],
   "source": [
    "# Franchises KAM\n",
    "franchises_kam = [x for x in reporte_kams[reporte_kams.columns[0]].to_list() if x is not '']\n",
    "# KAMs\n",
    "kams = [x.upper() for x in reporte_kams[reporte_kams.columns[1]].to_list() if x is not '']"
   ]
  },
  {
   "cell_type": "markdown",
   "metadata": {},
   "source": [
    "### CONSTANTES"
   ]
  },
  {
   "cell_type": "code",
   "execution_count": 5,
   "metadata": {},
   "outputs": [],
   "source": [
    "# Fechas\n",
    "today = datetime.date.today()\n",
    "if today.day == 1:\n",
    "    ftm = str(today - relativedelta(days=1))\n",
    "    itm = str((today - relativedelta(days=1)).replace(day=1))\n",
    "else:\n",
    "    itm = str(today.replace(day=1))\n",
    "    ftm = str(today + relativedelta(months=1) - relativedelta(days=(today + relativedelta(months=1)).day))"
   ]
  },
  {
   "cell_type": "markdown",
   "metadata": {},
   "source": [
    "### QUERIES"
   ]
  },
  {
   "cell_type": "code",
   "execution_count": 6,
   "metadata": {},
   "outputs": [],
   "source": [
    "# 31MB\n",
    "q_partners = '''WITH pm_table AS(\n",
    "      SELECT pm.restaurant_id AS Id,\n",
    "             CASE WHEN pm.has_confirmed_orders THEN 'Si' ELSE 'No' END AS Confirmed_Orders_TM,\n",
    "             CASE WHEN pm.is_online THEN 'Si' ELSE 'No' END AS Online_TM,\n",
    "             CASE WHEN pm.is_online AND pm.has_confirmed_orders = FALSE THEN 'Si' ELSE 'No' END AS Zombie,\n",
    "             CASE WHEN pm.is_new_online THEN 'Si' ELSE 'No' END AS New_Online,\n",
    "             CASE WHEN pm.is_churned THEN 'Si' ELSE 'No' END AS Churn\n",
    "      FROM `peya-bi-tools-pro.il_core.fact_partners_monthly` AS pm\n",
    "      WHERE DATE(pm.full_date) BETWEEN DATE('{0}') AND DATE('{1}'))\n",
    "SELECT p.salesforce_id AS Grid,\n",
    "       p.partner_id AS Id,\n",
    "       p.partner_name AS Name,\n",
    "       IFNULL(p.franchise.franchise_name,'-') AS Franchise,\n",
    "       p.city.name AS City,\n",
    "       a.area_name AS Area,\n",
    "       CASE WHEN p.is_online THEN 'Si' ELSE 'No' END AS Online,\n",
    "       CASE WHEN p.accepts_and_supports_vouchers THEN 'Si' ELSE 'No' END AS Accepts_Vouchers,\n",
    "       CASE WHEN p.has_online_payment THEN 'Si' ELSE 'No' END AS Has_PO,\n",
    "       CASE WHEN p.is_logistic THEN 'Si' ELSE 'No' END AS Logistic,\n",
    "       CASE WHEN p.is_concept THEN 'Si' ELSE 'No' END AS Concept,\n",
    "       IFNULL(p.business_type.business_type_name,'-') AS Business,\n",
    "       IFNULL(p.main_cousine_category_name,'-') AS Main_Cuisine,\n",
    "       IFNULL(CAST(p.billingInfo.partner_commission AS STRING),'-') AS Commission,\n",
    "       IFNULL(CAST(p.first_date_online AS STRING),'-') AS First_Date_Online,\n",
    "       IFNULL(pm.Confirmed_Orders_TM,'No') AS Confirmed_Orders_TM,\n",
    "       IFNULL(pm.Online_TM,'No') AS Online_TM,\n",
    "       IFNULL(pm.Zombie,'No') AS Zombie,\n",
    "       IFNULL(pm.New_Online,'No') AS New_Online,\n",
    "       IFNULL(pm.Churn,'No') AS Churn,\n",
    "       IFNULL(sfu.Name,'-') AS Account_Owner,\n",
    "       IFNULL(p.partner_status,'-') AS BO_Status,\n",
    "       IFNULL(sfa.account_status,'-') AS SF_Status,\n",
    "       IFNULL(CAST(p.qty_products_portal AS STRING),'-') AS Qty_Products,\n",
    "       IFNULL(CAST(p.qty_picts_portal AS STRING),'-') AS Qty_Photos\n",
    "FROM `peya-bi-tools-pro.il_core.dim_partner` AS p\n",
    "LEFT JOIN pm_table AS pm ON p.partner_id = pm.Id\n",
    "LEFT JOIN `peya-bi-tools-pro.il_core.dim_area` AS a ON p.address.area_id = a.area_id\n",
    "LEFT JOIN `peya-bi-tools-pro.il_salesforce.dim_salesforce_account` AS sfa ON p.salesforce_id = sfa.account_grid\n",
    "LEFT JOIN `peya-data-origins-pro.cl_salesforce.user` AS sfu ON sfa.owner_id = sfu.Id\n",
    "WHERE p.country_id = 3\n",
    "      AND p.salesforce_id IS NOT NULL'''.format(itm,ftm)"
   ]
  },
  {
   "cell_type": "code",
   "execution_count": 7,
   "metadata": {},
   "outputs": [
    {
     "name": "stderr",
     "output_type": "stream",
     "text": [
      "Downloading: 100%|███████████████████████████████████████████████████████████| 71429/71429 [00:15<00:00, 4625.07rows/s]\n"
     ]
    }
   ],
   "source": [
    "# Descargo la data\n",
    "hue_partners = pd.io.gbq.read_gbq(q_partners, project_id='peya-argentina', dialect='standard')"
   ]
  },
  {
   "cell_type": "code",
   "execution_count": 8,
   "metadata": {},
   "outputs": [],
   "source": [
    "# Copio la base\n",
    "partners = hue_partners.copy()"
   ]
  },
  {
   "cell_type": "markdown",
   "metadata": {},
   "source": [
    "### TRABAJO"
   ]
  },
  {
   "cell_type": "code",
   "execution_count": 9,
   "metadata": {},
   "outputs": [],
   "source": [
    "# Coloco el Feudo y Reino\n",
    "partners['Feudo'] = partners.apply(feudos,axis=1)\n",
    "partners['Reino'] = partners.apply(reinos,axis=1)"
   ]
  },
  {
   "cell_type": "code",
   "execution_count": 10,
   "metadata": {},
   "outputs": [],
   "source": [
    "# Marco las KA\n",
    "partners['Account_Owner'] = partners['Account_Owner'].str.upper()\n",
    "partners['KAM'] = partners.apply(lambda x: 'Si' if x['Franchise'] in franchises_kam or x['Account_Owner'] in kams else 'No',axis=1)"
   ]
  },
  {
   "cell_type": "code",
   "execution_count": 11,
   "metadata": {},
   "outputs": [],
   "source": [
    "# Ordeno las columnas\n",
    "cols = ['Grid','Id','Name','Franchise','City','Area','Feudo','Reino','KAM','Concept','Online','Accepts_Vouchers','Has_PO',\n",
    "        'Logistic','Business','Main_Cuisine','Commission','First_Date_Online','New_Online','Account_Owner','SF_Status',\n",
    "        'BO_Status','Churn','Zombie','Confirmed_Orders_TM','Online_TM','Qty_Products','Qty_Photos']\n",
    "partners = partners[cols]"
   ]
  },
  {
   "cell_type": "code",
   "execution_count": 12,
   "metadata": {},
   "outputs": [],
   "source": [
    "# Ordeno segun Id\n",
    "partners.sort_values(by=['Id'],inplace=True)"
   ]
  },
  {
   "cell_type": "markdown",
   "metadata": {},
   "source": [
    "### CARGA"
   ]
  },
  {
   "cell_type": "code",
   "execution_count": 13,
   "metadata": {},
   "outputs": [],
   "source": [
    "# Carga Partners PEYA\n",
    "sheet_id = '1HmAvHYbJJa3JyRTgRJGKXataQB_TvFwNzyo8a6qXd2o'\n",
    "wks_name = 'Partners PEYA'\n",
    "sheet = Spread(sheet_id, wks_name, config=cred)\n",
    "sheet.df_to_sheet(partners, index=False, sheet=wks_name, replace=True)"
   ]
  }
 ],
 "metadata": {
  "kernelspec": {
   "display_name": "Python 3",
   "language": "python",
   "name": "python3"
  },
  "language_info": {
   "codemirror_mode": {
    "name": "ipython",
    "version": 3
   },
   "file_extension": ".py",
   "mimetype": "text/x-python",
   "name": "python",
   "nbconvert_exporter": "python",
   "pygments_lexer": "ipython3",
   "version": "3.7.6"
  }
 },
 "nbformat": 4,
 "nbformat_minor": 4
}
