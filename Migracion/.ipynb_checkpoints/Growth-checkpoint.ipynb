{
 "cells": [
  {
   "cell_type": "markdown",
   "metadata": {},
   "source": [
    "### IMPORTS"
   ]
  },
  {
   "cell_type": "code",
   "execution_count": 1,
   "metadata": {},
   "outputs": [],
   "source": [
    "import pandas as pd\n",
    "import numpy as np\n",
    "import pandas_gbq\n",
    "import datetime\n",
    "from dateutil.relativedelta import relativedelta\n",
    "from Roster import *\n",
    "from gspread_pandas import Spread, conf"
   ]
  },
  {
   "cell_type": "markdown",
   "metadata": {},
   "source": [
    "### CREDENCIALES"
   ]
  },
  {
   "cell_type": "code",
   "execution_count": 2,
   "metadata": {},
   "outputs": [],
   "source": [
    "cred = conf.get_config('C:\\\\Users\\\\micaela.fuchs\\\\Anaconda', 'PedidosYa-6e661fd93faf.json')"
   ]
  },
  {
   "cell_type": "markdown",
   "metadata": {},
   "source": [
    "### CONSTANTES"
   ]
  },
  {
   "cell_type": "code",
   "execution_count": 3,
   "metadata": {},
   "outputs": [],
   "source": [
    "# Fechas\n",
    "today = datetime.date.today()\n",
    "if today.day == 1:\n",
    "    ftm = str(today - relativedelta(days=1))\n",
    "    itm = str((today - relativedelta(days=1)).replace(day=1))\n",
    "else:\n",
    "    itm = str(today.replace(day=1))\n",
    "    ftm = str(today + relativedelta(months=1) - relativedelta(days=(today + relativedelta(months=1)).day))"
   ]
  },
  {
   "cell_type": "markdown",
   "metadata": {},
   "source": [
    "### GOOGLE SHEETS"
   ]
  },
  {
   "cell_type": "code",
   "execution_count": 4,
   "metadata": {},
   "outputs": [],
   "source": [
    "# Partners PEYA\n",
    "sheet_id = '1HmAvHYbJJa3JyRTgRJGKXataQB_TvFwNzyo8a6qXd2o'\n",
    "wks_name = 'Partners PEYA'\n",
    "sheet = Spread(sheet_id, wks_name, config=cred)\n",
    "partners = sheet.sheet_to_df(index=0,header_rows=1)"
   ]
  },
  {
   "cell_type": "code",
   "execution_count": 5,
   "metadata": {},
   "outputs": [],
   "source": [
    "# Stats PEYA\n",
    "sheet_id = '1PO5kGLgz5Xn_WNCQQB0OPcKCl7KeS7kMrkJaGxafqmY'\n",
    "wks_name = 'Stats PEYA'\n",
    "sheet = Spread(sheet_id, wks_name, config=cred)\n",
    "stats = sheet.sheet_to_df(index=0,header_rows=1)"
   ]
  },
  {
   "cell_type": "code",
   "execution_count": 6,
   "metadata": {},
   "outputs": [],
   "source": [
    "# AM Growth\n",
    "sheet_id = '1JNywQTVzEQKRwqrJRkpzjiXx5Ly-FldtBMfeSYHuL7w'\n",
    "wks_name = 'AM Growth'\n",
    "sheet = Spread(sheet_id, wks_name, config=cred)\n",
    "am_growth = sheet.sheet_to_df(index=0,header_rows=1)"
   ]
  },
  {
   "cell_type": "code",
   "execution_count": 7,
   "metadata": {},
   "outputs": [],
   "source": [
    "# Sales Growth\n",
    "sheet_id = '1JNywQTVzEQKRwqrJRkpzjiXx5Ly-FldtBMfeSYHuL7w'\n",
    "wks_name = 'Sales Growth'\n",
    "sheet = Spread(sheet_id, wks_name, config=cred)\n",
    "sl_growth = sheet.sheet_to_df(index=0,header_rows=1)"
   ]
  },
  {
   "cell_type": "code",
   "execution_count": 8,
   "metadata": {},
   "outputs": [],
   "source": [
    "# Hago lista de AM, Sales y Ciudades de Growth\n",
    "city_growth = str(am_growth['Ciudad'].to_list()).replace('[','').replace(']','')\n",
    "am_growth = am_growth['Account'].to_list()\n",
    "sl_growth = sl_growth['Sales'].to_list()\n",
    "# Paso todo a mayusculas\n",
    "am_growth = [x.upper() for x in am_growth]\n",
    "sl_growth = [x.upper() for x in sl_growth]"
   ]
  },
  {
   "cell_type": "markdown",
   "metadata": {},
   "source": [
    "### QUERIES"
   ]
  },
  {
   "cell_type": "code",
   "execution_count": 9,
   "metadata": {},
   "outputs": [],
   "source": [
    "# 200MB\n",
    "q_fr = '''WITH open_time AS(\n",
    "    SELECT ph.restaurant_id AS id,\n",
    "           SUM(CASE WHEN ph.is_online THEN IFNULL(ph.closed_times,0) ELSE NULL END) AS closed_time,\n",
    "           SUM(CASE WHEN ph.is_online THEN IFNULL(ph.schedule_open_time,0) ELSE NULL END) AS scheduled_time\n",
    "    FROM `peya-bi-tools-pro.il_core.dim_historical_partners` AS ph\n",
    "    WHERE ph.yyyymmdd BETWEEN DATE('{0}') AND DATE('{1}')\n",
    "          AND ph.is_online\n",
    "    GROUP BY 1)\n",
    "SELECT p.partner_id AS Id,\n",
    "       IFNULL(ot.closed_time,0) AS Closed_Time,\n",
    "       IFNULL(ot.scheduled_time,0) AS Scheduled_Time\n",
    "FROM `peya-bi-tools-pro.il_core.dim_partner` AS p\n",
    "LEFT JOIN open_time AS ot ON p.partner_id = ot.id\n",
    "WHERE p.country_id = 3\n",
    "      AND p.salesforce_id IS NOT NULL'''.format(itm,ftm)\n",
    "\n",
    "# 57MB\n",
    "q_cw = '''SELECT p.salesforce_id AS Grid,\n",
    "       sfo.Business_Type AS Tipo,\n",
    "       sfc.Name__c AS Nombre,\n",
    "       cw.account_owner AS Owner,\n",
    "       DATE(cw.closed_date) AS Fecha_Cierre,\n",
    "       MAX(sfc.Commission) AS Comision,\n",
    "FROM `peya-bi-tools-pro.il_core.fact_sales_executives_closed_won_v2` AS cw\n",
    "LEFT JOIN `peya-bi-tools-pro.il_core.dim_partner` AS p ON cw.grid = p.salesforce_id\n",
    "LEFT JOIN `peya-data-origins-pro.cl_salesforce.opportunity` AS sfo ON cw.oportunity_unique_id = sfo.Id\n",
    "LEFT JOIN `peya-data-origins-pro.cl_salesforce.contract` AS sfc ON sfo.Id = sfc.Id_Opportunity\n",
    "WHERE DATE(cw.closed_date) BETWEEN DATE('{0}') AND DATE('{1}')\n",
    "      AND p.country_id = 3\n",
    "      AND sfo.Business_Type IN ('New Business','Win Back','Franchise Extension','New Bussiness')\n",
    "GROUP BY 1,2,3,4,5'''.format(itm,ftm)\n",
    "\n",
    "# 714MB\n",
    "q_orders = '''SELECT c.city_name AS City,\n",
    "       COUNT(DISTINCT o.order_id) AS Total,\n",
    "       COUNT(DISTINCT CASE WHEN o.order_status = 'CONFIRMED' THEN o.order_id ELSE NULL END) AS Confirmed,\n",
    "       COUNT(DISTINCT CASE WHEN o.order_status = 'CONFIRMED' AND o.with_logistics THEN o.order_id ELSE NULL END) AS Logistic,\n",
    "       COUNT(DISTINCT CASE WHEN o.order_status IN ('REJECTED','PENDING','CANCELLED') AND o.fail_rate_owner = 'Restaurant' THEN o.order_id ELSE NULL END) AS Rejected_Vendor\n",
    "FROM `peya-bi-tools-pro.il_core.fact_orders` AS o\n",
    "LEFT JOIN `peya-bi-tools-pro.il_core.dim_city` AS c ON o.city.city_id = c.city_id\n",
    "WHERE o.registered_date BETWEEN DATE('{0}') AND DATE('{1}')\n",
    "      AND o.country_id = 3\n",
    "      AND o.address.area.city.name IN ({2})\n",
    "GROUP BY 1'''.format(itm,ftm,city_growth)\n",
    "\n",
    "# 6MB\n",
    "q_online = '''SELECT p.city.name AS City,\n",
    "       COUNT(DISTINCT CASE WHEN pm.is_online THEN pm.restaurant_id ELSE NULL END) AS Online,\n",
    "       COUNT(DISTINCT CASE WHEN pm.is_online AND pm.has_confirmed_orders = FALSE THEN pm.restaurant_id ELSE NULL END) AS Zombies,\n",
    "       COUNT(DISTINCT CASE WHEN pm.is_churned THEN pm.restaurant_id ELSE NULL END) AS Churns\n",
    "FROM `peya-bi-tools-pro.il_core.fact_partners_monthly` AS pm\n",
    "LEFT JOIN `peya-bi-tools-pro.il_core.dim_partner` AS p ON pm.restaurant_id = p.partner_id\n",
    "WHERE DATE(pm.full_date) BETWEEN DATE('{0}') AND DATE('{1}')\n",
    "      AND p.country_id = 3\n",
    "      AND p.city.name IN ({2})\n",
    "GROUP BY 1'''.format(itm,ftm,city_growth)\n",
    "\n",
    "# 970MB\n",
    "q_campaigns = '''SELECT c.city_name AS City,\n",
    "       COUNT(DISTINCT o.order_id) AS Confirmed_Mktg\n",
    "FROM `peya-bi-tools-pro.il_core.fact_orders` AS o,\n",
    "UNNEST (details) AS od\n",
    "LEFT JOIN `peya-bi-tools-pro.il_core.dim_subsidized_product` AS sp ON od.product.product_id = sp.product_id AND od.is_subsidized\n",
    "LEFT JOIN `peya-bi-tools-pro.il_growth.dim_subsidized_campaign` AS sc ON sp.subsidized_product_campaing_id = sc.subsidized_campaign_id\n",
    "LEFT JOIN `peya-bi-tools-pro.il_core.dim_city` AS c ON o.city.city_id = c.city_id\n",
    "WHERE o.registered_date BETWEEN DATE('{0}') AND DATE('{1}')\n",
    "      AND od.is_subsidized\n",
    "      AND o.order_status = 'CONFIRMED'\n",
    "      AND o.country_id = 3\n",
    "      AND sc.subsidized_campaign_id IS NOT NULL\n",
    "      AND o.address.area.city.name IN ({2})\n",
    "GROUP BY 1'''.format(itm,ftm,city_growth)"
   ]
  },
  {
   "cell_type": "code",
   "execution_count": 10,
   "metadata": {},
   "outputs": [
    {
     "name": "stderr",
     "output_type": "stream",
     "text": [
      "Downloading: 100%|██████████| 71816/71816 [00:04<00:00, 15169.16rows/s]\n"
     ]
    }
   ],
   "source": [
    "# Descargo la data\n",
    "hue_crudo = pd.io.gbq.read_gbq(q_fr, project_id='peya-argentina', dialect='standard')"
   ]
  },
  {
   "cell_type": "code",
   "execution_count": 11,
   "metadata": {},
   "outputs": [
    {
     "name": "stderr",
     "output_type": "stream",
     "text": [
      "Downloading: 100%|██████████| 1856/1856 [00:01<00:00, 1259.90rows/s]\n"
     ]
    }
   ],
   "source": [
    "hue_cw = pd.io.gbq.read_gbq(q_cw, project_id='peya-argentina', dialect='standard')"
   ]
  },
  {
   "cell_type": "code",
   "execution_count": 12,
   "metadata": {},
   "outputs": [
    {
     "name": "stderr",
     "output_type": "stream",
     "text": [
      "Downloading: 100%|██████████| 11/11 [00:01<00:00,  9.46rows/s]\n"
     ]
    }
   ],
   "source": [
    "hue_orders = pd.io.gbq.read_gbq(q_orders, project_id='peya-argentina', dialect='standard')"
   ]
  },
  {
   "cell_type": "code",
   "execution_count": 13,
   "metadata": {},
   "outputs": [
    {
     "name": "stderr",
     "output_type": "stream",
     "text": [
      "Downloading: 100%|██████████| 8/8 [00:01<00:00,  5.61rows/s]\n"
     ]
    }
   ],
   "source": [
    "hue_online = pd.io.gbq.read_gbq(q_online, project_id='peya-argentina', dialect='standard')"
   ]
  },
  {
   "cell_type": "code",
   "execution_count": 14,
   "metadata": {},
   "outputs": [
    {
     "name": "stderr",
     "output_type": "stream",
     "text": [
      "Downloading: 100%|██████████| 8/8 [00:01<00:00,  6.88rows/s]\n"
     ]
    }
   ],
   "source": [
    "hue_campaigns = pd.io.gbq.read_gbq(q_campaigns, project_id='peya-argentina', dialect='standard')"
   ]
  },
  {
   "cell_type": "code",
   "execution_count": 15,
   "metadata": {},
   "outputs": [],
   "source": [
    "# Copio las bases \n",
    "fr_growth = hue_crudo.copy()\n",
    "cw = hue_cw.copy()\n",
    "orders = hue_orders.copy()\n",
    "online = hue_online.copy()\n",
    "campaigns = hue_campaigns.copy()"
   ]
  },
  {
   "cell_type": "markdown",
   "metadata": {},
   "source": [
    "### TRABAJO"
   ]
  },
  {
   "cell_type": "markdown",
   "metadata": {},
   "source": [
    "#### TRABAJO AM"
   ]
  },
  {
   "cell_type": "code",
   "execution_count": 16,
   "metadata": {},
   "outputs": [],
   "source": [
    "# Doy formato a las columnas para el Merge\n",
    "partners['Id'] = partners['Id'].astype(int)\n",
    "stats['Id'] = stats['Id'].astype(int)\n",
    "fr_growth['Id'] = fr_growth['Id'].astype(int)\n",
    "# Elimino Online y Owner de Stats\n",
    "stats_growth = stats.drop(columns=['Online','Account_Owner']).copy()\n",
    "# Hago el Merge\n",
    "growth = partners.merge(stats_growth,on=['Id'],how='left')\n",
    "growth = growth.merge(fr_growth,on=['Id'],how='left')"
   ]
  },
  {
   "cell_type": "code",
   "execution_count": 17,
   "metadata": {},
   "outputs": [],
   "source": [
    "# Clasifico en Restaurant y NV\n",
    "growth['Restaurant/NV'] = growth['Business'].apply(lambda x: 'Restaurant' if x == 'Restaurant' else 'NV')\n",
    "# Doy formato a las columnas necesarios\n",
    "cols = ['Scheduled_Time','Closed_Time','VFR_Num TM','Total TM']\n",
    "growth[cols] = growth[cols].astype(float)\n",
    "# Creo las columnas faltantes\n",
    "growth['%Open_Time'] = (growth['Scheduled_Time'] - growth['Closed_Time']) / growth['Scheduled_Time']\n",
    "growth['VFR'] = growth['VFR_Num TM'] / growth['Total TM']\n",
    "growth.replace([np.nan,np.inf,-np.inf],0,inplace=True)"
   ]
  },
  {
   "cell_type": "code",
   "execution_count": 18,
   "metadata": {},
   "outputs": [],
   "source": [
    "# Me quedo con las columnas que necesito\n",
    "cols = ['Id','Grid','Name','Fecha_Cierre','Account_Owner','Business','Restaurant/NV','Main_Cuisine','City','Area','Feudo','Reino','Online',\n",
    "        'Online_TM','Zombie','Total TM','VFR_Num TM','VFR','Confirmed_Campaign TM','Closed_Time','Scheduled_Time','%Open_Time',\n",
    "        'Qty_Products','Qty_Photos']\n",
    "growth = growth[cols].copy()"
   ]
  },
  {
   "cell_type": "code",
   "execution_count": 19,
   "metadata": {},
   "outputs": [],
   "source": [
    "# Filtro las columnas de los AM de Growth\n",
    "growth = growth[growth['Account_Owner'].isin(am_growth)].copy()"
   ]
  },
  {
   "cell_type": "markdown",
   "metadata": {},
   "source": [
    "#### TRABAJO SALES"
   ]
  },
  {
   "cell_type": "code",
   "execution_count": 20,
   "metadata": {},
   "outputs": [],
   "source": [
    "# Mando el Propietario a Mayuscula\n",
    "cw['Owner'] = cw['Owner'].apply(lambda x: x.upper())\n",
    "# Me quedo con las CW de Growth\n",
    "growth_cw = cw[cw['Owner'].isin(sl_growth)].copy()\n",
    "# Cambio las fechas a Str\n",
    "growth_cw['Fecha_Cierre'] = growth_cw['Fecha_Cierre'].astype(str)"
   ]
  },
  {
   "cell_type": "code",
   "execution_count": 21,
   "metadata": {},
   "outputs": [],
   "source": [
    "# Selecciono las columnas necesarias\n",
    "cols = ['Id','Grid','Name','City','Area','Business']\n",
    "# Doy los formatos necesarios\n",
    "partners['Grid'] = partners['Grid'].astype(str)\n",
    "growth_cw['Grid'] = growth_cw['Grid'].astype(str)\n",
    "# Hago el merge\n",
    "growth_cw = growth_cw.merge(partners[cols],on=['Grid'],how='left')\n",
    "# Ordeno las columnas\n",
    "cols = ['Grid','Id','Name','City','Area','Business','Tipo','Nombre','Owner','Fecha_Cierre','Comision']\n",
    "growth_cw = growth_cw[cols]"
   ]
  },
  {
   "cell_type": "markdown",
   "metadata": {},
   "source": [
    "#### TRABAJO CM GROWTH"
   ]
  },
  {
   "cell_type": "code",
   "execution_count": 22,
   "metadata": {},
   "outputs": [],
   "source": [
    "# Hago un Merge de las tablas\n",
    "cm_growth = orders.merge(campaigns,on=['City'],how='outer')\n",
    "cm_growth = cm_growth.merge(online,on=['City'],how='outer')\n",
    "cm_growth.replace([np.nan,np.inf,-np.inf],0,inplace=True)"
   ]
  },
  {
   "cell_type": "code",
   "execution_count": 23,
   "metadata": {},
   "outputs": [],
   "source": [
    "# Creo las columnas faltantes\n",
    "cm_growth['%Campaigns'] = cm_growth['Confirmed_Mktg'] / cm_growth['Confirmed']\n",
    "cm_growth['%OD'] = cm_growth['Logistic'] / cm_growth['Confirmed']\n",
    "cm_growth['VFR'] = cm_growth['Rejected_Vendor'] / cm_growth['Total']\n",
    "cm_growth['%Churns'] = cm_growth['Churns'] / cm_growth['Online']\n",
    "cm_growth['%Cartera Activa'] = (cm_growth['Online'] - cm_growth['Zombies']) / cm_growth['Online']\n",
    "cm_growth.replace([np.nan,np.inf,-np.inf],0,inplace=True)"
   ]
  },
  {
   "cell_type": "markdown",
   "metadata": {},
   "source": [
    "### CARGA"
   ]
  },
  {
   "cell_type": "code",
   "execution_count": 24,
   "metadata": {},
   "outputs": [],
   "source": [
    "# Carga Crudo Growth AM\n",
    "sheet_id = '1z2MN12Xwvytz4vk3jiFmvSAOti42e2oFHS5HiM0VOJY'\n",
    "wks_name = 'Crudo'\n",
    "sheet = Spread(sheet_id, wks_name, config=cred)\n",
    "sheet.df_to_sheet(growth, index=False, sheet=wks_name, replace=True)"
   ]
  },
  {
   "cell_type": "code",
   "execution_count": 25,
   "metadata": {},
   "outputs": [],
   "source": [
    "# Carga Crudo Sales Growth\n",
    "sheet_id = '1z2MN12Xwvytz4vk3jiFmvSAOti42e2oFHS5HiM0VOJY'\n",
    "wks_name = 'Crudo Sales'\n",
    "sheet = Spread(sheet_id, wks_name, config=cred)\n",
    "sheet.df_to_sheet(growth_cw, index=False, sheet=wks_name, replace=True)"
   ]
  },
  {
   "cell_type": "code",
   "execution_count": 26,
   "metadata": {},
   "outputs": [],
   "source": [
    "# Carga Crudo CM Growth\n",
    "sheet_id = '1z2MN12Xwvytz4vk3jiFmvSAOti42e2oFHS5HiM0VOJY'\n",
    "wks_name = 'Crudo CM'\n",
    "sheet = Spread(sheet_id, wks_name, config=cred)\n",
    "sheet.df_to_sheet(cm_growth, index=False, sheet=wks_name, replace=True)"
   ]
  }
 ],
 "metadata": {
  "kernelspec": {
   "display_name": "Python 3",
   "language": "python",
   "name": "python3"
  },
  "language_info": {
   "codemirror_mode": {
    "name": "ipython",
    "version": 3
   },
   "file_extension": ".py",
   "mimetype": "text/x-python",
   "name": "python",
   "nbconvert_exporter": "python",
   "pygments_lexer": "ipython3",
   "version": "3.8.5"
  }
 },
 "nbformat": 4,
 "nbformat_minor": 4
}
