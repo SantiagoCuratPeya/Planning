{
 "cells": [
  {
   "cell_type": "code",
   "execution_count": 1,
   "metadata": {},
   "outputs": [],
   "source": [
    "import pandas as pd\n",
    "import numpy as np\n",
    "import pandas_gbq\n",
    "from oauth2client.service_account import ServiceAccountCredentials\n",
    "import gspread \n",
    "import datetime\n",
    "from dateutil.relativedelta import relativedelta\n",
    "from df2gspread import df2gspread as d2g \n",
    "import calendar"
   ]
  },
  {
   "cell_type": "code",
   "execution_count": 19,
   "metadata": {},
   "outputs": [],
   "source": [
    "scope = ['https://spreadsheets.google.com/feeds']\n",
    "credentials = ServiceAccountCredentials.from_json_keyfile_name('PedidosYa-8b8c4d19f61c.json', scope) \n",
    "gc = gspread.authorize(credentials)"
   ]
  },
  {
   "cell_type": "code",
   "execution_count": 75,
   "metadata": {},
   "outputs": [],
   "source": [
    "log = pd.DataFrame(columns=['Archivo',str(datetime.date.today())])"
   ]
  },
  {
   "cell_type": "code",
   "execution_count": 76,
   "metadata": {},
   "outputs": [],
   "source": [
    "def carga(url,sheet,df,archivo,log):\n",
    "    try:\n",
    "        wks_name = sheet \n",
    "        spreadsheet_key2 = url\n",
    "        d2g.upload(df, spreadsheet_key2, wks_name, credentials=credentials, row_names=False)\n",
    "\n",
    "        spreadsheet = gc.open_by_key(spreadsheet_key2)\n",
    "        sheetId = spreadsheet.worksheet(wks_name)._properties['sheetId']\n",
    "        requests = {\n",
    "            \"requests\": [\n",
    "                {\n",
    "                    \"findReplace\": {\n",
    "                        \"sheetId\": sheetId,\n",
    "                        \"find\": \"^'\",\n",
    "                        \"searchByRegex\": True,\n",
    "                        \"includeFormulas\": True,\n",
    "                        \"replacement\": \"\"\n",
    "                    }\n",
    "                }\n",
    "            ]\n",
    "        }\n",
    "        spreadsheet.batch_update(requests)\n",
    "        \n",
    "        log = log.append({'Archivo': archivo, str(datetime.date.today()): 'Correcto'}, ignore_index=True)\n",
    "        return log\n",
    "    except:\n",
    "        log = log.append({'Archivo': archivo, str(datetime.date.today()): 'Error'}, ignore_index=True)\n",
    "        return log"
   ]
  },
  {
   "cell_type": "code",
   "execution_count": 77,
   "metadata": {},
   "outputs": [],
   "source": [
    "t1 = pd.DataFrame.from_dict(dict(T1=[1,2,3],COL2=[1,2,3]))\n",
    "t2 = pd.DataFrame.from_dict(dict(T2=[1,2,3],COL2=[1,2,3]))\n",
    "t3 = pd.DataFrame.from_dict(dict(T3=[1,2,3],COL2=[1,2,3]))"
   ]
  },
  {
   "cell_type": "code",
   "execution_count": 78,
   "metadata": {},
   "outputs": [],
   "source": [
    "log = carga('1I10jBJbQBzlOQMHwG1cTMQDbmnF_Mq5rdK_fZTuLi6Q','T1',t1,'T1',log)\n",
    "log = carga('1I10jBJbQBzlOQMHwG1cTMQDbmnF_Mq5rdK_fZTuLi6Q','T2',t2,'T2',log)\n",
    "log = carga('1I10jBJbQBzlOQMHwG1cTMQDbmnF_Mq5rdK_fZTuLi6Q','T3',t3,'T3',log)\n",
    "log = carga('1I10jBJbQBzlOQMHwG1cTMQDbmnF_Mq5rdK_fZTuLi6Q','Log',log,'Log',log)"
   ]
  }
 ],
 "metadata": {
  "kernelspec": {
   "display_name": "Python 3",
   "language": "python",
   "name": "python3"
  },
  "language_info": {
   "codemirror_mode": {
    "name": "ipython",
    "version": 3
   },
   "file_extension": ".py",
   "mimetype": "text/x-python",
   "name": "python",
   "nbconvert_exporter": "python",
   "pygments_lexer": "ipython3",
   "version": "3.7.6"
  }
 },
 "nbformat": 4,
 "nbformat_minor": 4
}
