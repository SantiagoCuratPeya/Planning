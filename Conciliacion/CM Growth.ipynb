{
 "cells": [
  {
   "cell_type": "markdown",
   "metadata": {},
   "source": [
    "### IMPORTS"
   ]
  },
  {
   "cell_type": "code",
   "execution_count": 1,
   "metadata": {},
   "outputs": [],
   "source": [
    "import pandas as pd\n",
    "import numpy as np\n",
    "import pandas_gbq\n",
    "import datetime\n",
    "from dateutil.relativedelta import relativedelta\n",
    "from Roster import *\n",
    "from gspread_pandas import Spread, conf"
   ]
  },
  {
   "cell_type": "markdown",
   "metadata": {},
   "source": [
    "### CREDENCIALES"
   ]
  },
  {
   "cell_type": "code",
   "execution_count": 2,
   "metadata": {},
   "outputs": [],
   "source": [
    "cred = conf.get_config('C:\\\\Users\\\\santiago.curat\\\\Pandas\\\\PEYA', 'PedidosYa-8b8c4d19f61c.json')"
   ]
  },
  {
   "cell_type": "markdown",
   "metadata": {},
   "source": [
    "### CONSTANTES"
   ]
  },
  {
   "cell_type": "code",
   "execution_count": 12,
   "metadata": {},
   "outputs": [],
   "source": [
    "# Fechas\n",
    "today = datetime.date.today()\n",
    "ilm = str((today - relativedelta(months=1)).replace(day=1))\n",
    "flm = str(today - relativedelta(days=today.day))\n",
    "# Ciudades\n",
    "city_growth = \"'Río Gallegos','Comodoro Rivadavia','Ushuaia','Puerto Madryn','Trelew','Carmen de Patagones','Viedma'\""
   ]
  },
  {
   "cell_type": "markdown",
   "metadata": {},
   "source": [
    "### QUERIES"
   ]
  },
  {
   "cell_type": "code",
   "execution_count": 13,
   "metadata": {},
   "outputs": [],
   "source": [
    "# 714MB\n",
    "q_orders = '''SELECT c.city_name AS City,\n",
    "       COUNT(DISTINCT o.order_id) AS Total,\n",
    "       COUNT(DISTINCT CASE WHEN o.order_status = 'CONFIRMED' THEN o.order_id ELSE NULL END) AS Confirmed,\n",
    "       COUNT(DISTINCT CASE WHEN o.order_status = 'CONFIRMED' AND o.with_logistics THEN o.order_id ELSE NULL END) AS Logistic,\n",
    "       COUNT(DISTINCT CASE WHEN o.order_status IN ('REJECTED','PENDING','CANCELLED') AND o.fail_rate_owner = 'Restaurant' THEN o.order_id ELSE NULL END) AS Rejected_Vendor\n",
    "FROM `peya-bi-tools-pro.il_core.fact_orders` AS o\n",
    "LEFT JOIN `peya-bi-tools-pro.il_core.dim_city` AS c ON o.city.city_id = c.city_id\n",
    "WHERE o.registered_date BETWEEN DATE('{0}') AND DATE('{1}')\n",
    "      AND o.country_id = 3\n",
    "      AND o.address.area.city.name IN ({2})\n",
    "GROUP BY 1'''.format(ilm,flm,city_growth)\n",
    "\n",
    "# 6MB\n",
    "q_online = '''SELECT p.city.name AS City,\n",
    "       COUNT(DISTINCT CASE WHEN pm.is_online THEN pm.restaurant_id ELSE NULL END) AS Online,\n",
    "       COUNT(DISTINCT CASE WHEN pm.is_online AND pm.has_confirmed_orders = FALSE THEN pm.restaurant_id ELSE NULL END) AS Zombies,\n",
    "       COUNT(DISTINCT CASE WHEN pm.is_churned THEN pm.restaurant_id ELSE NULL END) AS Churns\n",
    "FROM `peya-bi-tools-pro.il_core.fact_partners_monthly` AS pm\n",
    "LEFT JOIN `peya-bi-tools-pro.il_core.dim_partner` AS p ON pm.restaurant_id = p.partner_id\n",
    "WHERE DATE(pm.full_date) BETWEEN DATE('{0}') AND DATE('{1}')\n",
    "      AND p.country_id = 3\n",
    "      AND p.city.name IN ({2})\n",
    "GROUP BY 1'''.format(ilm,flm,city_growth)\n",
    "\n",
    "# 970MB\n",
    "q_campaigns = '''SELECT c.city_name AS City,\n",
    "       COUNT(DISTINCT o.order_id) AS Confirmed_Mktg\n",
    "FROM `peya-bi-tools-pro.il_core.fact_orders` AS o,\n",
    "UNNEST (details) AS od\n",
    "LEFT JOIN `peya-bi-tools-pro.il_core.dim_subsidized_product` AS sp ON od.product.product_id = sp.product_id AND od.is_subsidized\n",
    "LEFT JOIN `peya-bi-tools-pro.il_growth.dim_subsidized_campaign` AS sc ON sp.subsidized_product_campaing_id = sc.subsidized_campaign_id\n",
    "LEFT JOIN `peya-bi-tools-pro.il_core.dim_city` AS c ON o.city.city_id = c.city_id\n",
    "WHERE o.registered_date BETWEEN DATE('{0}') AND DATE('{1}')\n",
    "      AND od.is_subsidized\n",
    "      AND o.order_status = 'CONFIRMED'\n",
    "      AND o.country_id = 3\n",
    "      AND sc.subsidized_campaign_id IS NOT NULL\n",
    "      AND o.address.area.city.name IN ({2})\n",
    "GROUP BY 1'''.format(ilm,flm,city_growth)"
   ]
  },
  {
   "cell_type": "code",
   "execution_count": 14,
   "metadata": {},
   "outputs": [
    {
     "name": "stderr",
     "output_type": "stream",
     "text": [
      "Downloading: 100%|█████████████████████████████████████████████████████████████████████| 5/5 [00:01<00:00,  4.37rows/s]\n"
     ]
    }
   ],
   "source": [
    "# Descargo la data\n",
    "hue_orders = pd.io.gbq.read_gbq(q_orders, project_id='peya-argentina', dialect='standard')"
   ]
  },
  {
   "cell_type": "code",
   "execution_count": 15,
   "metadata": {},
   "outputs": [
    {
     "name": "stderr",
     "output_type": "stream",
     "text": [
      "Downloading: 100%|█████████████████████████████████████████████████████████████████████| 7/7 [00:01<00:00,  6.14rows/s]\n"
     ]
    }
   ],
   "source": [
    "hue_online = pd.io.gbq.read_gbq(q_online, project_id='peya-argentina', dialect='standard')"
   ]
  },
  {
   "cell_type": "code",
   "execution_count": 16,
   "metadata": {},
   "outputs": [
    {
     "name": "stderr",
     "output_type": "stream",
     "text": [
      "Downloading: 100%|█████████████████████████████████████████████████████████████████████| 5/5 [00:01<00:00,  4.49rows/s]\n"
     ]
    }
   ],
   "source": [
    "hue_campaigns = pd.io.gbq.read_gbq(q_campaigns, project_id='peya-argentina', dialect='standard')"
   ]
  },
  {
   "cell_type": "code",
   "execution_count": 17,
   "metadata": {},
   "outputs": [],
   "source": [
    "# Copio las bases\n",
    "orders = hue_orders.copy()\n",
    "online = hue_online.copy()\n",
    "campaigns = hue_campaigns.copy()"
   ]
  },
  {
   "cell_type": "markdown",
   "metadata": {},
   "source": [
    "### TRABAJO"
   ]
  },
  {
   "cell_type": "code",
   "execution_count": 18,
   "metadata": {},
   "outputs": [],
   "source": [
    "# Hago un Merge de las tablas\n",
    "cm_growth = orders.merge(campaigns,on=['City'],how='outer')\n",
    "cm_growth = cm_growth.merge(online,on=['City'],how='outer')\n",
    "cm_growth.replace([np.nan,np.inf,-np.inf],0,inplace=True)"
   ]
  },
  {
   "cell_type": "code",
   "execution_count": 19,
   "metadata": {},
   "outputs": [],
   "source": [
    "# Creo las columnas faltantes\n",
    "cm_growth['%Campaigns'] = cm_growth['Confirmed_Mktg'] / cm_growth['Confirmed']\n",
    "cm_growth['%OD'] = cm_growth['Logistic'] / cm_growth['Confirmed']\n",
    "cm_growth['VFR'] = cm_growth['Rejected_Vendor'] / cm_growth['Total']\n",
    "cm_growth['%Churns'] = cm_growth['Churns'] / cm_growth['Online']\n",
    "cm_growth['%Cartera Activa'] = (cm_growth['Online'] - cm_growth['Zombies']) / cm_growth['Online']\n",
    "cm_growth.replace([np.nan,np.inf,-np.inf],0,inplace=True)"
   ]
  },
  {
   "cell_type": "markdown",
   "metadata": {},
   "source": [
    "### CARGA"
   ]
  },
  {
   "cell_type": "code",
   "execution_count": 22,
   "metadata": {},
   "outputs": [],
   "source": [
    "# Carga Crudo CM\n",
    "sheet_id = '1b82zsRm1m3dgbaaVlCRm0n-y7tEK79yXJTLAr8Jfqpo'\n",
    "wks_name = 'Crudo CM'\n",
    "sheet = Spread(sheet_id, wks_name, config=cred)\n",
    "sheet.df_to_sheet(cm_growth, index=False, sheet=wks_name, replace=True)"
   ]
  }
 ],
 "metadata": {
  "kernelspec": {
   "display_name": "Python 3",
   "language": "python",
   "name": "python3"
  },
  "language_info": {
   "codemirror_mode": {
    "name": "ipython",
    "version": 3
   },
   "file_extension": ".py",
   "mimetype": "text/x-python",
   "name": "python",
   "nbconvert_exporter": "python",
   "pygments_lexer": "ipython3",
   "version": "3.7.6"
  }
 },
 "nbformat": 4,
 "nbformat_minor": 4
}
