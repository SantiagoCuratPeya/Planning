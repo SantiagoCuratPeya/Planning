{
 "cells": [
  {
   "cell_type": "markdown",
   "metadata": {},
   "source": [
    "### IMPORTS"
   ]
  },
  {
   "cell_type": "code",
   "execution_count": 1,
   "metadata": {},
   "outputs": [],
   "source": [
    "import pandas as pd\n",
    "import numpy as np\n",
    "import pandas_gbq\n",
    "import datetime\n",
    "from dateutil.relativedelta import relativedelta\n",
    "from Roster import *\n",
    "from gspread_pandas import Spread, conf"
   ]
  },
  {
   "cell_type": "markdown",
   "metadata": {},
   "source": [
    "### CREDENCIALES"
   ]
  },
  {
   "cell_type": "code",
   "execution_count": 2,
   "metadata": {},
   "outputs": [],
   "source": [
    "cred = conf.get_config('C:\\\\Users\\\\micaela.fuchs\\\\Anaconda', 'PedidosYa-6e661fd93faf.json')"
   ]
  },
  {
   "cell_type": "markdown",
   "metadata": {},
   "source": [
    "### CONSTANTES"
   ]
  },
  {
   "cell_type": "code",
   "execution_count": 3,
   "metadata": {},
   "outputs": [],
   "source": [
    "# Fechas\n",
    "today = datetime.date.today()\n",
    "ilm = str((today - relativedelta(months=1)).replace(day=1))\n",
    "flm = str(today - relativedelta(days=today.day))"
   ]
  },
  {
   "cell_type": "markdown",
   "metadata": {},
   "source": [
    "### GOOGLE SHEETS"
   ]
  },
  {
   "cell_type": "code",
   "execution_count": 4,
   "metadata": {},
   "outputs": [],
   "source": [
    "# Partners PEYA\n",
    "sheet_id = '1HmAvHYbJJa3JyRTgRJGKXataQB_TvFwNzyo8a6qXd2o'\n",
    "wks_name = 'Partners PEYA'\n",
    "sheet = Spread(sheet_id, wks_name, config=cred)\n",
    "partners = sheet.sheet_to_df(index=0,header_rows=1)"
   ]
  },
  {
   "cell_type": "code",
   "execution_count": 5,
   "metadata": {},
   "outputs": [],
   "source": [
    "# Sales Growth\n",
    "sheet_id = '1JNywQTVzEQKRwqrJRkpzjiXx5Ly-FldtBMfeSYHuL7w'\n",
    "wks_name = 'Sales Growth'\n",
    "sheet = Spread(sheet_id, wks_name, config=cred)\n",
    "sl_growth = sheet.sheet_to_df(index=0,header_rows=1)"
   ]
  },
  {
   "cell_type": "code",
   "execution_count": 6,
   "metadata": {},
   "outputs": [],
   "source": [
    "# Hago lista de Sales Growth\n",
    "sl_growth = sl_growth['Sales'].to_list()\n",
    "# Paso todo a mayusculas\n",
    "sl_growth = [x.upper() for x in sl_growth]"
   ]
  },
  {
   "cell_type": "markdown",
   "metadata": {},
   "source": [
    "### QUERIES"
   ]
  },
  {
   "cell_type": "code",
   "execution_count": 7,
   "metadata": {},
   "outputs": [],
   "source": [
    "# 57MB\n",
    "q_cw = '''SELECT p.salesforce_id AS Grid,\n",
    "       sfo.Business_Type AS Tipo,\n",
    "       sfc.Name__c AS Nombre,\n",
    "       cw.account_owner AS Owner,\n",
    "       DATE(cw.closed_date) AS Fecha_Cierre,\n",
    "       MAX(sfc.Commission) AS Comision,\n",
    "FROM `peya-bi-tools-pro.il_core.fact_sales_executives_closed_won_v2` AS cw\n",
    "LEFT JOIN `peya-bi-tools-pro.il_core.dim_partner` AS p ON cw.grid = p.salesforce_id\n",
    "LEFT JOIN `peya-data-origins-pro.cl_salesforce.opportunity` AS sfo ON cw.oportunity_unique_id = sfo.Id\n",
    "LEFT JOIN `peya-data-origins-pro.cl_salesforce.contract` AS sfc ON sfo.Id = sfc.Id_Opportunity\n",
    "WHERE DATE(cw.closed_date) BETWEEN DATE('{0}') AND DATE('{1}')\n",
    "      AND p.country_id = 3\n",
    "      AND sfo.Business_Type IN ('New Business','Win Back','Franchise Extension','New Bussiness')\n",
    "GROUP BY 1,2,3,4,5'''.format(ilm,flm)"
   ]
  },
  {
   "cell_type": "code",
   "execution_count": 8,
   "metadata": {},
   "outputs": [
    {
     "name": "stderr",
     "output_type": "stream",
     "text": [
      "Downloading: 100%|██████████| 2682/2682 [00:01<00:00, 1776.05rows/s]\n"
     ]
    }
   ],
   "source": [
    "# Descargo la data\n",
    "hue_cw = pd.io.gbq.read_gbq(q_cw, project_id='peya-argentina', dialect='standard')"
   ]
  },
  {
   "cell_type": "code",
   "execution_count": 9,
   "metadata": {},
   "outputs": [],
   "source": [
    "# Copio las bases\n",
    "cw = hue_cw.copy()"
   ]
  },
  {
   "cell_type": "markdown",
   "metadata": {},
   "source": [
    "### TRABAJO"
   ]
  },
  {
   "cell_type": "code",
   "execution_count": 10,
   "metadata": {},
   "outputs": [],
   "source": [
    "# Mando el Propietario a Mayuscula\n",
    "cw['Owner'] = cw['Owner'].apply(lambda x: x.upper())\n",
    "# Me quedo con las CW de Growth\n",
    "growth_cw = cw[cw['Owner'].isin(sl_growth)].copy()\n",
    "# Cambio las fechas a Str\n",
    "growth_cw['Fecha_Cierre'] = growth_cw['Fecha_Cierre'].astype(str)"
   ]
  },
  {
   "cell_type": "code",
   "execution_count": 11,
   "metadata": {},
   "outputs": [],
   "source": [
    "# Selecciono las columnas necesarias\n",
    "cols = ['Id','Grid','Name','City','Area','Business']\n",
    "# Doy los formatos necesarios\n",
    "partners['Grid'] = partners['Grid'].astype(str)\n",
    "growth_cw['Grid'] = growth_cw['Grid'].astype(str)\n",
    "# Hago el merge\n",
    "growth_cw = growth_cw.merge(partners[cols],on=['Grid'],how='left')\n",
    "# Ordeno las columnas\n",
    "cols = ['Grid','Id','Name','City','Area','Business','Tipo','Nombre','Owner','Fecha_Cierre','Comision']\n",
    "growth_cw = growth_cw[cols]"
   ]
  },
  {
   "cell_type": "markdown",
   "metadata": {},
   "source": [
    "### CARGA"
   ]
  },
  {
   "cell_type": "code",
   "execution_count": 13,
   "metadata": {},
   "outputs": [],
   "source": [
    "# Carga Crudo Sales Growth\n",
    "sheet_id = '1OnvLLu1PXGSTqdxXTBzlI-M0gCQLZt21POmdADJTMDY'\n",
    "wks_name = 'Crudo Sales'\n",
    "sheet = Spread(sheet_id, wks_name, config=cred)\n",
    "sheet.df_to_sheet(growth_cw, index=False, sheet=wks_name, replace=True)"
   ]
  },
  {
   "cell_type": "code",
   "execution_count": null,
   "metadata": {},
   "outputs": [],
   "source": []
  }
 ],
 "metadata": {
  "kernelspec": {
   "display_name": "Python 3",
   "language": "python",
   "name": "python3"
  },
  "language_info": {
   "codemirror_mode": {
    "name": "ipython",
    "version": 3
   },
   "file_extension": ".py",
   "mimetype": "text/x-python",
   "name": "python",
   "nbconvert_exporter": "python",
   "pygments_lexer": "ipython3",
   "version": "3.8.5"
  }
 },
 "nbformat": 4,
 "nbformat_minor": 4
}
