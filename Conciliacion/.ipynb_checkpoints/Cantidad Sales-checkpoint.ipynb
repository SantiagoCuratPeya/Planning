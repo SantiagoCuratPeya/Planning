{
 "cells": [
  {
   "cell_type": "markdown",
   "metadata": {},
   "source": [
    "### IMPORTS"
   ]
  },
  {
   "cell_type": "code",
   "execution_count": 1,
   "metadata": {},
   "outputs": [],
   "source": [
    "import pandas as pd\n",
    "import numpy as np\n",
    "from sqlalchemy import create_engine, inspect\n",
    "import datetime\n",
    "from dateutil.relativedelta import relativedelta\n",
    "from Roster import *\n",
    "from gspread_pandas import Spread, conf"
   ]
  },
  {
   "cell_type": "markdown",
   "metadata": {},
   "source": [
    "### CREDENCIALES"
   ]
  },
  {
   "cell_type": "code",
   "execution_count": 2,
   "metadata": {},
   "outputs": [],
   "source": [
    "cred = conf.get_config('C:\\\\Users\\\\micaela.fuchs\\\\Anaconda', 'PedidosYa-6e661fd93faf.json')"
   ]
  },
  {
   "cell_type": "markdown",
   "metadata": {},
   "source": [
    "### CONSTANTES"
   ]
  },
  {
   "cell_type": "code",
   "execution_count": 3,
   "metadata": {},
   "outputs": [],
   "source": [
    "ilm = '2021-04-01'\n",
    "flm = '2021-04-30'"
   ]
  },
  {
   "cell_type": "markdown",
   "metadata": {},
   "source": [
    "### QUERIES"
   ]
  },
  {
   "cell_type": "code",
   "execution_count": 4,
   "metadata": {},
   "outputs": [],
   "source": [
    "query = '''SELECT p.salesforce_id AS Grid,\n",
    "       IFNULL(CAST(p.partner_id AS STRING),'-') AS Id,\n",
    "       IFNULL(p.business_type.business_type_name,'-') AS Business,\n",
    "       cw.account_owner AS Owner\n",
    "FROM `peya-bi-tools-pro.il_core.fact_sales_executives_closed_won_v2` AS cw\n",
    "LEFT JOIN `peya-bi-tools-pro.il_core.dim_partner` AS p ON cw.grid = p.salesforce_id\n",
    "LEFT JOIN `peya-data-origins-pro.cl_salesforce.opportunity` AS sfo ON cw.oportunity_unique_id = sfo.Id\n",
    "WHERE DATE(cw.closed_date) BETWEEN DATE('{0}') AND DATE('{1}')\n",
    "      AND p.country_id = 3\n",
    "      AND sfo.Business_Type IN ('New Business','Win Back','Franchise Exthension','New Bussiness')\n",
    "ORDER BY 4,2 ASC'''.format(ilm,flm)"
   ]
  },
  {
   "cell_type": "code",
   "execution_count": 5,
   "metadata": {},
   "outputs": [
    {
     "name": "stderr",
     "output_type": "stream",
     "text": [
      "Downloading: 100%|█████████████████████████████████████████████████████████████| 2805/2805 [00:01<00:00, 2075.50rows/s]\n"
     ]
    }
   ],
   "source": [
    "# Descargo la data\n",
    "hue_cw = pd.io.gbq.read_gbq(query, project_id='peya-argentina', dialect='standard')"
   ]
  },
  {
   "cell_type": "code",
   "execution_count": 6,
   "metadata": {},
   "outputs": [],
   "source": [
    "# Copio las bases\n",
    "cw = hue_cw.copy()"
   ]
  },
  {
   "cell_type": "markdown",
   "metadata": {},
   "source": [
    "### TRABAJO"
   ]
  },
  {
   "cell_type": "code",
   "execution_count": 9,
   "metadata": {},
   "outputs": [],
   "source": [
    "# Mando el Owner a Mayuscula\n",
    "cw['Owner'] = cw['Owner'].str.upper()"
   ]
  },
  {
   "cell_type": "markdown",
   "metadata": {},
   "source": [
    "### CARGA"
   ]
  },
  {
   "cell_type": "code",
   "execution_count": 11,
   "metadata": {},
   "outputs": [],
   "source": [
    "# Carga Roster Sales\n",
    "sheet_id = '1LIGmoStWNKqo0tjVUPRVW7KYRJeNXjwya8KH66BpYUs'\n",
    "wks_name = 'CW'\n",
    "sheet = Spread(sheet_id, wks_name, config=cred)\n",
    "sheet.df_to_sheet(cw, index=False, sheet=wks_name, replace=True)"
   ]
  }
 ],
 "metadata": {
  "kernelspec": {
   "display_name": "Python 3",
   "language": "python",
   "name": "python3"
  },
  "language_info": {
   "codemirror_mode": {
    "name": "ipython",
    "version": 3
   },
   "file_extension": ".py",
   "mimetype": "text/x-python",
   "name": "python",
   "nbconvert_exporter": "python",
   "pygments_lexer": "ipython3",
   "version": "3.8.5"
  }
 },
 "nbformat": 4,
 "nbformat_minor": 4
}
