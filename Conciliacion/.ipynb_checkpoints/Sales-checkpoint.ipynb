{
 "cells": [
  {
   "cell_type": "markdown",
   "metadata": {},
   "source": [
    "### IMPORTS"
   ]
  },
  {
   "cell_type": "code",
   "execution_count": 141,
   "metadata": {},
   "outputs": [],
   "source": [
    "import pandas as pd\n",
    "import numpy as np\n",
    "import pandas_gbq\n",
    "import datetime\n",
    "from dateutil.relativedelta import relativedelta\n",
    "from Roster import *\n",
    "from gspread_pandas import Spread, conf"
   ]
  },
  {
   "cell_type": "markdown",
   "metadata": {},
   "source": [
    "### CREDENCIALES"
   ]
  },
  {
   "cell_type": "code",
   "execution_count": 142,
   "metadata": {},
   "outputs": [],
   "source": [
    "cred = conf.get_config('C:\\\\Users\\\\micaela.fuchs\\\\Anaconda', 'PedidosYa-6e661fd93faf.json')"
   ]
  },
  {
   "cell_type": "markdown",
   "metadata": {},
   "source": [
    "### CONSTANTES"
   ]
  },
  {
   "cell_type": "code",
   "execution_count": 128,
   "metadata": {},
   "outputs": [],
   "source": [
    "# Fechas\n",
    "today = datetime.date.today()\n",
    "ilm = str((today - relativedelta(months=1)).replace(day=1))\n",
    "flm = str(today - relativedelta(days=today.day))"
   ]
  },
  {
   "cell_type": "markdown",
   "metadata": {},
   "source": [
    "### GOOGLE SHEETS"
   ]
  },
  {
   "cell_type": "code",
   "execution_count": 143,
   "metadata": {},
   "outputs": [],
   "source": [
    "# Roster\n",
    "sheet_id = '1M2lrZ-5ZujV0cB3_2MxYqIjWLKicBkyxZzi9r9aUqIU'\n",
    "wks_name = 'Roster'\n",
    "sheet = Spread(sheet_id, wks_name, config=cred)\n",
    "roster = sheet.sheet_to_df(index=0,header_rows=1)"
   ]
  },
  {
   "cell_type": "code",
   "execution_count": 144,
   "metadata": {},
   "outputs": [],
   "source": [
    "# Me quedo con los Sales\n",
    "sales_roster = roster[roster['Cargo'] == 'Sales'].copy()\n",
    "sales_roster['Nombre y Apellido'] = sales_roster['Nombre y Apellido'].apply(lambda x: x.upper())"
   ]
  },
  {
   "cell_type": "markdown",
   "metadata": {},
   "source": [
    "### QUERIES"
   ]
  },
  {
   "cell_type": "code",
   "execution_count": 131,
   "metadata": {},
   "outputs": [],
   "source": [
    "# 60MB\n",
    "q_cw = '''SELECT p.salesforce_id AS Grid,\n",
    "       IFNULL(CAST(p.partner_id AS STRING),'-') AS Id,\n",
    "       IFNULL(p.partner_name,'-') AS Name,\n",
    "       IFNULL(p.city.name,'-') AS City,\n",
    "       IFNULL(a.area_name,'-') AS Area,\n",
    "       IFNULL(p.business_type.business_type_name,'-') AS Business,\n",
    "       sfo.Business_Type AS Tipo,\n",
    "       IFNULL(sfc.Name__c,'-') AS Nombre,\n",
    "       cw.account_owner AS Owner,\n",
    "       DATE(cw.closed_date) AS Fecha_Cierre,\n",
    "       CASE WHEN cw.add_on = 'Exclusivity' THEN 'Si' ELSE 'No' END AS Exclusivity,\n",
    "       MAX(sfc.Commission) AS Comision,\n",
    "FROM `peya-bi-tools-pro.il_core.fact_sales_executives_closed_won_v2` AS cw\n",
    "LEFT JOIN `peya-bi-tools-pro.il_core.dim_partner` AS p ON cw.grid = p.salesforce_id\n",
    "LEFT JOIN `peya-bi-tools-pro.il_core.dim_area` AS a ON p.address.area_id = a.area_id\n",
    "LEFT JOIN `peya-data-origins-pro.cl_salesforce.opportunity` AS sfo ON cw.oportunity_unique_id = sfo.Id\n",
    "LEFT JOIN `peya-data-origins-pro.cl_salesforce.contract` AS sfc ON sfo.Id = sfc.Id_Opportunity\n",
    "WHERE DATE(cw.closed_date) BETWEEN DATE('{0}') AND DATE('{1}')\n",
    "      AND p.country_id = 3\n",
    "      AND sfo.Business_Type IN ('New Business','Win Back','Franchise Extension','New Bussiness')\n",
    "GROUP BY 1,2,3,4,5,6,7,8,9,10,11\n",
    "ORDER BY 8,6,9 DESC'''.format(ilm,flm)"
   ]
  },
  {
   "cell_type": "code",
   "execution_count": 132,
   "metadata": {},
   "outputs": [
    {
     "name": "stderr",
     "output_type": "stream",
     "text": [
      "Downloading: 100%|█████████████████████████████████████████████████████████████| 2807/2807 [00:01<00:00, 2006.18rows/s]\n"
     ]
    }
   ],
   "source": [
    "# Descargo la data\n",
    "hue_cw = pd.io.gbq.read_gbq(q_cw, project_id='peya-argentina', dialect='standard')"
   ]
  },
  {
   "cell_type": "code",
   "execution_count": 133,
   "metadata": {},
   "outputs": [],
   "source": [
    "# Copio las bases\n",
    "cw = hue_cw.copy()"
   ]
  },
  {
   "cell_type": "markdown",
   "metadata": {},
   "source": [
    "### TRABAJO"
   ]
  },
  {
   "cell_type": "code",
   "execution_count": 134,
   "metadata": {},
   "outputs": [],
   "source": [
    "# Coloco Feudo y Reino\n",
    "cw['Feudo'] = cw.apply(feudos,axis=1)\n",
    "cw['Reino'] = cw.apply(reinos,axis=1)"
   ]
  },
  {
   "cell_type": "code",
   "execution_count": 135,
   "metadata": {},
   "outputs": [],
   "source": [
    "# Mando el Propietario a Mayuscula\n",
    "cw['Owner'] = cw['Owner'].apply(lambda x: x.upper())"
   ]
  },
  {
   "cell_type": "code",
   "execution_count": 136,
   "metadata": {},
   "outputs": [],
   "source": [
    "# Coloco la Zona\n",
    "roster_cw = sales_roster[sales_roster.columns[1:3]].copy()\n",
    "roster_cw.columns = ['Owner','Feudo_Owner']\n",
    "cw = cw.merge(roster_cw,on=['Owner'],how='left')\n",
    "cw['Feudo_Owner'] = cw['Feudo_Owner'].replace([np.nan,np.inf,-np.inf],'-')"
   ]
  },
  {
   "cell_type": "code",
   "execution_count": 137,
   "metadata": {},
   "outputs": [],
   "source": [
    "# Cambio las fechas a Str\n",
    "cw['Fecha_Cierre'] = cw['Fecha_Cierre'].astype(str)"
   ]
  },
  {
   "cell_type": "markdown",
   "metadata": {},
   "source": [
    "### CARGA"
   ]
  },
  {
   "cell_type": "code",
   "execution_count": 109,
   "metadata": {},
   "outputs": [
    {
     "data": {
      "text/plain": [
       "{'spreadsheetId': '1PPmZJNCsGaMcjb_6xsXcn2MLp8PQBjR-TieLOicUGro',\n",
       " 'replies': [{'findReplace': {}}]}"
      ]
     },
     "execution_count": 109,
     "metadata": {},
     "output_type": "execute_result"
    }
   ],
   "source": [
    "# Carga Roster Sales\n",
    "sheet_id = '1PPmZJNCsGaMcjb_6xsXcn2MLp8PQBjR-TieLOicUGro'\n",
    "wks_name = 'Roster Sales'\n",
    "sheet = Spread(sheet_id, wks_name, config=cred)\n",
    "sheet.df_to_sheet(sales_roster, index=False, sheet=wks_name, replace=True)"
   ]
  },
  {
   "cell_type": "code",
   "execution_count": 140,
   "metadata": {},
   "outputs": [
    {
     "data": {
      "text/plain": [
       "{'spreadsheetId': '1PPmZJNCsGaMcjb_6xsXcn2MLp8PQBjR-TieLOicUGro',\n",
       " 'replies': [{'findReplace': {'valuesChanged': 8410,\n",
       "    'rowsChanged': 2807,\n",
       "    'sheetsChanged': 1,\n",
       "    'occurrencesChanged': 8410}}]}"
      ]
     },
     "execution_count": 140,
     "metadata": {},
     "output_type": "execute_result"
    }
   ],
   "source": [
    "# Carga Crudo CW\n",
    "sheet_id = '1PPmZJNCsGaMcjb_6xsXcn2MLp8PQBjR-TieLOicUGro'\n",
    "wks_name = 'Crudo CW'\n",
    "sheet = Spread(sheet_id, wks_name, config=cred)\n",
    "sheet.df_to_sheet(cw, index=False, sheet=wks_name, replace=True)"
   ]
  }
 ],
 "metadata": {
  "kernelspec": {
   "display_name": "Python 3",
   "language": "python",
   "name": "python3"
  },
  "language_info": {
   "codemirror_mode": {
    "name": "ipython",
    "version": 3
   },
   "file_extension": ".py",
   "mimetype": "text/x-python",
   "name": "python",
   "nbconvert_exporter": "python",
   "pygments_lexer": "ipython3",
   "version": "3.8.5"
  }
 },
 "nbformat": 4,
 "nbformat_minor": 4
}
