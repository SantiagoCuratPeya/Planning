{
 "cells": [
  {
   "cell_type": "markdown",
   "metadata": {},
   "source": [
    "### IMPORTS"
   ]
  },
  {
   "cell_type": "code",
   "execution_count": 1,
   "metadata": {},
   "outputs": [],
   "source": [
    "import pandas as pd\n",
    "import numpy as np\n",
    "import pandas_gbq\n",
    "import datetime\n",
    "from dateutil.relativedelta import relativedelta\n",
    "from gspread_pandas import Spread, conf"
   ]
  },
  {
   "cell_type": "markdown",
   "metadata": {},
   "source": [
    "### CREDENCIALES"
   ]
  },
  {
   "cell_type": "code",
   "execution_count": 2,
   "metadata": {},
   "outputs": [],
   "source": [
    "cred = conf.get_config('C:\\\\Users\\\\santiago.curat\\\\Pandas\\\\PEYA', 'PedidosYa-8b8c4d19f61c.json')"
   ]
  },
  {
   "cell_type": "markdown",
   "metadata": {},
   "source": [
    "### CONSTANTES"
   ]
  },
  {
   "cell_type": "code",
   "execution_count": 3,
   "metadata": {},
   "outputs": [],
   "source": [
    "# Fechas\n",
    "today = datetime.date.today()\n",
    "if today.day == 1:\n",
    "    tm = today - relativedelta(days=1)\n",
    "    limite = tm.replace(day=15)\n",
    "else:\n",
    "    tm = today + relativedelta(months=1) - relativedelta(days=(today + relativedelta(months=1)).day)\n",
    "    limite = tm.replace(day=15)"
   ]
  },
  {
   "cell_type": "markdown",
   "metadata": {},
   "source": [
    "### GOOGLE SHEETS"
   ]
  },
  {
   "cell_type": "code",
   "execution_count": 4,
   "metadata": {},
   "outputs": [],
   "source": [
    "# Partners PEYA\n",
    "sheet_id = '1HmAvHYbJJa3JyRTgRJGKXataQB_TvFwNzyo8a6qXd2o'\n",
    "wks_name = 'Partners PEYA'\n",
    "sheet = Spread(sheet_id, wks_name, config=cred)\n",
    "partners = sheet.sheet_to_df(index=0,header_rows=1)"
   ]
  },
  {
   "cell_type": "code",
   "execution_count": 5,
   "metadata": {},
   "outputs": [],
   "source": [
    "# Stats PEYA\n",
    "sheet_id = '1PO5kGLgz5Xn_WNCQQB0OPcKCl7KeS7kMrkJaGxafqmY'\n",
    "wks_name = 'Stats PEYA'\n",
    "sheet = Spread(sheet_id, wks_name, config=cred)\n",
    "stats = sheet.sheet_to_df(index=0,header_rows=1)"
   ]
  },
  {
   "cell_type": "code",
   "execution_count": 6,
   "metadata": {},
   "outputs": [],
   "source": [
    "# RCP\n",
    "sheet_id = '1JNywQTVzEQKRwqrJRkpzjiXx5Ly-FldtBMfeSYHuL7w'\n",
    "wks_name = 'RCP'\n",
    "sheet = Spread(sheet_id, wks_name, config=cred)\n",
    "rcp = sheet.sheet_to_df(index=0,header_rows=1)"
   ]
  },
  {
   "cell_type": "markdown",
   "metadata": {},
   "source": [
    "### FUNCIONES"
   ]
  },
  {
   "cell_type": "code",
   "execution_count": 7,
   "metadata": {},
   "outputs": [],
   "source": [
    "def clasificacion(i):\n",
    "    if i['Fecha_Cierre'] != '-':\n",
    "        cierre = datetime.datetime.strptime(i['Fecha_Cierre'],'%Y-%m-%d').date()\n",
    "        if cierre > limite:\n",
    "            val = 'New Online'\n",
    "        else:\n",
    "            val = 'Activa'\n",
    "    else:\n",
    "        if i['Dias_Online LM'] > 0 and i['Confirmed LM'] == 0:\n",
    "            val = 'RCP Next Month'\n",
    "        else:\n",
    "            val = 'Activa'\n",
    "    return val"
   ]
  },
  {
   "cell_type": "markdown",
   "metadata": {},
   "source": [
    "### TRABAJO"
   ]
  },
  {
   "cell_type": "markdown",
   "metadata": {},
   "source": [
    "#### TRABAJO ZOMBIES"
   ]
  },
  {
   "cell_type": "code",
   "execution_count": 8,
   "metadata": {},
   "outputs": [],
   "source": [
    "# Hago lista de RCP\n",
    "rcp = [x.upper() for x in rcp[rcp.columns[0]]]"
   ]
  },
  {
   "cell_type": "code",
   "execution_count": 9,
   "metadata": {},
   "outputs": [],
   "source": [
    "# Doy formato a las columnas de Stats\n",
    "cols = [i for i in stats.columns if i not in ['Id','Fecha_Cierre','Online','Account_Owner']]\n",
    "stats[cols] = stats[cols].astype(float)"
   ]
  },
  {
   "cell_type": "code",
   "execution_count": 10,
   "metadata": {},
   "outputs": [],
   "source": [
    "# Filtro las columnas a usar\n",
    "cols_partners = ['Id','Grid','Online','Account_Owner','Area','Feudo','Reino','KAM','Business','Concept']\n",
    "cols_stats = ['Id','Fecha_Cierre','Dias_Online TM','Dias_Online LM','Confirmed TM','Confirmed LM']\n",
    "partners = partners[cols_partners].copy()\n",
    "stats = stats[cols_stats].copy()"
   ]
  },
  {
   "cell_type": "code",
   "execution_count": 11,
   "metadata": {},
   "outputs": [],
   "source": [
    "# Doy formato a las columnas\n",
    "partners['Id'] = partners['Id'].astype(int)\n",
    "stats['Id'] = stats['Id'].astype(int)\n",
    "# Hago el merge\n",
    "final = partners.merge(stats,how='left')\n",
    "final.replace([np.nan,np.inf,-np.inf],0,inplace=True)"
   ]
  },
  {
   "cell_type": "code",
   "execution_count": 12,
   "metadata": {},
   "outputs": [],
   "source": [
    "# Coloco la Clasificacion\n",
    "final['Clasificacion'] = final.apply(clasificacion,axis=1)\n",
    "# Marco los Zombies\n",
    "final['Zombie Empresa'] = final.apply(lambda x: 'Si' if x['Confirmed TM'] == 0 and x['Dias_Online TM'] > 0 else 'No',axis=1)\n",
    "final['Zombie Account'] = final.apply(lambda x: 'Si' if x['Zombie Empresa'] == 'Si' and x['Online'] == 'Si' else 'No',axis=1)"
   ]
  },
  {
   "cell_type": "code",
   "execution_count": 13,
   "metadata": {},
   "outputs": [],
   "source": [
    "# Ordeno las columnas\n",
    "cols = ['Id','Grid','Online','Fecha_Cierre','Dias_Online LM','Dias_Online TM','Confirmed LM','Confirmed TM','Clasificacion',\n",
    "        'Zombie Empresa','Zombie Account']\n",
    "base_zombies = final[cols].copy()\n",
    "# Ordeno segun Id\n",
    "base_zombies.sort_values(by=['Id'],inplace=True)"
   ]
  },
  {
   "cell_type": "markdown",
   "metadata": {},
   "source": [
    "#### TRABAJO OBJETIVO ZOMBIES"
   ]
  },
  {
   "cell_type": "code",
   "execution_count": 14,
   "metadata": {},
   "outputs": [],
   "source": [
    "# Marco las RCP\n",
    "final['Account_Owner'] = final['Account_Owner'].str.upper()\n",
    "final['RCP'] = final['Account_Owner'].apply(lambda x: 'Si' if x in rcp else 'No')"
   ]
  },
  {
   "cell_type": "code",
   "execution_count": 15,
   "metadata": {},
   "outputs": [],
   "source": [
    "# Coloco el Business Final\n",
    "final['Business Final'] = final['Business'].apply(lambda x: 'Restaurant' if x == 'Restaurant' else 'NV')\n",
    "# Creo una columna de base para contas las cuentas\n",
    "final['Carteras'] = final['Dias_Online TM'].apply(lambda x: 1 if x > 0 else 0)"
   ]
  },
  {
   "cell_type": "code",
   "execution_count": 16,
   "metadata": {},
   "outputs": [],
   "source": [
    "# Hago una PT para las Carteras\n",
    "carteras_cm = pd.pivot_table(final,index=['Reino','Feudo','KAM','Concept','RCP','Business Final','Clasificacion'],values=['Carteras'],aggfunc='sum',fill_value=0).reset_index()\n",
    "carteras_am = pd.pivot_table(final,index=['Account_Owner','Clasificacion'],values=['Carteras'],aggfunc='sum',fill_value=0).reset_index()"
   ]
  },
  {
   "cell_type": "code",
   "execution_count": 17,
   "metadata": {},
   "outputs": [],
   "source": [
    "# Separo los Zombies\n",
    "zombies = final[final['Zombie Empresa'] == 'Si'].copy()\n",
    "# Ordeno las columnas\n",
    "cols = ['Grid','Id','Area','Feudo','Reino','KAM','Business','Account_Owner','Concept','Online','Fecha_Cierre',\n",
    "        'Dias_Online LM','Dias_Online TM','Confirmed LM','Confirmed TM','Clasificacion','Zombie Empresa','Zombie Account',\n",
    "        'RCP','Carteras','Business Final']\n",
    "zombies = zombies[cols].copy()"
   ]
  },
  {
   "cell_type": "markdown",
   "metadata": {},
   "source": [
    "### CARGA"
   ]
  },
  {
   "cell_type": "code",
   "execution_count": 18,
   "metadata": {},
   "outputs": [],
   "source": [
    "# Carga Zombies PEYA\n",
    "sheet_id = '11PbmF7vo_A1wfcSIY00iwy6lU04LjyWLjZ4SPebyqbA'\n",
    "wks_name = 'Zombies PEYA'\n",
    "sheet = Spread(sheet_id, wks_name, config=cred)\n",
    "sheet.df_to_sheet(base_zombies, index=False, sheet=wks_name, replace=True)"
   ]
  },
  {
   "cell_type": "code",
   "execution_count": 21,
   "metadata": {},
   "outputs": [],
   "source": [
    "# Carga Cartera CM\n",
    "sheet_id = '1CHBlR8cFKRy-ycRdf_NAcTvGhA9TgfaKytJSJENM5xk'\n",
    "wks_name = 'Cuentas RM-CM'\n",
    "sheet = Spread(sheet_id, wks_name, config=cred)\n",
    "sheet.df_to_sheet(carteras_cm, index=False, sheet=wks_name, replace=True)"
   ]
  },
  {
   "cell_type": "code",
   "execution_count": 22,
   "metadata": {},
   "outputs": [],
   "source": [
    "# Carga Cartera AM\n",
    "sheet_id = '1CHBlR8cFKRy-ycRdf_NAcTvGhA9TgfaKytJSJENM5xk'\n",
    "wks_name = 'Cuentas Accounts'\n",
    "sheet = Spread(sheet_id, wks_name, config=cred)\n",
    "sheet.df_to_sheet(carteras_am, index=False, sheet=wks_name, replace=True)"
   ]
  },
  {
   "cell_type": "code",
   "execution_count": 23,
   "metadata": {},
   "outputs": [],
   "source": [
    "# Carga Zombies\n",
    "sheet_id = '1CHBlR8cFKRy-ycRdf_NAcTvGhA9TgfaKytJSJENM5xk'\n",
    "wks_name = 'Zombies'\n",
    "sheet = Spread(sheet_id, wks_name, config=cred)\n",
    "sheet.df_to_sheet(zombies, index=False, sheet=wks_name, replace=True)"
   ]
  }
 ],
 "metadata": {
  "kernelspec": {
   "display_name": "Python 3",
   "language": "python",
   "name": "python3"
  },
  "language_info": {
   "codemirror_mode": {
    "name": "ipython",
    "version": 3
   },
   "file_extension": ".py",
   "mimetype": "text/x-python",
   "name": "python",
   "nbconvert_exporter": "python",
   "pygments_lexer": "ipython3",
   "version": "3.7.6"
  }
 },
 "nbformat": 4,
 "nbformat_minor": 4
}
