{
 "cells": [
  {
   "cell_type": "markdown",
   "metadata": {},
   "source": [
    "### IMPORTS"
   ]
  },
  {
   "cell_type": "code",
   "execution_count": 23,
   "metadata": {},
   "outputs": [],
   "source": [
    "import pandas as pd\n",
    "import numpy as np\n",
    "import pandas_gbq\n",
    "import datetime\n",
    "from dateutil.relativedelta import relativedelta\n",
    "import calendar\n",
    "from gspread_pandas import Spread, conf"
   ]
  },
  {
   "cell_type": "markdown",
   "metadata": {},
   "source": [
    "### CREDENCIALES"
   ]
  },
  {
   "cell_type": "code",
   "execution_count": 24,
   "metadata": {},
   "outputs": [],
   "source": [
    "cred = conf.get_config('C:\\\\Users\\\\micaela.fuchs\\\\Anaconda', 'PedidosYa-6e661fd93faf.json')"
   ]
  },
  {
   "cell_type": "markdown",
   "metadata": {},
   "source": [
    "### CONSTANTES"
   ]
  },
  {
   "cell_type": "code",
   "execution_count": 3,
   "metadata": {},
   "outputs": [],
   "source": [
    "# Fechas\n",
    "today = datetime.date.today()\n",
    "if today.day == 1:\n",
    "    ftm = str(today - relativedelta(days=1))\n",
    "    itm = str((today - relativedelta(days=1)).replace(day=1))\n",
    "else:\n",
    "    itm = str(today.replace(day=1))\n",
    "    ftm = str(today + relativedelta(months=1) - relativedelta(days=(today + relativedelta(months=1)).day))"
   ]
  },
  {
   "cell_type": "markdown",
   "metadata": {},
   "source": [
    "### GOOGLE SHEETS"
   ]
  },
  {
   "cell_type": "code",
   "execution_count": 25,
   "metadata": {},
   "outputs": [],
   "source": [
    "# Partners PEYA\n",
    "sheet_id = '1HmAvHYbJJa3JyRTgRJGKXataQB_TvFwNzyo8a6qXd2o'\n",
    "wks_name = 'Partners PEYA'\n",
    "sheet = Spread(sheet_id, wks_name, config=cred)\n",
    "partners = sheet.sheet_to_df(index=0,header_rows=1)"
   ]
  },
  {
   "cell_type": "code",
   "execution_count": 27,
   "metadata": {},
   "outputs": [],
   "source": [
    "# Objetivos AM\n",
    "sheet_id = '1-CxJ2lMGZ8Nhr1oqdEjK4b2R-XjDxaafmIL3KvVezXw'\n",
    "wks_name = 'Objetivos AM'\n",
    "sheet = Spread(sheet_id, wks_name, config=cred)\n",
    "objetivos = sheet.sheet_to_df(index=0,header_rows=1)"
   ]
  },
  {
   "cell_type": "markdown",
   "metadata": {},
   "source": [
    "### QUERIES"
   ]
  },
  {
   "cell_type": "code",
   "execution_count": 6,
   "metadata": {},
   "outputs": [],
   "source": [
    "# 840MB\n",
    "q_cam = '''SELECT o.restaurant.id AS Id,\n",
    "       sc.subsidized_campaign_name AS Campaign_Name,\n",
    "       COUNT(DISTINCT o.order_id) AS Confirmed\n",
    "FROM `peya-bi-tools-pro.il_core.fact_orders` AS o,\n",
    "UNNEST (details) AS od\n",
    "LEFT JOIN `peya-bi-tools-pro.il_core.dim_subsidized_product` AS sp ON od.product.product_id = sp.product_id AND od.is_subsidized\n",
    "LEFT JOIN `peya-bi-tools-pro.il_growth.dim_subsidized_campaign` AS sc ON sp.subsidized_product_campaing_id = sc.subsidized_campaign_id\n",
    "WHERE o.registered_date BETWEEN DATE('{0}') AND DATE('{1}')\n",
    "      AND od.is_subsidized\n",
    "      AND o.order_status = 'CONFIRMED'\n",
    "      AND o.country_id = 3\n",
    "      AND sc.subsidized_campaign_id IS NOT NULL\n",
    "GROUP BY 1,2'''.format(itm,ftm)"
   ]
  },
  {
   "cell_type": "code",
   "execution_count": 7,
   "metadata": {},
   "outputs": [
    {
     "name": "stderr",
     "output_type": "stream",
     "text": [
      "Downloading: 100%|███████████████████████████████████████████████████████████| 22760/22760 [00:02<00:00, 8898.47rows/s]\n"
     ]
    }
   ],
   "source": [
    "# Descargo la data\n",
    "hue_cam = pd.io.gbq.read_gbq(q_cam, project_id='peya-argentina', dialect='standard')"
   ]
  },
  {
   "cell_type": "code",
   "execution_count": 8,
   "metadata": {},
   "outputs": [],
   "source": [
    "# Copio las bases\n",
    "cam = hue_cam.copy()"
   ]
  },
  {
   "cell_type": "markdown",
   "metadata": {},
   "source": [
    "### TRABAJO"
   ]
  },
  {
   "cell_type": "markdown",
   "metadata": {},
   "source": [
    "#### TRABAJO CAMPAÑAS"
   ]
  },
  {
   "cell_type": "code",
   "execution_count": 9,
   "metadata": {},
   "outputs": [],
   "source": [
    "# Doy formato a las columnas\n",
    "val = [i for i in cam.columns if i not in ['Id','Campaign_Name']]\n",
    "cam[val] = cam[val].astype(float)"
   ]
  },
  {
   "cell_type": "code",
   "execution_count": 10,
   "metadata": {},
   "outputs": [],
   "source": [
    "# Ordeno las columnas segun cantidad de ordenes\n",
    "campaigns = cam.pivot_table(index=['Campaign_Name'],values=['Confirmed'],aggfunc='sum',fill_value=0).reset_index()\n",
    "campaigns.sort_values(by=['Confirmed'],ascending=False,inplace=True)\n",
    "campaigns_cols = campaigns['Campaign_Name'].to_list()"
   ]
  },
  {
   "cell_type": "code",
   "execution_count": 11,
   "metadata": {},
   "outputs": [],
   "source": [
    "# Creo la PT de campañas\n",
    "campaigns = pd.DataFrame(cam.pivot_table(index=['Id'],columns=['Campaign_Name'],values=val,aggfunc='sum',fill_value=0).to_records())\n",
    "# Cambio nombre a columnas\n",
    "cols = [i.replace(\"'\",\"\").replace('(','').replace(')','').replace(', ','').replace('Confirmed','') for i in campaigns.columns]\n",
    "campaigns.columns = cols"
   ]
  },
  {
   "cell_type": "code",
   "execution_count": 12,
   "metadata": {},
   "outputs": [],
   "source": [
    "# Preparo el merge de las tablas\n",
    "campaigns['Id'] = campaigns['Id'].astype(int)\n",
    "partners['Id'] = partners['Id'].astype(int)\n",
    "# Uno las tablas\n",
    "cols = ['Id','Grid','Account_Owner','Name','Franchise','Business','City','Area','Feudo','Reino','KAM','Concept','Online']\n",
    "final_cam = campaigns.merge(partners[cols],on=['Id'],how='left')\n",
    "# Elimino las columnas sin Grid\n",
    "final_cam.dropna(subset=['Grid'],inplace=True)"
   ]
  },
  {
   "cell_type": "code",
   "execution_count": 13,
   "metadata": {},
   "outputs": [],
   "source": [
    "# Ordeno las columnas\n",
    "cols = cols + campaigns_cols\n",
    "final_cam = final_cam[cols].copy()"
   ]
  },
  {
   "cell_type": "markdown",
   "metadata": {},
   "source": [
    "#### TRABAJO ACCOUNTS"
   ]
  },
  {
   "cell_type": "code",
   "execution_count": 14,
   "metadata": {},
   "outputs": [],
   "source": [
    "# Creo la PT de Accounts\n",
    "accounts = final_cam.pivot_table(index=['Account_Owner'],values=campaigns_cols,aggfunc='sum',fill_value=0).reset_index()\n",
    "# Ordeno las columnas\n",
    "accounts = accounts[['Account_Owner'] + campaigns_cols].copy()"
   ]
  },
  {
   "cell_type": "code",
   "execution_count": 15,
   "metadata": {},
   "outputs": [],
   "source": [
    "# Me quedo con las columnas de Objetivos que me sirven\n",
    "cols_obj = ['Account_Owner','Lider','Zona','Manager','Cuenta c/Campaña','%Adhesion Campañas','Confirmed TM','Confirmed_Campaign TM','%Ordenes Campañas']\n",
    "objetivos = objetivos[cols_obj].copy()\n",
    "# Uno las tablas\n",
    "final_acc = objetivos.merge(accounts,on=['Account_Owner'],how='left')\n",
    "final_acc.replace([np.nan,np.inf,-np.inf],0,inplace=True)"
   ]
  },
  {
   "cell_type": "markdown",
   "metadata": {},
   "source": [
    "### CARGA"
   ]
  },
  {
   "cell_type": "code",
   "execution_count": 21,
   "metadata": {},
   "outputs": [
    {
     "data": {
      "text/plain": [
       "{'spreadsheetId': '1PnxQ42g6YDmUPh28ldmU_cD_iFUPyK8u0wrhcNf36p0',\n",
       " 'replies': [{'findReplace': {'valuesChanged': 667909,\n",
       "    'rowsChanged': 13096,\n",
       "    'sheetsChanged': 1,\n",
       "    'occurrencesChanged': 667909}}]}"
      ]
     },
     "execution_count": 21,
     "metadata": {},
     "output_type": "execute_result"
    }
   ],
   "source": [
    "# Carga Crudo Campañas\n",
    "sheet_id = '1PnxQ42g6YDmUPh28ldmU_cD_iFUPyK8u0wrhcNf36p0'\n",
    "wks_name = 'Crudo Campañas' \n",
    "sheet = Spread(sheet_id, wks_name, config=cred)\n",
    "sheet.df_to_sheet(final_cam, index=False, sheet=wks_name, replace=True)"
   ]
  },
  {
   "cell_type": "code",
   "execution_count": 22,
   "metadata": {},
   "outputs": [
    {
     "data": {
      "text/plain": [
       "{'spreadsheetId': '1PnxQ42g6YDmUPh28ldmU_cD_iFUPyK8u0wrhcNf36p0',\n",
       " 'replies': [{'findReplace': {'valuesChanged': 7480,\n",
       "    'rowsChanged': 136,\n",
       "    'sheetsChanged': 1,\n",
       "    'occurrencesChanged': 7480}}]}"
      ]
     },
     "execution_count": 22,
     "metadata": {},
     "output_type": "execute_result"
    }
   ],
   "source": [
    "# Carga Crudo Accounts\n",
    "sheet_id = '1PnxQ42g6YDmUPh28ldmU_cD_iFUPyK8u0wrhcNf36p0'\n",
    "wks_name = 'Accounts'\n",
    "sheet = Spread(sheet_id, wks_name, config=cred)\n",
    "sheet.df_to_sheet(final_acc, index=False, sheet=wks_name, replace=True)"
   ]
  }
 ],
 "metadata": {
  "kernelspec": {
   "display_name": "Python 3",
   "language": "python",
   "name": "python3"
  },
  "language_info": {
   "codemirror_mode": {
    "name": "ipython",
    "version": 3
   },
   "file_extension": ".py",
   "mimetype": "text/x-python",
   "name": "python",
   "nbconvert_exporter": "python",
   "pygments_lexer": "ipython3",
   "version": "3.8.5"
  }
 },
 "nbformat": 4,
 "nbformat_minor": 4
}
