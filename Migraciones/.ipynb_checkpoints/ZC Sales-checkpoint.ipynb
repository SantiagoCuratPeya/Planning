{
 "cells": [
  {
   "cell_type": "markdown",
   "metadata": {},
   "source": [
    "### IMPORTS"
   ]
  },
  {
   "cell_type": "code",
   "execution_count": 26,
   "metadata": {},
   "outputs": [],
   "source": [
    "import pandas as pd\n",
    "import numpy as np\n",
    "import pandas_gbq\n",
    "import datetime\n",
    "from dateutil.relativedelta import relativedelta\n",
    "from gspread_pandas import Spread, conf"
   ]
  },
  {
   "cell_type": "markdown",
   "metadata": {},
   "source": [
    "### CREDENCIALES"
   ]
  },
  {
   "cell_type": "code",
   "execution_count": 27,
   "metadata": {},
   "outputs": [],
   "source": [
    "cred = conf.get_config('C:\\\\Users\\\\micaela.fuchs\\\\Anaconda', 'PedidosYa-6e661fd93faf.json')"
   ]
  },
  {
   "cell_type": "markdown",
   "metadata": {},
   "source": [
    "### CONSTANTES"
   ]
  },
  {
   "cell_type": "code",
   "execution_count": 15,
   "metadata": {},
   "outputs": [],
   "source": [
    "# Fechas\n",
    "today = datetime.date.today()\n",
    "if today.day == 1:\n",
    "    flm = str(today - relativedelta(days=1) - relativedelta(months=1))\n",
    "    ilm = str((today - relativedelta(days=1) - relativedelta(months=1)).replace(day=1))\n",
    "else:\n",
    "    ilm = str(today.replace(day=1) - relativedelta(months=1))\n",
    "    flm = str(today - relativedelta(days=today.day))"
   ]
  },
  {
   "cell_type": "markdown",
   "metadata": {},
   "source": [
    "### GOOGLE SHEETS"
   ]
  },
  {
   "cell_type": "code",
   "execution_count": 16,
   "metadata": {},
   "outputs": [],
   "source": [
    "# Partners PEYA\n",
    "sheet_id = '1HmAvHYbJJa3JyRTgRJGKXataQB_TvFwNzyo8a6qXd2o'\n",
    "wks_name = 'Partners PEYA'\n",
    "sheet = Spread(sheet_id, wks_name, config=cred)\n",
    "partners = sheet.sheet_to_df(index=0,header_rows=1)"
   ]
  },
  {
   "cell_type": "code",
   "execution_count": 17,
   "metadata": {},
   "outputs": [],
   "source": [
    "# Stats PEYA\n",
    "sheet_id = '1PO5kGLgz5Xn_WNCQQB0OPcKCl7KeS7kMrkJaGxafqmY'\n",
    "wks_name = 'Stats PEYA'\n",
    "sheet = Spread(sheet_id, wks_name, config=cred)\n",
    "stats = sheet.sheet_to_df(index=0,header_rows=1)"
   ]
  },
  {
   "cell_type": "markdown",
   "metadata": {},
   "source": [
    "### QUERIES"
   ]
  },
  {
   "cell_type": "code",
   "execution_count": 18,
   "metadata": {},
   "outputs": [],
   "source": [
    "# 40MB\n",
    "q_cw = '''SELECT p.partner_id AS Id,\n",
    "       cw.account_owner AS Owner\n",
    "FROM `peya-bi-tools-pro.il_core.fact_sales_executives_closed_won_v2` AS cw\n",
    "LEFT JOIN `peya-bi-tools-pro.il_core.dim_partner` AS p ON cw.grid = p.salesforce_id\n",
    "LEFT JOIN `peya-data-origins-pro.cl_salesforce.opportunity` AS sfo ON cw.oportunity_unique_id = sfo.Id\n",
    "WHERE DATE(cw.closed_date) BETWEEN DATE('{0}') AND DATE('{1}')\n",
    "      AND p.country_id = 3\n",
    "      AND sfo.Business_Type IN ('New Business','Win Back','Franchise Extension','New Bussiness')'''.format(ilm,flm)"
   ]
  },
  {
   "cell_type": "code",
   "execution_count": 19,
   "metadata": {},
   "outputs": [
    {
     "name": "stderr",
     "output_type": "stream",
     "text": [
      "Downloading: 100%|█████████████████████████████████████████████████████████████| 2301/2301 [00:01<00:00, 1881.68rows/s]\n"
     ]
    }
   ],
   "source": [
    "# Descargo la data\n",
    "hue_cw = pd.io.gbq.read_gbq(q_cw, project_id='peya-argentina', dialect='standard')"
   ]
  },
  {
   "cell_type": "code",
   "execution_count": 20,
   "metadata": {},
   "outputs": [],
   "source": [
    "# Copio las bases\n",
    "cw = hue_cw.copy()"
   ]
  },
  {
   "cell_type": "markdown",
   "metadata": {},
   "source": [
    "### TRABAJO"
   ]
  },
  {
   "cell_type": "code",
   "execution_count": 21,
   "metadata": {},
   "outputs": [],
   "source": [
    "# Doy formato a las columnas\n",
    "cw['Id'] = cw['Id'].astype(int)\n",
    "stats['Id'] = stats['Id'].astype(int)\n",
    "partners['Id'] = partners['Id'].astype(int)\n",
    "# Hago el Merge\n",
    "zc_sales = cw.merge(stats[['Id','Sessions TM','Sessions LM','Confirmed TM','Confirmed LM','Dias_Online TM','Dias_Online LM']],on=['Id'],how='left')\n",
    "zc_sales = zc_sales.merge(partners[['Id','Grid','Name','Online','Churn','SF_Status','BO_Status']],on=['Id'],how='left')\n",
    "zc_sales.replace([np.nan,np.inf,-np.inf],0,inplace=True)"
   ]
  },
  {
   "cell_type": "code",
   "execution_count": 22,
   "metadata": {},
   "outputs": [],
   "source": [
    "# Doy formato a las columnas\n",
    "cols = ['Sessions TM','Sessions LM','Confirmed TM','Confirmed LM','Dias_Online TM','Dias_Online LM']\n",
    "zc_sales[cols] = zc_sales[cols].astype(float)\n",
    "# Creo las columnas faltantes\n",
    "zc_sales['Sessions'] = zc_sales['Sessions TM'] + zc_sales['Sessions LM']\n",
    "zc_sales['Orders'] = zc_sales['Confirmed TM'] + zc_sales['Confirmed LM']\n",
    "zc_sales['Dias_Online'] = zc_sales['Dias_Online TM'] + zc_sales['Dias_Online LM']"
   ]
  },
  {
   "cell_type": "code",
   "execution_count": 23,
   "metadata": {},
   "outputs": [],
   "source": [
    "# Me quedo con las columnas necesarias\n",
    "cols = ['Sessions TM','Sessions LM','Confirmed TM','Confirmed LM','Dias_Online TM','Dias_Online LM']\n",
    "zc_sales.drop(columns=cols,inplace=True)\n",
    "# Ordeno las columnas\n",
    "cols = ['Id','Grid','Name','Owner','Online','Churn','SF_Status','BO_Status','Sessions','Orders','Dias_Online']\n",
    "zc_sales = zc_sales[cols].copy()"
   ]
  },
  {
   "cell_type": "code",
   "execution_count": 24,
   "metadata": {},
   "outputs": [],
   "source": [
    "# Manejo la logica\n",
    "zc_sales['Zombie'] = zc_sales.apply(lambda x: 'Si' if x['Orders'] == 0 and x['Sessions'] >= 20 and x['Dias_Online'] > 0 else 'No',axis=1)\n",
    "zc_sales['Churn RT'] = zc_sales['SF_Status'].apply(lambda x: 'Si' if x == 'Terminated' else 'No')"
   ]
  },
  {
   "cell_type": "markdown",
   "metadata": {},
   "source": [
    "### CARGA"
   ]
  },
  {
   "cell_type": "code",
   "execution_count": 25,
   "metadata": {},
   "outputs": [
    {
     "data": {
      "text/plain": [
       "{'spreadsheetId': '11RbtyaGviE1Tm9VibNPK_AlB4oJUVZM_Sw15ly2dzN4',\n",
       " 'replies': [{'findReplace': {'valuesChanged': 9205,\n",
       "    'rowsChanged': 2301,\n",
       "    'sheetsChanged': 1,\n",
       "    'occurrencesChanged': 9205}}]}"
      ]
     },
     "execution_count": 25,
     "metadata": {},
     "output_type": "execute_result"
    }
   ],
   "source": [
    "# Carga ZC Sales\n",
    "sheet_id = '11RbtyaGviE1Tm9VibNPK_AlB4oJUVZM_Sw15ly2dzN4'\n",
    "wks_name = 'CW LM'\n",
    "sheet = Spread(sheet_id, wks_name, config=cred)\n",
    "sheet.df_to_sheet(zc_sales, index=False, sheet=wks_name, replace=True)"
   ]
  }
 ],
 "metadata": {
  "kernelspec": {
   "display_name": "Python 3",
   "language": "python",
   "name": "python3"
  },
  "language_info": {
   "codemirror_mode": {
    "name": "ipython",
    "version": 3
   },
   "file_extension": ".py",
   "mimetype": "text/x-python",
   "name": "python",
   "nbconvert_exporter": "python",
   "pygments_lexer": "ipython3",
   "version": "3.8.5"
  }
 },
 "nbformat": 4,
 "nbformat_minor": 4
}
