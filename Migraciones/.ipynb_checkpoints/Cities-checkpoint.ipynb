{
 "cells": [
  {
   "cell_type": "markdown",
   "metadata": {},
   "source": [
    "### IMPORTS"
   ]
  },
  {
   "cell_type": "code",
   "execution_count": 1,
   "metadata": {},
   "outputs": [],
   "source": [
    "import pandas as pd\n",
    "import numpy as np\n",
    "import pandas_gbq\n",
    "import datetime\n",
    "from dateutil.relativedelta import relativedelta\n",
    "from Roster import *\n",
    "from gspread_pandas import Spread, conf"
   ]
  },
  {
   "cell_type": "markdown",
   "metadata": {},
   "source": [
    "### CREDENCIALES"
   ]
  },
  {
   "cell_type": "code",
   "execution_count": 2,
   "metadata": {},
   "outputs": [],
   "source": [
    "cred = conf.get_config('C:\\\\Users\\\\micaela.fuchs\\\\Anaconda', 'PedidosYa-6e661fd93faf.json')"
   ]
  },
  {
   "cell_type": "markdown",
   "metadata": {},
   "source": [
    "### CONSTANTES"
   ]
  },
  {
   "cell_type": "code",
   "execution_count": 3,
   "metadata": {},
   "outputs": [],
   "source": [
    "# Fechas\n",
    "today = datetime.date.today()\n",
    "if today.day == 1:\n",
    "    tm = str(today - relativedelta(days=1))\n",
    "    lm = str((today - relativedelta(months=2)).replace(day=1))\n",
    "else:\n",
    "    tm = str(today + relativedelta(months=1) - relativedelta(days=(today + relativedelta(months=1)).day))\n",
    "    lm = str((today - relativedelta(months=1)).replace(day=1))"
   ]
  },
  {
   "cell_type": "markdown",
   "metadata": {},
   "source": [
    "### QUERIES"
   ]
  },
  {
   "cell_type": "code",
   "execution_count": 4,
   "metadata": {},
   "outputs": [],
   "source": [
    "# 3.6GB\n",
    "q_orders = '''SELECT SUBSTR(CAST(o.registered_date AS STRING),1,7) AS Month,\n",
    "       c.city_name AS City,\n",
    "       a.area_name AS Area,\n",
    "       o.business_type.business_type_name AS Business,\n",
    "       COUNT(DISTINCT(o.order_id)) AS Total,\n",
    "       COUNT(DISTINCT(CASE WHEN o.order_status = 'CONFIRMED' THEN o.order_id ELSE NULL END)) AS Confirmed,\n",
    "       COUNT(DISTINCT(CASE WHEN (o.order_status = 'CONFIRMED'  AND o.with_logistics = TRUE) THEN o.order_id ELSE NULL END)) AS Logistic,\n",
    "       COUNT(DISTINCT(CASE WHEN (o.order_status = 'CONFIRMED' AND o.has_voucher_discount = 1) THEN o.order_id ELSE NULL END)) AS Vouchers_Orders,\n",
    "       COUNT(DISTINCT(CASE WHEN (o.order_status = 'CONFIRMED' AND o.is_online_payment = 1) THEN o.order_id ELSE NULL END)) AS OP_Orders,\n",
    "       COUNT(DISTINCT(CASE WHEN (o.order_status = 'REJECTED' AND o.fail_rate_owner = 'Restaurant') THEN o.order_id ELSE NULL END)) AS Rejected_Partner,\n",
    "       COUNT(DISTINCT(CASE WHEN (o.order_status = 'REJECTED' AND o.fail_rate_owner = 'PedidosYa') THEN o.order_id ELSE NULL END)) AS Rejected_PEYA,\n",
    "       COUNT(DISTINCT(CASE WHEN o.order_status = 'REJECTED' THEN o.order_id ELSE NULL END)) AS Rejected,\n",
    "       COUNT(DISTINCT(CASE WHEN (o.order_status = 'PENDING' AND o.fail_rate_owner = 'Restaurant') THEN o.order_id ELSE NULL END)) AS Pending_Partner,\n",
    "       COUNT(DISTINCT(CASE WHEN (o.order_status = 'PENDING' AND o.fail_rate_owner = 'PedidosYa') THEN o.order_id ELSE NULL END)) AS Pending_PEYA,\n",
    "       COUNT(DISTINCT(CASE WHEN o.order_status = 'PENDING' THEN o.order_id ELSE NULL END)) AS Pending,\n",
    "       COUNT(DISTINCT(CASE WHEN (o.order_status = 'CANCELLED' AND o.fail_rate_owner = 'Restaurant') THEN o.order_id ELSE NULL END)) AS Cancelled_Partner,\n",
    "       COUNT(DISTINCT(CASE WHEN (o.order_status = 'CANCELLED' AND o.fail_rate_owner = 'PedidosYa') THEN o.order_id ELSE NULL END)) AS Cancelled_PEYA,\n",
    "       COUNT(DISTINCT(CASE WHEN o.order_status = 'CANCELLED' THEN o.order_id ELSE NULL END)) AS Cancelled,\n",
    "       ROUND(SUM(CASE WHEN o.order_status = 'CONFIRMED' AND o.with_logistics THEN (o.total_amount + o.shipping_amount) ELSE NULL END),3) AS GMV_Log,\n",
    "       ROUND(SUM(CASE WHEN o.order_status = 'CONFIRMED' AND o.with_logistics = FALSE THEN (o.total_amount + o.shipping_amount) ELSE NULL END),3) AS GMV_Mktp,\n",
    "       ROUND(SUM(CASE WHEN o.order_status = 'CONFIRMED' AND o.with_logistics THEN o.commission_amount ELSE NULL END),3) AS Revenue_Log,\n",
    "       ROUND(SUM(CASE WHEN o.order_status = 'CONFIRMED' AND o.with_logistics = FALSE THEN o.commission_amount ELSE NULL END),3) AS Revenue_Mktp,\n",
    "       ROUND(SUM(CASE WHEN o.order_status = 'CONFIRMED' AND o.with_logistics THEN o.shipping_amount_no_discount ELSE NULL END),3) AS DF_Log,\n",
    "       ROUND(SUM(CASE WHEN o.order_status = 'CONFIRMED' AND o.with_logistics = FALSE THEN o.shipping_amount_no_discount ELSE NULL END),3) AS DF_Mktp,\n",
    "       COUNT(DISTINCT(CASE WHEN o.order_status = 'CONFIRMED' AND o.with_logistics THEN o.order_id ELSE NULL END)) AS Log_Orders_Economics,\n",
    "       COUNT(DISTINCT(CASE WHEN o.order_status = 'CONFIRMED' AND o.with_logistics = FALSE THEN o.order_id ELSE NULL END)) AS Mktp_Orders_Economics,\n",
    "       ROUND(SUM(CASE WHEN o.order_status = 'CONFIRMED' AND o.is_online_payment = 1 THEN (o.total_amount + o.shipping_amount) ELSE NULL END),3) AS GMV_OP,\n",
    "       ROUND(SUM(CASE WHEN o.order_status = 'CONFIRMED' AND o.is_online_payment = 1 THEN o.commission_amount ELSE NULL END),3) AS Revenue_OP,\n",
    "       SUM(CASE WHEN o.order_status = 'CONFIRMED' AND o.with_logistics THEN o.total_amount + o.discount_paid_by_company + o.shipping_amount - o.shipping_amount_no_discount ELSE NULL END) AS Log_Income,\n",
    "       SUM(CASE WHEN o.order_status = 'CONFIRMED' AND o.with_logistics = FALSE THEN o.total_amount + o.shipping_amount + o.discount_paid_by_company ELSE NULL END) AS Mktp_Income,\n",
    "       COUNT(DISTINCT o.user.id) AS Total_Users,\n",
    "       COUNT(DISTINCT CASE WHEN o.order_status = 'CONFIRMED' THEN o.user.id ELSE NULL END) AS Active_Users\n",
    "FROM `peya-bi-tools-pro.il_core.fact_orders` as o\n",
    "LEFT JOIN `peya-bi-tools-pro.il_core.dim_area` AS a ON o.address.area.id = a.area_id\n",
    "LEFT JOIN `peya-bi-tools-pro.il_core.dim_city` AS c ON o.city.city_id = c.city_id\n",
    "WHERE o.country_id = 3 \n",
    "      AND o.registered_date BETWEEN DATE('{0}') AND DATE('{1}')\n",
    "GROUP BY 1,2,3,4'''.format(lm,tm)\n",
    "\n",
    "# 55MB\n",
    "q_online = '''SELECT SUBSTR(CAST(DATE(pm.full_date) AS STRING),1,7) AS Month,\n",
    "       p.city.name AS City,\n",
    "       a.area_name AS Area,\n",
    "       p.business_type.business_type_name AS Business,\n",
    "       COUNT(DISTINCT(CASE WHEN pm.is_online THEN p.partner_id ELSE NULL END)) AS Online,\n",
    "       COUNT(DISTINCT(CASE WHEN pm.is_online AND pm.is_logistic THEN p.partner_id ELSE NULL END)) AS OD,\n",
    "       COUNT(DISTINCT(CASE WHEN pm.is_online AND pm.has_online_payment THEN p.partner_id ELSE NULL END)) AS OP,\n",
    "       COUNT(DISTINCT(CASE WHEN pm.is_online AND pm.accepts_vouchers THEN p.partner_id ELSE NULL END)) AS Partners_Vouchers,\n",
    "       SUM(CASE WHEN pm.has_confirmed_orders THEN pm.total_gold_vip + pm.total_featured_product + pm.total_gold_vip_category + pm.total_vip ELSE 0 END) AS NCR,\n",
    "       SUM(CASE WHEN pm.has_confirmed_orders THEN pm.joker_fee ELSE 0 END) AS Joker\n",
    "FROM `peya-bi-tools-pro.il_core.fact_partners_monthly` AS pm\n",
    "LEFT JOIN `peya-bi-tools-pro.il_core.dim_partner` AS p ON pm.restaurant_id = p.partner_id\n",
    "LEFT JOIN `peya-bi-tools-pro.il_core.dim_area` AS a ON p.address.area_id = a.area_id\n",
    "WHERE DATE(pm.full_date) BETWEEN DATE('{0}') AND DATE('{1}')\n",
    "      AND p.country_id = 3\n",
    "GROUP BY 3,4,2,1'''.format(lm,tm)\n",
    "\n",
    "# 430MB\n",
    "q_sesiones = '''SELECT SUBSTR(CAST(sbr.date AS STRING),1,7) AS Month,\n",
    "       p.city.name AS City,\n",
    "       a.area_name AS Area,\n",
    "       p.business_type.business_type_name AS Business,\n",
    "       SUM(sbr.sessions) AS Sessions\n",
    "FROM `peya-bi-tools-pro.il_sessions.fact_sessions_by_restaurant` AS sbr\n",
    "LEFT JOIN `peya-bi-tools-pro.il_core.dim_partner` as p ON sbr.restaurant_id = p.partner_id\n",
    "LEFT JOIN `peya-bi-tools-pro.il_core.dim_area` AS a ON p.address.area_id = a.area_id\n",
    "WHERE p.country_id = 3 \n",
    "      AND sbr.date BETWEEN DATE('{0}') AND DATE('{1}')\n",
    "GROUP BY 2,3,4,1'''.format(lm,tm)\n",
    "\n",
    "# 2.2GB\n",
    "q_op = '''SELECT SUBSTR(CAST(o.registered_date AS STRING),1,7) AS Month,\n",
    "       c.city_name AS City,\n",
    "       a.area_name AS Area,\n",
    "       o.business_type.business_type_name AS Business,\n",
    "       IFNULL(COUNT(DISTINCT CASE WHEN lo.is_vendor_late_10 = 1 THEN o.order_id ELSE NULL END),0) AS VL10_Numerador,\n",
    "       IFNULL(COUNT(DISTINCT CASE WHEN lo.is_vendor_late_nn = 1 THEN o.order_id ELSE NULL END),0) AS VL_Denominador\n",
    "FROM `peya-bi-tools-pro.il_logistics.fact_logistic_orders` AS lo\n",
    "LEFT JOIN `peya-bi-tools-pro.il_core.fact_orders` AS o ON lo.peya_order_id = o.order_id\n",
    "LEFT JOIN `peya-bi-tools-pro.il_core.dim_area` AS a ON o.address.area.id = a.area_id\n",
    "LEFT JOIN `peya-bi-tools-pro.il_core.dim_city` AS c ON o.city.city_id = c.city_id\n",
    "WHERE lo.created_date_local BETWEEN DATE('{0}') AND DATE('{1}')\n",
    "      AND o.registered_date BETWEEN DATE('{0}') AND DATE('{1}')\n",
    "      AND o.country_id = 3\n",
    "GROUP BY 1,2,3,4'''.format(lm,tm)\n",
    "\n",
    "# 2.1GB\n",
    "q_acq = '''SELECT SUBSTR(CAST(o.registered_date AS STRING),1,7) AS Month,\n",
    "       c.city_name AS City,\n",
    "       a.area_name AS Area,\n",
    "       o.business_type.business_type_name AS Business,\n",
    "       COUNT(DISTINCT CASE WHEN obc.nro_order_confirmed = 1 THEN obc.user_id ELSE NULL END) AS Acquisitions\n",
    "FROM `peya-bi-tools-pro.il_core.fact_peya_orders_by_customers` AS obc\n",
    "LEFT JOIN `peya-bi-tools-pro.il_core.fact_orders` AS o ON obc.order_id = o.order_id\n",
    "LEFT JOIN `peya-bi-tools-pro.il_core.dim_area` AS a ON o.address.area.id = a.area_id\n",
    "LEFT JOIN `peya-bi-tools-pro.il_core.dim_city` AS c ON o.city.city_id = c.city_id\n",
    "WHERE o.registered_date BETWEEN DATE('{0}') AND DATE('{1}')\n",
    "      AND DATE(obc.registered_date) BETWEEN DATE('{0}') AND DATE('{1}')\n",
    "GROUP BY 3,4,2,1'''.format(lm,tm)"
   ]
  },
  {
   "cell_type": "code",
   "execution_count": 5,
   "metadata": {},
   "outputs": [
    {
     "name": "stderr",
     "output_type": "stream",
     "text": [
      "Downloading: 100%|█████████████████████████████████████████████████████████████| 7547/7547 [00:01<00:00, 4905.22rows/s]\n"
     ]
    }
   ],
   "source": [
    "# Descargo la data\n",
    "hue_online = pd.io.gbq.read_gbq(q_online, project_id='peya-argentina', dialect='standard')"
   ]
  },
  {
   "cell_type": "code",
   "execution_count": 6,
   "metadata": {},
   "outputs": [
    {
     "name": "stderr",
     "output_type": "stream",
     "text": [
      "Downloading: 100%|███████████████████████████████████████████████████████████| 12024/12024 [00:04<00:00, 2939.84rows/s]\n"
     ]
    }
   ],
   "source": [
    "hue_orders = pd.io.gbq.read_gbq(q_orders, project_id='peya-argentina', dialect='standard')"
   ]
  },
  {
   "cell_type": "code",
   "execution_count": 7,
   "metadata": {},
   "outputs": [
    {
     "name": "stderr",
     "output_type": "stream",
     "text": [
      "Downloading: 100%|██████████████████████████████████████████████████████████| 36226/36226 [00:02<00:00, 13710.60rows/s]\n"
     ]
    }
   ],
   "source": [
    "hue_acq = pd.io.gbq.read_gbq(q_acq, project_id='peya-argentina', dialect='standard')"
   ]
  },
  {
   "cell_type": "code",
   "execution_count": 8,
   "metadata": {},
   "outputs": [
    {
     "name": "stderr",
     "output_type": "stream",
     "text": [
      "Downloading: 100%|█████████████████████████████████████████████████████████████| 5769/5769 [00:01<00:00, 3489.57rows/s]\n"
     ]
    }
   ],
   "source": [
    "hue_sesiones = pd.io.gbq.read_gbq(q_sesiones, project_id='peya-argentina', dialect='standard')"
   ]
  },
  {
   "cell_type": "code",
   "execution_count": 9,
   "metadata": {},
   "outputs": [
    {
     "name": "stderr",
     "output_type": "stream",
     "text": [
      "Downloading: 100%|███████████████████████████████████████████████████████████| 10980/10980 [00:02<00:00, 5176.86rows/s]\n"
     ]
    }
   ],
   "source": [
    "hue_op = pd.io.gbq.read_gbq(q_op, project_id='peya-argentina', dialect='standard')"
   ]
  },
  {
   "cell_type": "code",
   "execution_count": 10,
   "metadata": {},
   "outputs": [],
   "source": [
    "# Copia las bases\n",
    "orders = hue_orders.copy()\n",
    "online = hue_online.copy()\n",
    "sesiones = hue_sesiones.copy()\n",
    "op = hue_op.copy()\n",
    "acq = hue_acq.copy()"
   ]
  },
  {
   "cell_type": "markdown",
   "metadata": {},
   "source": [
    "### TRABAJO"
   ]
  },
  {
   "cell_type": "code",
   "execution_count": 11,
   "metadata": {},
   "outputs": [],
   "source": [
    "# Doy el mismo formato a todos los Months\n",
    "orders['Month'] = pd.to_datetime(orders['Month'], format='%Y-%m').dt.strftime('%Y-%m')\n",
    "online['Month'] = pd.to_datetime(online['Month'], format='%Y-%m').dt.strftime('%Y-%m')\n",
    "sesiones['Month'] = pd.to_datetime(sesiones['Month'], format='%Y-%m').dt.strftime('%Y-%m')\n",
    "op['Month'] = pd.to_datetime(op['Month'], format='%Y-%m').dt.strftime('%Y-%m')\n",
    "acq['Month'] = pd.to_datetime(acq['Month'], format='%Y-%m').dt.strftime('%Y-%m')"
   ]
  },
  {
   "cell_type": "code",
   "execution_count": 12,
   "metadata": {},
   "outputs": [],
   "source": [
    "# Hago el merge\n",
    "cols = ['Month','City','Area','Business']\n",
    "cities = orders.merge(online,on=cols,how='outer')\n",
    "cities = cities.merge(sesiones,on=cols,how='outer')\n",
    "cities = cities.merge(op,on=cols,how='outer')\n",
    "cities = cities.merge(acq,on=cols,how='outer')\n",
    "cities = cities.replace([np.inf, -np.inf, np.nan], 0).copy()"
   ]
  },
  {
   "cell_type": "code",
   "execution_count": 13,
   "metadata": {},
   "outputs": [],
   "source": [
    "# Coloco los Feudos y Reinos\n",
    "cities['Feudo Asignado'] = cities.apply(asignado,axis=1)\n",
    "cities = cities[cities['Feudo Asignado'] == 'Si'].copy()\n",
    "cities['Feudo'] = cities.apply(feudos,axis=1)\n",
    "cities['Reino'] = cities.apply(reinos,axis=1)\n",
    "cities['Vertical'] = cities['Business'].apply(lambda x: x if x == 'Restaurant' else 'NV')"
   ]
  },
  {
   "cell_type": "code",
   "execution_count": 14,
   "metadata": {},
   "outputs": [],
   "source": [
    "# Doy formato necesario a las columnas\n",
    "cols = [i for i in cities.columns if i not in ['Month','City','Area','Business','Feudo','Reino','Vertical']]\n",
    "cities[cols] = cities[cols].astype(float)"
   ]
  },
  {
   "cell_type": "code",
   "execution_count": 15,
   "metadata": {},
   "outputs": [],
   "source": [
    "# Formo las columnas faltantes\n",
    "cities['GMV'] = cities['GMV_Log'] + cities['GMV_Mktp']\n",
    "cities['Revenue'] = cities['Revenue_Log'] + cities['Revenue_Mktp']\n",
    "cities['Total_Rejected_Partner'] = cities['Rejected_Partner'] + cities['Pending_Partner'] + cities['Cancelled_Partner']\n",
    "cities['Total_Rejected_PEYA'] = cities['Rejected_PEYA'] + cities['Pending_PEYA'] + cities['Cancelled_PEYA']\n",
    "cities['Total_Rejected'] = cities['Rejected'] + cities['Pending'] + cities['Cancelled']\n",
    "cities = cities.replace([np.inf, -np.inf, np.nan], 0).copy()"
   ]
  },
  {
   "cell_type": "code",
   "execution_count": 16,
   "metadata": {},
   "outputs": [],
   "source": [
    "# Ordeno las columnas\n",
    "cols = ['Month','City','Area','Business','Confirmed','Logistic','Vouchers_Orders','OP_Orders','Online','OD','OP','Partners_Vouchers',\n",
    "        'Sessions','Rejected_Partner','Rejected_PEYA','Rejected','Pending_Partner','Pending_PEYA','Pending','Cancelled_Partner',\n",
    "        'Cancelled_PEYA','Cancelled','Total','GMV_Log','GMV_Mktp','Revenue_Log','Revenue_Mktp','DF_Log','DF_Mktp','Log_Orders_Economics',\n",
    "        'Mktp_Orders_Economics','GMV_OP','Revenue_OP','Log_Income','Mktp_Income','Total_Users','Active_Users','Acquisitions',\n",
    "        'VL10_Numerador','VL_Denominador','NCR','Joker','Feudo','Reino','Vertical','GMV','Revenue','Total_Rejected_Partner',\n",
    "        'Total_Rejected_PEYA','Total_Rejected']\n",
    "cities = cities[cols].copy()"
   ]
  },
  {
   "cell_type": "markdown",
   "metadata": {},
   "source": [
    "### CARGA"
   ]
  },
  {
   "cell_type": "code",
   "execution_count": 17,
   "metadata": {},
   "outputs": [],
   "source": [
    "# Carga Cities 2.0\n",
    "sheet_id = '1aiwWbTP2l_2aVNop5vGCdea9SYvlRCX50vzKQ9yicQI'\n",
    "wks_name = 'Crudo'\n",
    "sheet = Spread(sheet_id, wks_name, config=cred)\n",
    "sheet.df_to_sheet(cities, index=False, sheet=wks_name, replace=True)"
   ]
  }
 ],
 "metadata": {
  "kernelspec": {
   "display_name": "Python 3",
   "language": "python",
   "name": "python3"
  },
  "language_info": {
   "codemirror_mode": {
    "name": "ipython",
    "version": 3
   },
   "file_extension": ".py",
   "mimetype": "text/x-python",
   "name": "python",
   "nbconvert_exporter": "python",
   "pygments_lexer": "ipython3",
   "version": "3.8.5"
  }
 },
 "nbformat": 4,
 "nbformat_minor": 4
}
