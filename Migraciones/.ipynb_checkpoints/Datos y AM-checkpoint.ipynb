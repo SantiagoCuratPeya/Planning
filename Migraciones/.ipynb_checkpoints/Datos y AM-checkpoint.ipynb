{
 "cells": [
  {
   "cell_type": "markdown",
   "metadata": {},
   "source": [
    "### IMPORTS"
   ]
  },
  {
   "cell_type": "code",
   "execution_count": 58,
   "metadata": {},
   "outputs": [],
   "source": [
    "import pandas as pd\n",
    "import numpy as np\n",
    "import pandas_gbq\n",
    "import datetime\n",
    "from dateutil.relativedelta import relativedelta\n",
    "from gspread_pandas import Spread, conf"
   ]
  },
  {
   "cell_type": "markdown",
   "metadata": {},
   "source": [
    "### CREDENCIALES"
   ]
  },
  {
   "cell_type": "code",
   "execution_count": 59,
   "metadata": {},
   "outputs": [],
   "source": [
    "cred = conf.get_config('C:\\\\Users\\\\micaela.fuchs\\\\Anaconda', 'PedidosYa-6e661fd93faf.json')"
   ]
  },
  {
   "cell_type": "markdown",
   "metadata": {},
   "source": [
    "### CONSTANTES"
   ]
  },
  {
   "cell_type": "code",
   "execution_count": 60,
   "metadata": {},
   "outputs": [],
   "source": [
    "# Fechas\n",
    "today = datetime.date.today()\n",
    "if today.day == 1:\n",
    "    tm = str(today - relativedelta(days=1))\n",
    "    lm = str((today - relativedelta(months=2)).replace(day=1))\n",
    "    limite = (today - relativedelta(days=1)).replace(day=15)\n",
    "else:\n",
    "    tm = str(today + relativedelta(months=1) - relativedelta(days=(today + relativedelta(months=1)).day))\n",
    "    lm = str((today - relativedelta(months=1)).replace(day=1))\n",
    "    limite = (today + relativedelta(months=1) - relativedelta(days=(today + relativedelta(months=1)).day)).replace(day=15)\n",
    "# Campañas\n",
    "min_regiones = 3\n",
    "min_amba = 1\n",
    "# Low Orders\n",
    "min_orders = 30"
   ]
  },
  {
   "cell_type": "markdown",
   "metadata": {},
   "source": [
    "### GOOGLE SHEETS"
   ]
  },
  {
   "cell_type": "code",
   "execution_count": 61,
   "metadata": {},
   "outputs": [],
   "source": [
    "# Roster\n",
    "sheet_id = '1JNywQTVzEQKRwqrJRkpzjiXx5Ly-FldtBMfeSYHuL7w'\n",
    "wks_name = 'Restaurant'\n",
    "sheet = Spread(sheet_id, wks_name, config=cred)\n",
    "roster = sheet.sheet_to_df(index=0,header_rows=1)"
   ]
  },
  {
   "cell_type": "code",
   "execution_count": 62,
   "metadata": {},
   "outputs": [],
   "source": [
    "# Managers\n",
    "sheet_id = '1JNywQTVzEQKRwqrJRkpzjiXx5Ly-FldtBMfeSYHuL7w'\n",
    "wks_name = 'Managers'\n",
    "sheet = Spread(sheet_id, wks_name, config=cred)\n",
    "managers = sheet.sheet_to_df(index=0,header_rows=1)"
   ]
  },
  {
   "cell_type": "code",
   "execution_count": 63,
   "metadata": {},
   "outputs": [],
   "source": [
    "# Trabajo los managers\n",
    "manager_caba = managers[managers['Region'] == 'CABA + ZN']['Manager'].values[0]\n",
    "manager_gba = managers[managers['Region'] == 'ZS + ZO + LP + MDQ']['Manager'].values[0]\n",
    "manager_noa = managers[managers['Region'] == 'NOA + CBA']['Manager'].values[0]\n",
    "manager_nea = managers[managers['Region'] == 'NEA + SFE']['Manager'].values[0]\n",
    "manager_pat = managers[managers['Region'] == 'CENTRO + PAT']['Manager'].values[0]"
   ]
  },
  {
   "cell_type": "markdown",
   "metadata": {},
   "source": [
    "### QUERIES"
   ]
  },
  {
   "cell_type": "code",
   "execution_count": 64,
   "metadata": {},
   "outputs": [],
   "source": [
    "# 2.8GB\n",
    "q_orders = '''SELECT o.restaurant.id AS Id,\n",
    "       SUBSTR(CAST(o.registered_date AS STRING),1,7) AS Month,\n",
    "       COUNT(DISTINCT o.order_id) AS Total,\n",
    "       COUNT(DISTINCT CASE WHEN o.order_status = 'CONFIRMED' THEN o.order_id ELSE NULL END) AS Confirmed,\n",
    "       COUNT(DISTINCT CASE WHEN o.order_status = 'CONFIRMED' AND o.with_logistics THEN o.order_id ELSE NULL END) AS Logistic,\n",
    "       COUNT(DISTINCT CASE WHEN o.order_status IN ('PENDING','REJECTED','CANCELLED') AND o.fail_rate_owner = 'Restaurant' THEN o.order_id ELSE NULL END) AS VFR_Num,\n",
    "       SUM(CASE WHEN o.order_status = 'CONFIRMED' THEN o.total_amount + o.shipping_amount ELSE 0 END) AS GMV,\n",
    "       SUM(CASE WHEN o.order_status = 'CONFIRMED' THEN o.total_amount ELSE 0 END) AS GFV,\n",
    "       SUM(CASE WHEN o.order_status = 'CONFIRMED' THEN o.commission_amount ELSE 0 END) AS Revenue,\n",
    "       SUM(CASE WHEN o.order_status = 'CONFIRMED' THEN o.shipping_amount_no_discount ELSE 0 END) AS DF_No_Discount,\n",
    "       SUM(CASE WHEN o.with_logistics AND o.order_status = 'CONFIRMED' THEN o.commission_amount ELSE 0 END) AS Log_Revenue,\n",
    "       SUM(CASE WHEN o.order_status = 'CONFIRMED' THEN CASE WHEN o.with_logistics THEN o.total_amount + o.discount_paid_by_company + o.shipping_amount - o.shipping_amount_no_discount ELSE o.total_amount + o.shipping_amount + o.discount_paid_by_company END ELSE 0 END) AS Income,\n",
    "       COUNT(DISTINCT CASE WHEN o.order_status = 'CONFIRMED' THEN o.user.id ELSE NULL END) AS Active_Users,\n",
    "       COUNT(DISTINCT CASE WHEN o.order_status = 'CONFIRMED' AND o.has_voucher_discount > 0 THEN o.order_id ELSE NULL END) AS Confirmed_Voucher,\n",
    "       COUNT(DISTINCT CASE WHEN o.order_status = 'CONFIRMED' AND o.is_online_payment > 0 THEN o.order_id ELSE NULL END) AS Confirmed_OP\n",
    "FROM `peya-bi-tools-pro.il_core.fact_orders` AS o\n",
    "WHERE o.country_id = 3\n",
    "      AND o.registered_date BETWEEN DATE('{0}') AND DATE('{1}')\n",
    "GROUP BY 1,2'''.format(lm,tm)\n",
    "\n",
    "# 1.5GB\n",
    "q_campaigns = '''SELECT o.restaurant.id AS Id,\n",
    "       SUBSTR(CAST(o.registered_date AS STRING),1,7) AS Month,\n",
    "       COUNT(DISTINCT o.order_id) AS Confirmed_Campaign\n",
    "FROM `peya-bi-tools-pro.il_core.fact_orders` AS o,\n",
    "UNNEST (details) AS od\n",
    "LEFT JOIN `peya-bi-tools-pro.il_core.dim_subsidized_product` AS sp ON od.product.product_id = sp.product_id AND od.is_subsidized\n",
    "LEFT JOIN `peya-bi-tools-pro.il_growth.dim_subsidized_campaign` AS sc ON sp.subsidized_product_campaing_id = sc.subsidized_campaign_id\n",
    "WHERE o.registered_date BETWEEN DATE('{0}') AND DATE('{1}')\n",
    "      AND od.is_subsidized\n",
    "      AND o.order_status = 'CONFIRMED'\n",
    "      AND o.country_id = 3\n",
    "      AND sc.subsidized_campaign_id IS NOT NULL\n",
    "GROUP BY 1,2'''.format(lm,tm)\n",
    "\n",
    "# 740MB\n",
    "q_vl = '''SELECT o.restaurant.id AS Id,\n",
    "       SUBSTR(CAST(o.registered_date AS STRING),1,7) AS Month,\n",
    "       IFNULL(COUNT(DISTINCT CASE WHEN lo.is_vendor_late_10 = 1 THEN o.order_id ELSE NULL END),0) AS VL_Numerador,\n",
    "       IFNULL(COUNT(DISTINCT CASE WHEN lo.is_vendor_late_nn = 1 THEN o.order_id ELSE NULL END),0) AS VL_Denominador\n",
    "FROM `peya-bi-tools-pro.il_logistics.fact_logistic_orders` AS lo\n",
    "LEFT JOIN `peya-bi-tools-pro.il_core.fact_orders` AS o ON lo.peya_order_id = o.order_id\n",
    "WHERE lo.created_date_local BETWEEN DATE('{0}') AND DATE('{1}')\n",
    "      AND o.registered_date BETWEEN DATE('{0}') AND DATE('{1}')\n",
    "      AND o.country_id = 3\n",
    "GROUP BY 1,2'''.format(lm,tm)\n",
    "\n",
    "# 15.2MB\n",
    "q_partners = '''SELECT p.partner_id AS Id,\n",
    "       CASE WHEN p.is_online THEN 'Si' ELSE 'No' END AS Online,\n",
    "       IFNULL(sfu.Name,'-') AS Account_Owner\n",
    "FROM `peya-bi-tools-pro.il_core.dim_partner` AS p\n",
    "LEFT JOIN `peya-bi-tools-pro.il_salesforce.dim_salesforce_account` AS sfa ON p.salesforce_id = sfa.account_grid\n",
    "LEFT JOIN `peya-data-origins-pro.cl_salesforce.user` AS sfu ON sfa.owner_id = sfu.Id\n",
    "WHERE p.country_id = 3\n",
    "      AND p.salesforce_id IS NOT NULL'''\n",
    "\n",
    "# 290MB\n",
    "q_online = '''SELECT ph.restaurant_id AS Id,\n",
    "       SUBSTR(CAST(ph.yyyymmdd AS STRING),1,7) AS Month,\n",
    "       COUNT(DISTINCT ph.date_id) AS Dias_Online\n",
    "FROM `peya-bi-tools-pro.il_core.dim_historical_partners` AS ph\n",
    "LEFT JOIN `peya-bi-tools-pro.il_core.dim_partner` AS p ON ph.restaurant_id = p.partner_id\n",
    "WHERE p.country_id = 3\n",
    "      AND p.salesforce_id IS NOT NULL\n",
    "      AND ph.yyyymmdd BETWEEN DATE('{0}') AND DATE('{1}')\n",
    "      AND ph.is_online\n",
    "GROUP BY 1,2'''.format(lm,tm)\n",
    "\n",
    "# 32MB\n",
    "q_cw = '''SELECT p.partner_id AS Id,\n",
    "       DATE(cw.closed_date) AS Fecha_Cierre\n",
    "FROM `peya-bi-tools-pro.il_core.fact_sales_executives_closed_won_v2` AS cw\n",
    "LEFT JOIN `peya-bi-tools-pro.il_core.dim_partner` AS p ON cw.grid = p.salesforce_id\n",
    "LEFT JOIN `peya-data-origins-pro.cl_salesforce.opportunity` AS sfo ON cw.oportunity_unique_id = sfo.Id\n",
    "WHERE DATE(cw.closed_date) BETWEEN DATE('{0}') AND DATE('{1}')\n",
    "      AND p.country_id = 3\n",
    "      AND sfo.Business_Type IN ('New Business','Win Back','Franchise Extension','New Bussiness')'''.format(lm,tm)\n",
    "\n",
    "# 560MB\n",
    "q_cvr = '''SELECT sbr.restaurant_id AS Id,\n",
    "       SUBSTR(CAST(sbr.date AS STRING),1,7) AS Month,\n",
    "       SUM(sbr.sessions) AS Sessions,\n",
    "       SUM(sbr.unique_orders) AS Transactions\n",
    "FROM `peya-bi-tools-pro.il_sessions.fact_sessions_by_restaurant` AS sbr\n",
    "LEFT JOIN `peya-bi-tools-pro.il_core.dim_partner` AS p ON sbr.restaurant_id = p.partner_id\n",
    "WHERE sbr.date BETWEEN DATE('{0}') AND DATE('{1}')\n",
    "      AND p.country_id = 3\n",
    "GROUP BY 1,2'''.format(lm,tm)\n",
    "\n",
    "# 375MB\n",
    "q_fr = '''SELECT ph.restaurant_id AS Id,\n",
    "       SUBSTR(CAST(ph.yyyymmdd AS STRING),1,7) AS Month,\n",
    "       SUM(CASE WHEN ph.is_online THEN IFNULL(ph.closed_times,0) ELSE NULL END) AS Closed_Time,\n",
    "       SUM(CASE WHEN ph.is_online THEN IFNULL(ph.schedule_open_time,0) ELSE NULL END) AS Scheduled_Time\n",
    "FROM `peya-bi-tools-pro.il_core.dim_historical_partners` AS ph\n",
    "LEFT JOIN `peya-bi-tools-pro.il_core.dim_partner` AS p ON ph.restaurant_id = p.partner_id\n",
    "WHERE ph.yyyymmdd BETWEEN DATE('{0}') AND DATE('{1}')\n",
    "      AND ph.is_online\n",
    "      AND p.salesforce_id IS NOT NULL \n",
    "      AND p.country_id = 3\n",
    "GROUP BY 1,2'''.format(lm,tm)"
   ]
  },
  {
   "cell_type": "code",
   "execution_count": 65,
   "metadata": {},
   "outputs": [
    {
     "name": "stderr",
     "output_type": "stream",
     "text": [
      "Downloading: 100%|██████████████████████████████████████████████████████████| 71816/71816 [00:04<00:00, 16329.70rows/s]\n"
     ]
    }
   ],
   "source": [
    "# Descargo la data\n",
    "hue_partners = pd.io.gbq.read_gbq(q_partners, project_id='peya-argentina', dialect='standard')"
   ]
  },
  {
   "cell_type": "code",
   "execution_count": 66,
   "metadata": {},
   "outputs": [
    {
     "name": "stderr",
     "output_type": "stream",
     "text": [
      "Downloading: 100%|███████████████████████████████████████████████████████████| 68038/68038 [00:08<00:00, 7985.24rows/s]\n"
     ]
    }
   ],
   "source": [
    "hue_orders = pd.io.gbq.read_gbq(q_orders, project_id='peya-argentina', dialect='standard')"
   ]
  },
  {
   "cell_type": "code",
   "execution_count": 67,
   "metadata": {},
   "outputs": [
    {
     "name": "stderr",
     "output_type": "stream",
     "text": [
      "Downloading: 100%|██████████████████████████████████████████████████████████| 26554/26554 [00:02<00:00, 10828.16rows/s]\n"
     ]
    }
   ],
   "source": [
    "hue_campaigns = pd.io.gbq.read_gbq(q_campaigns, project_id='peya-argentina', dialect='standard')"
   ]
  },
  {
   "cell_type": "code",
   "execution_count": 68,
   "metadata": {},
   "outputs": [
    {
     "name": "stderr",
     "output_type": "stream",
     "text": [
      "Downloading: 100%|██████████████████████████████████████████████████████████| 55752/55752 [00:03<00:00, 15784.06rows/s]\n"
     ]
    }
   ],
   "source": [
    "hue_vl = pd.io.gbq.read_gbq(q_vl, project_id='peya-argentina', dialect='standard')"
   ]
  },
  {
   "cell_type": "code",
   "execution_count": 69,
   "metadata": {},
   "outputs": [
    {
     "name": "stderr",
     "output_type": "stream",
     "text": [
      "Downloading: 100%|██████████████████████████████████████████████████████████| 77212/77212 [00:04<00:00, 18388.04rows/s]\n"
     ]
    }
   ],
   "source": [
    "hue_online = pd.io.gbq.read_gbq(q_online, project_id='peya-argentina', dialect='standard')"
   ]
  },
  {
   "cell_type": "code",
   "execution_count": 70,
   "metadata": {},
   "outputs": [
    {
     "name": "stderr",
     "output_type": "stream",
     "text": [
      "Downloading: 100%|█████████████████████████████████████████████████████████████| 4660/4660 [00:00<00:00, 6964.51rows/s]\n"
     ]
    }
   ],
   "source": [
    "hue_cw = pd.io.gbq.read_gbq(q_cw, project_id='peya-argentina', dialect='standard')"
   ]
  },
  {
   "cell_type": "code",
   "execution_count": 71,
   "metadata": {},
   "outputs": [
    {
     "name": "stderr",
     "output_type": "stream",
     "text": [
      "Downloading: 100%|██████████████████████████████████████████████████████████| 76598/76598 [00:04<00:00, 17868.78rows/s]\n"
     ]
    }
   ],
   "source": [
    "hue_cvr = pd.io.gbq.read_gbq(q_cvr, project_id='peya-argentina', dialect='standard')"
   ]
  },
  {
   "cell_type": "code",
   "execution_count": 72,
   "metadata": {},
   "outputs": [
    {
     "name": "stderr",
     "output_type": "stream",
     "text": [
      "Downloading: 100%|██████████████████████████████████████████████████████████| 77212/77212 [00:04<00:00, 18211.13rows/s]\n"
     ]
    }
   ],
   "source": [
    "hue_fr = pd.io.gbq.read_gbq(q_fr, project_id='peya-argentina', dialect='standard')"
   ]
  },
  {
   "cell_type": "code",
   "execution_count": 73,
   "metadata": {},
   "outputs": [],
   "source": [
    "# Copio las bases\n",
    "partners = hue_partners.copy()\n",
    "orders = hue_orders.copy()\n",
    "campaigns = hue_campaigns.copy()\n",
    "vl = hue_vl.copy()\n",
    "online = hue_online.copy()\n",
    "cw = hue_cw.copy()\n",
    "cvr = hue_cvr.copy()\n",
    "fr = hue_fr.copy()"
   ]
  },
  {
   "cell_type": "markdown",
   "metadata": {},
   "source": [
    "### FUNCIONES"
   ]
  },
  {
   "cell_type": "code",
   "execution_count": 74,
   "metadata": {},
   "outputs": [],
   "source": [
    "def contar_campaigns(i):\n",
    "    if i['Manager'] == manager_caba or i['Manager'] == manager_gba:\n",
    "        if i['Confirmed_Campaign TM'] >= min_amba:\n",
    "            val = 1\n",
    "        else:\n",
    "            val = 0\n",
    "    else:\n",
    "        if i['Confirmed_Campaign TM'] >= min_regiones:\n",
    "            val = 1\n",
    "        else:\n",
    "            val = 0\n",
    "    return val\n",
    "\n",
    "def low_orders(i):\n",
    "    if i['Fecha_Cierre'] != '-':\n",
    "        cierre = datetime.datetime.strptime(i['Fecha_Cierre'],'%Y-%m-%d').date()\n",
    "        if cierre > limite:\n",
    "            val = 0\n",
    "        else:\n",
    "            if i['Online'] == 'Si' and 0 <= i['Confirmed TM'] <= min_orders:\n",
    "                val = 1\n",
    "            else:\n",
    "                val = 0\n",
    "    else:\n",
    "        if i['Online'] == 'Si' and 0 <= i['Confirmed TM'] <= min_orders:\n",
    "                val = 1\n",
    "        else:\n",
    "            val = 0\n",
    "    return val"
   ]
  },
  {
   "cell_type": "markdown",
   "metadata": {},
   "source": [
    "### TRABAJO"
   ]
  },
  {
   "cell_type": "markdown",
   "metadata": {},
   "source": [
    "#### TRABAJO DATOS"
   ]
  },
  {
   "cell_type": "code",
   "execution_count": 75,
   "metadata": {},
   "outputs": [],
   "source": [
    "# Comparaciones\n",
    "tmf = tm[:-3]\n",
    "lmf = lm[:-3]"
   ]
  },
  {
   "cell_type": "code",
   "execution_count": 76,
   "metadata": {},
   "outputs": [],
   "source": [
    "# Trabajo Orders\n",
    "val = [i for i in orders.columns if i not in ['Id','Month']]\n",
    "orders[val] = orders[val].astype(float)\n",
    "orders_pt = pd.DataFrame(orders.pivot_table(index=['Id'],columns=['Month'],values=val,aggfunc='sum',fill_value=0).to_records())\n",
    "# Cambio nombre a columnas\n",
    "cols = [i.replace(\"'\",\"\").replace('(','').replace(')','').replace(',','').replace(tmf,'TM').replace(lmf,'LM') for i in orders_pt.columns]\n",
    "orders_pt.columns = cols"
   ]
  },
  {
   "cell_type": "code",
   "execution_count": 77,
   "metadata": {},
   "outputs": [],
   "source": [
    "# Trabajo Campaigns\n",
    "val = [i for i in campaigns.columns if i not in ['Id','Month']]\n",
    "campaigns[val] = campaigns[val].astype(float)\n",
    "campaigns_pt = pd.DataFrame(campaigns.pivot_table(index=['Id'],columns=['Month'],values=val,aggfunc='sum',fill_value=0).to_records())\n",
    "# Cambio nombre a columnas\n",
    "cols = [i.replace(\"'\",\"\").replace('(','').replace(')','').replace(',','').replace(tmf,'TM').replace(lmf,'LM') for i in campaigns_pt.columns]\n",
    "campaigns_pt.columns = cols"
   ]
  },
  {
   "cell_type": "code",
   "execution_count": 78,
   "metadata": {},
   "outputs": [],
   "source": [
    "# Trabajo VL\n",
    "val = [i for i in vl.columns if i not in ['Id','Month']]\n",
    "vl[val] = vl[val].astype(float)\n",
    "vl_pt = pd.DataFrame(vl.pivot_table(index=['Id'],columns=['Month'],values=val,aggfunc='sum',fill_value=0).to_records())\n",
    "# Cambio nombre a columnas\n",
    "cols = [i.replace(\"'\",\"\").replace('(','').replace(')','').replace(',','').replace(tmf,'TM').replace(lmf,'LM') for i in vl_pt.columns]\n",
    "vl_pt.columns = cols"
   ]
  },
  {
   "cell_type": "code",
   "execution_count": 79,
   "metadata": {},
   "outputs": [],
   "source": [
    "# Trabajo Online\n",
    "val = [i for i in online.columns if i not in ['Id','Month']]\n",
    "online[val] = online[val].astype(float)\n",
    "online_pt = pd.DataFrame(online.pivot_table(index=['Id'],columns=['Month'],values=val,aggfunc='sum',fill_value=0).to_records())\n",
    "# Cambio nombre a columnas\n",
    "cols = [i.replace(\"'\",\"\").replace('(','').replace(')','').replace(',','').replace(tmf,'TM').replace(lmf,'LM') for i in online_pt.columns]\n",
    "online_pt.columns = cols"
   ]
  },
  {
   "cell_type": "code",
   "execution_count": 80,
   "metadata": {},
   "outputs": [],
   "source": [
    "# Trabajo CVR\n",
    "val = [i for i in cvr.columns if i not in ['Id','Month']]\n",
    "cvr[val] = cvr[val].astype(float)\n",
    "cvr_pt = pd.DataFrame(cvr.pivot_table(index=['Id'],columns=['Month'],values=val,aggfunc='sum',fill_value=0).to_records())\n",
    "# Cambio nombre a columnas\n",
    "cols = [i.replace(\"'\",\"\").replace('(','').replace(')','').replace(',','').replace(tmf,'TM').replace(lmf,'LM') for i in cvr_pt.columns]\n",
    "cvr_pt.columns = cols"
   ]
  },
  {
   "cell_type": "code",
   "execution_count": 81,
   "metadata": {},
   "outputs": [],
   "source": [
    "# Trabajo FR\n",
    "val = [i for i in fr.columns if i not in ['Id','Month']]\n",
    "fr[val] = fr[val].astype(float)\n",
    "fr_pt = pd.DataFrame(fr.pivot_table(index=['Id'],columns=['Month'],values=val,aggfunc='sum',fill_value=0).to_records())\n",
    "# Cambio nombre a columnas\n",
    "cols = [i.replace(\"'\",\"\").replace('(','').replace(')','').replace(',','').replace(tmf,'TM').replace(lmf,'LM') for i in fr_pt.columns]\n",
    "fr_pt.columns = cols"
   ]
  },
  {
   "cell_type": "code",
   "execution_count": 82,
   "metadata": {},
   "outputs": [],
   "source": [
    "# Cambio las fechas a Str\n",
    "cw['Fecha_Cierre'] = cw['Fecha_Cierre'].astype(str)"
   ]
  },
  {
   "cell_type": "code",
   "execution_count": 83,
   "metadata": {},
   "outputs": [],
   "source": [
    "# Coloco los Ids como INT\n",
    "partners['Id'] = partners['Id'].astype(int)\n",
    "orders_pt['Id'] = orders_pt['Id'].astype(int)\n",
    "campaigns_pt['Id'] = campaigns_pt['Id'].astype(int)\n",
    "vl_pt['Id'] = vl_pt['Id'].astype(int)\n",
    "online_pt['Id'] = online_pt['Id'].astype(int)\n",
    "cvr_pt['Id'] = cvr_pt['Id'].astype(int)\n",
    "fr_pt['Id'] = fr_pt['Id'].astype(int)\n",
    "cw['Id'] = cw['Id'].astype(int)\n",
    "# Unifico datos\n",
    "final = partners.merge(orders_pt,on=['Id'],how='left')\n",
    "final = final.merge(campaigns_pt,on=['Id'],how='left')\n",
    "final = final.merge(vl_pt,on=['Id'],how='left')\n",
    "final = final.merge(online_pt,on=['Id'],how='left')\n",
    "final = final.merge(cvr_pt,on=['Id'],how='left')\n",
    "final = final.merge(fr_pt,on=['Id'],how='left')\n",
    "final.replace([np.nan,np.inf,-np.inf],0,inplace=True)\n",
    "# Unifico las CW\n",
    "final = final.merge(cw,on=['Id'],how='left')\n",
    "final.replace([np.nan,np.inf,-np.inf],'-',inplace=True)"
   ]
  },
  {
   "cell_type": "code",
   "execution_count": 84,
   "metadata": {},
   "outputs": [],
   "source": [
    "# Ordeno segun Id\n",
    "final.sort_values(by=['Id'],inplace=True)\n",
    "# Paso los Owners a Mayuscula\n",
    "final['Account_Owner'] = final['Account_Owner'].str.upper()\n",
    "# Declaro Stats\n",
    "stats = final.copy()\n",
    "# Declaro Objetivos\n",
    "objetivos = final.copy()"
   ]
  },
  {
   "cell_type": "markdown",
   "metadata": {},
   "source": [
    "#### TRABAJO OBJETIVOS AM"
   ]
  },
  {
   "cell_type": "code",
   "execution_count": 85,
   "metadata": {},
   "outputs": [],
   "source": [
    "# Roster\n",
    "roster[roster.columns[0]] = roster[roster.columns[0]].str.upper()\n",
    "roster.columns = ['Account_Owner','Zona','Cargo','Lider','Manager']"
   ]
  },
  {
   "cell_type": "code",
   "execution_count": 86,
   "metadata": {},
   "outputs": [],
   "source": [
    "# Trabajo los Objetivos\n",
    "objetivos['Online Today'] = objetivos['Online'].apply(lambda x: 1 if x == 'Si' else 0)\n",
    "objetivos['Online Month'] = objetivos['Dias_Online TM'].apply(lambda x: 1 if x > 0 else 0)\n",
    "objetivos['Low Orders'] = objetivos.apply(low_orders,axis=1)\n",
    "# Hago Merge con el Roster\n",
    "objetivos = objetivos.merge(roster,on=['Account_Owner'],how='left')\n",
    "# Marco los faltantes como \"No Restaurant\"\n",
    "objetivos.replace([np.nan,np.inf,-np.inf],'No Restaurant',inplace=True)\n",
    "objetivos = objetivos[(objetivos['Manager'] != 'No Restaurant')&(objetivos['Cargo'] == 'Accounts')].copy()\n",
    "# Trabajo las Campañas\n",
    "objetivos['Cuenta c/Campaña'] = objetivos.apply(contar_campaigns,axis=1)"
   ]
  },
  {
   "cell_type": "code",
   "execution_count": 87,
   "metadata": {},
   "outputs": [],
   "source": [
    "# Creo PT de AM\n",
    "values = ['Confirmed TM','Logistic TM','VFR_Num TM','Total TM','VL_Numerador TM','VL_Denominador TM','GMV TM',\n",
    "          'Revenue TM','Log_Revenue TM','Online Today','Online Month','Cuenta c/Campaña','Confirmed_Campaign TM','Low Orders']\n",
    "objetivos = objetivos.pivot_table(index=['Account_Owner','Lider','Zona','Manager'],values=values,aggfunc='sum',fill_value=0).reset_index()"
   ]
  },
  {
   "cell_type": "code",
   "execution_count": 88,
   "metadata": {},
   "outputs": [],
   "source": [
    "# Creo los Objetivos\n",
    "objetivos['%OD'] = objetivos['Logistic TM'] / objetivos['Confirmed TM']\n",
    "objetivos['%VL10'] = objetivos['VL_Numerador TM'] / objetivos['VL_Denominador TM']\n",
    "objetivos['VFR'] = objetivos['VFR_Num TM'] / objetivos['Total TM']\n",
    "objetivos['Take In Log'] = objetivos['Log_Revenue TM'] / objetivos['Logistic TM']\n",
    "objetivos['%Adhesion Campañas'] = objetivos['Cuenta c/Campaña'] / objetivos['Online Today']\n",
    "objetivos['%Ordenes Campañas'] = objetivos['Confirmed_Campaign TM'] / objetivos['Confirmed TM']\n",
    "objetivos['%Low Orders'] = objetivos['Low Orders'] / objetivos['Online Today']\n",
    "objetivos.replace([np.nan,np.inf,-np.inf],0,inplace=True)\n",
    "# Hago un sort\n",
    "objetivos.sort_values(by=['Manager','Lider','Zona'],inplace=True)"
   ]
  },
  {
   "cell_type": "code",
   "execution_count": 89,
   "metadata": {},
   "outputs": [],
   "source": [
    "# Ordeno las columnas\n",
    "cols = ['Account_Owner','Lider','Zona','Manager','Confirmed TM','Confirmed_Campaign TM','Cuenta c/Campaña','GMV TM','Log_Revenue TM',\n",
    "        'Logistic TM','Online Month','Online Today','Revenue TM','Total TM','VFR_Num TM','VL_Denominador TM','VL_Numerador TM','%OD',\n",
    "        '%VL10','VFR','Take In Log','%Adhesion Campañas','%Ordenes Campañas','Low Orders','%Low Orders']\n",
    "objetivos = objetivos[cols].copy()"
   ]
  },
  {
   "cell_type": "markdown",
   "metadata": {},
   "source": [
    "### CARGA"
   ]
  },
  {
   "cell_type": "code",
   "execution_count": 90,
   "metadata": {},
   "outputs": [],
   "source": [
    "# Carga Stats PEYA\n",
    "sheet_id = '1PO5kGLgz5Xn_WNCQQB0OPcKCl7KeS7kMrkJaGxafqmY'\n",
    "wks_name = 'Stats PEYA' \n",
    "sheet = Spread(sheet_id, wks_name, config=cred)\n",
    "sheet.df_to_sheet(stats, index=False, sheet=wks_name, replace=True)"
   ]
  },
  {
   "cell_type": "code",
   "execution_count": 91,
   "metadata": {},
   "outputs": [
    {
     "data": {
      "text/plain": [
       "{'spreadsheetId': '1-CxJ2lMGZ8Nhr1oqdEjK4b2R-XjDxaafmIL3KvVezXw',\n",
       " 'replies': [{'findReplace': {'valuesChanged': 2856,\n",
       "    'rowsChanged': 136,\n",
       "    'sheetsChanged': 1,\n",
       "    'occurrencesChanged': 2856}}]}"
      ]
     },
     "execution_count": 91,
     "metadata": {},
     "output_type": "execute_result"
    }
   ],
   "source": [
    "# Carga AM PEYA\n",
    "sheet_id = '1-CxJ2lMGZ8Nhr1oqdEjK4b2R-XjDxaafmIL3KvVezXw'\n",
    "wks_name = 'Objetivos AM'\n",
    "sheet = Spread(sheet_id, wks_name, config=cred)\n",
    "sheet.df_to_sheet(objetivos, index=False, sheet=wks_name, replace=True)"
   ]
  }
 ],
 "metadata": {
  "kernelspec": {
   "display_name": "Python 3",
   "language": "python",
   "name": "python3"
  },
  "language_info": {
   "codemirror_mode": {
    "name": "ipython",
    "version": 3
   },
   "file_extension": ".py",
   "mimetype": "text/x-python",
   "name": "python",
   "nbconvert_exporter": "python",
   "pygments_lexer": "ipython3",
   "version": "3.8.5"
  }
 },
 "nbformat": 4,
 "nbformat_minor": 4
}
