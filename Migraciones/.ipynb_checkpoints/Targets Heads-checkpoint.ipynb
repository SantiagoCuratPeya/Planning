{
 "cells": [
  {
   "cell_type": "markdown",
   "metadata": {},
   "source": [
    "### IMPORTS"
   ]
  },
  {
   "cell_type": "code",
   "execution_count": 1,
   "metadata": {},
   "outputs": [],
   "source": [
    "import pandas as pd\n",
    "import numpy as np\n",
    "import pandas_gbq\n",
    "import datetime\n",
    "from dateutil.relativedelta import relativedelta\n",
    "from Roster import *\n",
    "from gspread_pandas import Spread, conf"
   ]
  },
  {
   "cell_type": "markdown",
   "metadata": {},
   "source": [
    "### CREDENCIALES"
   ]
  },
  {
   "cell_type": "code",
   "execution_count": 2,
   "metadata": {},
   "outputs": [],
   "source": [
    "cred = conf.get_config('C:\\\\Users\\\\micaela.fuchs\\\\Anaconda', 'PedidosYa-6e661fd93faf.json')"
   ]
  },
  {
   "cell_type": "markdown",
   "metadata": {},
   "source": [
    "### CONSTANTES"
   ]
  },
  {
   "cell_type": "code",
   "execution_count": 3,
   "metadata": {},
   "outputs": [],
   "source": [
    "# Fechas\n",
    "today = datetime.date.today()\n",
    "if today.day == 1:\n",
    "    ftm = str(today - relativedelta(days=1))\n",
    "    itm = str((today - relativedelta(days=1)).replace(day=1))\n",
    "else:\n",
    "    itm = str(today.replace(day=1))\n",
    "    ftm = str(today + relativedelta(months=1) - relativedelta(days=(today + relativedelta(months=1)).day))"
   ]
  },
  {
   "cell_type": "markdown",
   "metadata": {},
   "source": [
    "### GOOGLE SHEETS"
   ]
  },
  {
   "cell_type": "code",
   "execution_count": 27,
   "metadata": {},
   "outputs": [],
   "source": [
    "# Partners PEYA\n",
    "sheet_id = '1HmAvHYbJJa3JyRTgRJGKXataQB_TvFwNzyo8a6qXd2o'\n",
    "wks_name = 'Partners PEYA'\n",
    "sheet = Spread(sheet_id, wks_name, config=cred)\n",
    "partners = sheet.sheet_to_df(index=0,header_rows=1)"
   ]
  },
  {
   "cell_type": "code",
   "execution_count": 3,
   "metadata": {},
   "outputs": [],
   "source": [
    "# Reporte KAM\n",
    "sheet_id = '1JNywQTVzEQKRwqrJRkpzjiXx5Ly-FldtBMfeSYHuL7w'\n",
    "wks_name = 'KAM'\n",
    "sheet = Spread(sheet_id, wks_name, config=cred)\n",
    "reporte_kams = sheet.sheet_to_df(index=0,header_rows=1)"
   ]
  },
  {
   "cell_type": "code",
   "execution_count": 4,
   "metadata": {},
   "outputs": [],
   "source": [
    "# Franchises KAM\n",
    "franchises_kam = [x for x in reporte_kams[reporte_kams.columns[0]].to_list() if x is not '']\n",
    "# KAMs\n",
    "kams = [x.upper() for x in reporte_kams[reporte_kams.columns[1]].to_list() if x is not '']"
   ]
  },
  {
   "cell_type": "markdown",
   "metadata": {},
   "source": [
    "### QUERIES"
   ]
  },
  {
   "cell_type": "code",
   "execution_count": 9,
   "metadata": {},
   "outputs": [],
   "source": [
    "# 862MB\n",
    "q_nps = '''SELECT c.city_name AS City,\n",
    "       a.area_name AS Area,\n",
    "       o.business_type.business_type_name AS Business,\n",
    "       1.0 * ((COUNT(DISTINCT CASE WHEN (q.nps_group = 'Promoter') THEN CASE WHEN q.response_id IS NULL THEN '0' ELSE q.response_id END ELSE NULL END)) - (COUNT(DISTINCT CASE WHEN (q.nps_group = 'Detractor') THEN CASE WHEN q.response_id IS NULL THEN '0' ELSE q.response_id END ELSE NULL END))) AS NPS_AO_Numerador,\n",
    "       1.0 * (CASE WHEN (COUNT(DISTINCT CASE WHEN q.response_id IS NULL THEN '0' ELSE q.response_id END)) = 0 THEN 1 ELSE (COUNT(DISTINCT CASE WHEN q.response_id IS NULL THEN '0' ELSE q.response_id END)) END) AS NPS_AO_Denominador\n",
    "FROM `peya-bi-tools-pro.il_nps.fact_qualtrics` AS q\n",
    "LEFT JOIN `peya-bi-tools-pro.il_core.fact_orders` AS o ON q.order_id = o.order_id\n",
    "LEFT JOIN `peya-bi-tools-pro.il_core.dim_area` AS a ON o.address.area.id = a.area_id\n",
    "LEFT JOIN `peya-bi-tools-pro.il_core.dim_city` AS c ON o.city.city_id = c.city_id\n",
    "WHERE o.country_id = 3\n",
    "      AND o.registered_date BETWEEN DATE('{0}') AND DATE('{1}')\n",
    "GROUP BY 1,2,3'''.format(itm,ftm)\n",
    "\n",
    "# 1.1GB\n",
    "q_orders = '''SELECT c.city_name AS City,\n",
    "       a.area_name AS Area,\n",
    "       o.business_type.business_type_name AS Business,\n",
    "       COUNT(DISTINCT o.order_id) AS Total,\n",
    "       COUNT(DISTINCT CASE WHEN o.order_status = 'CONFIRMED' THEN o.order_id ELSE NULL END) AS Confirmed,\n",
    "       COUNT(DISTINCT CASE WHEN o.order_status = 'CONFIRMED' AND o.with_logistics THEN o.order_id ELSE NULL END) AS Logistic,\n",
    "       COUNT(DISTINCT CASE WHEN o.order_status IN ('PENDING','REJECTED','CANCELLED') THEN o.order_id ELSE NULL END) AS FR_Num,\n",
    "       COUNT(DISTINCT CASE WHEN o.order_status IN ('PENDING','REJECTED','CANCELLED') AND o.fail_rate_owner = 'Restaurant' THEN o.order_id ELSE NULL END) AS VFR_Num,\n",
    "       SUM(CASE WHEN o.order_status = 'CONFIRMED' THEN o.commission_amount ELSE 0 END) AS Revenue,\n",
    "       SUM(CASE WHEN o.with_logistics AND o.order_status = 'CONFIRMED' THEN o.commission_amount ELSE 0 END) AS Log_Revenue,\n",
    "       SUM(CASE WHEN o.with_logistics AND o.order_status = 'CONFIRMED' THEN o.shipping_amount_no_discount ELSE 0 END) AS DF_Log\n",
    "FROM `peya-bi-tools-pro.il_core.fact_orders` AS o\n",
    "LEFT JOIN `peya-bi-tools-pro.il_core.dim_area` AS a ON o.address.area.id = a.area_id\n",
    "LEFT JOIN `peya-bi-tools-pro.il_core.dim_city` AS c ON o.city.city_id = c.city_id\n",
    "WHERE o.country_id = 3\n",
    "      AND o.registered_date BETWEEN DATE('{0}') AND DATE('{1}')\n",
    "GROUP BY 1,2,3'''.format(itm,ftm)\n",
    "\n",
    "# 1.1GB\n",
    "q_vl = '''SELECT c.city_name AS City,\n",
    "       a.area_name AS Area,\n",
    "       o.business_type.business_type_name AS Business,\n",
    "       IFNULL(COUNT(DISTINCT CASE WHEN lo.is_vendor_late_10 = 1 THEN o.order_id ELSE NULL END),0) AS VL_Numerador,\n",
    "       IFNULL(COUNT(DISTINCT CASE WHEN lo.is_vendor_late_nn = 1 THEN o.order_id ELSE NULL END),0) AS VL_Denominador,\n",
    "       SUM(lo.timings.actual_delivery_time*1.00/60) AS DT_Numerador,\n",
    "       COUNT(DISTINCT lo.peya_order_id) AS DT_Denominador\n",
    "FROM `peya-bi-tools-pro.il_logistics.fact_logistic_orders` AS lo\n",
    "LEFT JOIN `peya-bi-tools-pro.il_core.fact_orders` AS o ON lo.peya_order_id = o.order_id\n",
    "LEFT JOIN `peya-bi-tools-pro.il_core.dim_area` AS a ON o.address.area.id = a.area_id\n",
    "LEFT JOIN `peya-bi-tools-pro.il_core.dim_city` AS c ON o.city.city_id = c.city_id\n",
    "WHERE lo.created_date_local BETWEEN DATE('{0}') AND DATE('{1}')\n",
    "      AND o.registered_date BETWEEN DATE('{0}') AND DATE('{1}')\n",
    "      AND o.country_id = 3\n",
    "GROUP BY 1,2,3'''.format(itm,ftm)\n",
    "\n",
    "# 8.1MB\n",
    "q_online = '''SELECT p.city.name AS City,\n",
    "       a.area_name AS Area,\n",
    "       p.business_type.business_type_name AS Business,\n",
    "       COUNT(DISTINCT CASE WHEN pm.is_online THEN p.partner_id ELSE NULL END) AS Online,\n",
    "       COUNT(DISTINCT CASE WHEN pm.is_churned THEN p.partner_id ELSE NULL END) AS Churns,\n",
    "       COUNT(DISTINCT CASE WHEN pm.is_online AND pm.has_confirmed_orders = FALSE THEN p.partner_id ELSE NULL END) AS Zombies\n",
    "FROM `peya-bi-tools-pro.il_core.fact_partners_monthly` AS pm\n",
    "LEFT JOIN `peya-bi-tools-pro.il_core.dim_partner` AS p ON pm.restaurant_id = p.partner_id\n",
    "LEFT JOIN `peya-bi-tools-pro.il_core.dim_area` AS a ON p.address.area_id = a.area_id\n",
    "WHERE p.country_id = 3\n",
    "      AND DATE(pm.full_date) BETWEEN DATE('{0}') AND DATE('{1}')\n",
    "GROUP BY 1,2,3'''.format(itm,ftm)\n",
    "\n",
    "# 24MB\n",
    "q_zc = '''WITH zc_table AS(\n",
    "      SELECT p.partner_id AS Id,\n",
    "            IFNULL(p.salesforce_id,'-') AS Grid,\n",
    "            p.partner_name AS Name,\n",
    "            IFNULL(p.franchise.franchise_name,'-') AS Franchise,\n",
    "            p.business_type.business_type_name AS Business,\n",
    "            p.city.name AS City,\n",
    "            a.area_name AS Area,\n",
    "            CASE WHEN p.is_online THEN 'Si' ELSE 'No' END AS Online,\n",
    "            IFNULL(sfu.Name,'-') AS Account_Owner,\n",
    "            CASE WHEN pm.is_churned THEN 'Churn'\n",
    "                 WHEN pm.is_online AND pm.has_confirmed_orders = FALSE THEN 'Zombie'\n",
    "                 ELSE '-' END AS Zombie_Churn\n",
    "      FROM `peya-bi-tools-pro.il_core.fact_partners_monthly` AS pm\n",
    "      LEFT JOIN `peya-bi-tools-pro.il_core.dim_partner` AS p ON pm.restaurant_id = p.partner_id\n",
    "      LEFT JOIN `peya-bi-tools-pro.il_core.dim_area` AS a ON p.address.area_id = a.area_id\n",
    "      LEFT JOIN `peya-bi-tools-pro.il_salesforce.dim_salesforce_account` AS sfa ON p.salesforce_id = sfa.account_grid\n",
    "      LEFT JOIN `peya-data-origins-pro.cl_salesforce.user` AS sfu ON sfa.owner_id = sfu.Id\n",
    "      WHERE p.country_id = 3\n",
    "            AND DATE(pm.full_date) BETWEEN DATE('{0}') AND DATE('{1}'))\n",
    "SELECT zc.*\n",
    "FROM zc_table AS zc\n",
    "WHERE zc.Zombie_Churn IN ('Zombie','Churn')'''.format(itm,ftm)\n",
    "\n",
    "# 50.3MB\n",
    "q_cw = '''SELECT p.salesforce_id AS Grid,\n",
    "       sfo.Business_Type AS Tipo,\n",
    "       sfc.Name__c AS Nombre,\n",
    "       cw.account_owner AS Owner,\n",
    "       MAX(sfc.Commission) AS Comision\n",
    "FROM `peya-bi-tools-pro.il_core.fact_sales_executives_closed_won_v2` AS cw\n",
    "LEFT JOIN `peya-bi-tools-pro.il_core.dim_partner` AS p ON cw.grid = p.salesforce_id\n",
    "LEFT JOIN `peya-data-origins-pro.cl_salesforce.opportunity` AS sfo ON cw.oportunity_unique_id = sfo.Id\n",
    "LEFT JOIN `peya-data-origins-pro.cl_salesforce.contract` AS sfc ON sfo.Id = sfc.Id_Opportunity\n",
    "WHERE DATE(cw.closed_date) BETWEEN DATE('{0}') AND DATE('{1}')\n",
    "      AND p.country_id = 3\n",
    "      AND sfo.Business_Type IN ('New Business','Win Back','Franchise Extension','New Bussiness')\n",
    "GROUP BY 1,2,3,4'''.format(itm,ftm)"
   ]
  },
  {
   "cell_type": "code",
   "execution_count": 10,
   "metadata": {},
   "outputs": [
    {
     "name": "stderr",
     "output_type": "stream",
     "text": [
      "Downloading: 100%|█████████████████████████████████████████████████████████████| 2345/2345 [00:01<00:00, 1626.18rows/s]\n"
     ]
    }
   ],
   "source": [
    "# Descargo la data\n",
    "hue_nps = pd.io.gbq.read_gbq(q_nps, project_id='peya-argentina', dialect='standard')"
   ]
  },
  {
   "cell_type": "code",
   "execution_count": 11,
   "metadata": {},
   "outputs": [
    {
     "name": "stderr",
     "output_type": "stream",
     "text": [
      "Downloading: 100%|█████████████████████████████████████████████████████████████| 6739/6739 [00:02<00:00, 2738.24rows/s]\n"
     ]
    }
   ],
   "source": [
    "hue_orders = pd.io.gbq.read_gbq(q_orders, project_id='peya-argentina', dialect='standard')"
   ]
  },
  {
   "cell_type": "code",
   "execution_count": 12,
   "metadata": {},
   "outputs": [
    {
     "name": "stderr",
     "output_type": "stream",
     "text": [
      "Downloading: 100%|█████████████████████████████████████████████████████████████| 6161/6161 [00:02<00:00, 2874.67rows/s]\n"
     ]
    }
   ],
   "source": [
    "hue_vl = pd.io.gbq.read_gbq(q_vl, project_id='peya-argentina', dialect='standard')"
   ]
  },
  {
   "cell_type": "code",
   "execution_count": 13,
   "metadata": {},
   "outputs": [
    {
     "name": "stderr",
     "output_type": "stream",
     "text": [
      "Downloading: 100%|█████████████████████████████████████████████████████████████| 3736/3736 [00:01<00:00, 2388.46rows/s]\n"
     ]
    }
   ],
   "source": [
    "hue_online = pd.io.gbq.read_gbq(q_online, project_id='peya-argentina', dialect='standard')"
   ]
  },
  {
   "cell_type": "code",
   "execution_count": 14,
   "metadata": {},
   "outputs": [
    {
     "name": "stderr",
     "output_type": "stream",
     "text": [
      "Downloading: 100%|█████████████████████████████████████████████████████████████| 7540/7540 [00:01<00:00, 3900.92rows/s]\n"
     ]
    }
   ],
   "source": [
    "hue_zc = pd.io.gbq.read_gbq(q_zc, project_id='peya-argentina', dialect='standard')"
   ]
  },
  {
   "cell_type": "code",
   "execution_count": 15,
   "metadata": {},
   "outputs": [
    {
     "name": "stderr",
     "output_type": "stream",
     "text": [
      "Downloading: 100%|█████████████████████████████████████████████████████████████| 1544/1544 [00:01<00:00, 1083.74rows/s]\n"
     ]
    }
   ],
   "source": [
    "hue_cw = pd.io.gbq.read_gbq(q_cw, project_id='peya-argentina', dialect='standard')"
   ]
  },
  {
   "cell_type": "code",
   "execution_count": 16,
   "metadata": {},
   "outputs": [],
   "source": [
    "# Copio las bases\n",
    "nps = hue_nps.copy()\n",
    "orders = hue_orders.copy()\n",
    "vl = hue_vl.copy()\n",
    "online = hue_online.copy()\n",
    "zc = hue_zc.copy()\n",
    "cw = hue_cw.copy()"
   ]
  },
  {
   "cell_type": "markdown",
   "metadata": {},
   "source": [
    "### TRABAJO"
   ]
  },
  {
   "cell_type": "markdown",
   "metadata": {},
   "source": [
    "#### TRABAJO LOS TARGETS"
   ]
  },
  {
   "cell_type": "code",
   "execution_count": 17,
   "metadata": {},
   "outputs": [],
   "source": [
    "# Trabajo NPS\n",
    "val = [i for i in nps.columns if i not in ['City','Area','Business']]\n",
    "nps[val] = nps[val].astype(float)\n",
    "# Trabajo Orders\n",
    "val = [i for i in orders.columns if i not in ['City','Area','Business']]\n",
    "orders[val] = orders[val].astype(float)\n",
    "# Trabajo VL\n",
    "val = [i for i in vl.columns if i not in ['City','Area','Business']]\n",
    "vl[val] = vl[val].astype(float)\n",
    "# Trabajo Online\n",
    "val = [i for i in online.columns if i not in ['City','Area','Business']]\n",
    "online[val] = online[val].astype(float)"
   ]
  },
  {
   "cell_type": "code",
   "execution_count": 18,
   "metadata": {},
   "outputs": [],
   "source": [
    "# Uno las tablas\n",
    "targets = orders.merge(nps,on=['City','Area','Business'],how='outer')\n",
    "targets = targets.merge(vl,on=['City','Area','Business'],how='outer')\n",
    "targets = targets.merge(online,on=['City','Area','Business'],how='outer')\n",
    "targets.replace([np.nan,np.inf,-np.inf],0,inplace=True)"
   ]
  },
  {
   "cell_type": "code",
   "execution_count": 19,
   "metadata": {},
   "outputs": [],
   "source": [
    "# Coloco el Feudo y Reino\n",
    "targets['Feudo Asignado'] = targets.apply(asignado,axis=1)\n",
    "targets = targets[targets['Feudo Asignado'] == 'Si'].copy()\n",
    "targets['Feudo'] = targets.apply(feudos,axis=1)\n",
    "targets['Reino'] = targets.apply(reinos,axis=1)"
   ]
  },
  {
   "cell_type": "code",
   "execution_count": 21,
   "metadata": {},
   "outputs": [],
   "source": [
    "# Divido según Vertical\n",
    "targets['Restaurants/NV'] = targets['Business'].apply(lambda x: x if x in ['Restaurant','Coffee'] else 'NV')"
   ]
  },
  {
   "cell_type": "code",
   "execution_count": 23,
   "metadata": {},
   "outputs": [],
   "source": [
    "# Hago la PT Final\n",
    "val = [i for i in targets.columns if i not in ['City','Area','Business','Feudo','Reino','Restaurants/NV']]\n",
    "targets = targets.pivot_table(index=['Reino','Feudo','Restaurants/NV'],values=val,fill_value=0,aggfunc='sum').reset_index()"
   ]
  },
  {
   "cell_type": "markdown",
   "metadata": {},
   "source": [
    "#### TRABAJO LOS CW"
   ]
  },
  {
   "cell_type": "code",
   "execution_count": 56,
   "metadata": {},
   "outputs": [],
   "source": [
    "# Agrego extras a KAM\n",
    "kams = kams + ['LUCRECIA BORIA']"
   ]
  },
  {
   "cell_type": "code",
   "execution_count": 57,
   "metadata": {},
   "outputs": [],
   "source": [
    "# Filtro columnas a usar de Partners\n",
    "cols = ['Grid','Name','Franchise','City','Area','Feudo','Reino','KAM','Concept','Logistic','Business','Main_Cuisine']\n",
    "partners = partners[cols].copy()"
   ]
  },
  {
   "cell_type": "code",
   "execution_count": 58,
   "metadata": {},
   "outputs": [],
   "source": [
    "# Doy formato a las columnas\n",
    "cw['Grid'] = cw['Grid'].astype(str)\n",
    "partners['Grid'] = partners['Grid'].astype(str)\n",
    "# Uno las tablas\n",
    "cw = cw.merge(partners,on=['Grid'],how='left')\n",
    "# Coloco los Owner KAM\n",
    "cw['Owner'] = cw['Owner'].str.upper()\n",
    "cw['Owner KAM'] = cw['Owner'].apply(lambda x: 'Si' if x in kams else 'No')"
   ]
  },
  {
   "cell_type": "markdown",
   "metadata": {},
   "source": [
    "#### TRABAJO LOS ZOMBIES Y CHURNS"
   ]
  },
  {
   "cell_type": "code",
   "execution_count": 59,
   "metadata": {},
   "outputs": [],
   "source": [
    "# Coloco Feudo y Reino\n",
    "zc['Feudo'] = zc.apply(feudos,axis=1)\n",
    "zc['Reino'] = zc.apply(reinos,axis=1)\n",
    "# Divido según Vertical\n",
    "zc['Restaurants/NV'] = zc['Business'].apply(lambda x: 'Restaurant' if x == 'Restaurant' else 'NV')"
   ]
  },
  {
   "cell_type": "markdown",
   "metadata": {},
   "source": [
    "### CARGA"
   ]
  },
  {
   "cell_type": "code",
   "execution_count": 41,
   "metadata": {},
   "outputs": [
    {
     "data": {
      "text/plain": [
       "{'spreadsheetId': '1LZCz5_BSAKMZ_WUWo8EkYtjBTjIj19wDDgeCihkm2yc',\n",
       " 'replies': [{'findReplace': {'valuesChanged': 748,\n",
       "    'rowsChanged': 44,\n",
       "    'sheetsChanged': 1,\n",
       "    'occurrencesChanged': 748}}]}"
      ]
     },
     "execution_count": 41,
     "metadata": {},
     "output_type": "execute_result"
    }
   ],
   "source": [
    "# Carga Crudo CMs\n",
    "sheet_id = '1QYt3ZpOI67KVuls9-Zpf9auwtHjXB4o5vV59mG4kgKY'\n",
    "wks_name = 'Targets BQ'\n",
    "sheet = Spread(sheet_id, wks_name, config=cred)\n",
    "sheet.df_to_sheet(targets, index=False, sheet=wks_name, replace=True)"
   ]
  },
  {
   "cell_type": "code",
   "execution_count": 36,
   "metadata": {},
   "outputs": [
    {
     "data": {
      "text/plain": [
       "{'spreadsheetId': '1s-_-_t65ybi7_iUfPSNiJY-aSZVAGdPloESuUJZ0Q0U',\n",
       " 'replies': [{'findReplace': {'valuesChanged': 14,\n",
       "    'rowsChanged': 14,\n",
       "    'sheetsChanged': 1,\n",
       "    'occurrencesChanged': 14}}]}"
      ]
     },
     "execution_count": 36,
     "metadata": {},
     "output_type": "execute_result"
    }
   ],
   "source": [
    "# Carga Contratos CW\n",
    "sheet_id = '1s-_-_t65ybi7_iUfPSNiJY-aSZVAGdPloESuUJZ0Q0U'\n",
    "wks_name = 'CW BQ'\n",
    "sheet = Spread(sheet_id, wks_name, config=cred)\n",
    "sheet.df_to_sheet(cw, index=False, sheet=wks_name, replace=True)"
   ]
  },
  {
   "cell_type": "code",
   "execution_count": 63,
   "metadata": {},
   "outputs": [
    {
     "data": {
      "text/plain": [
       "{'spreadsheetId': '1k9_iZy_xG7EEsKIF9SNzEnyA7bl0BQxp1n1O2aViTrw',\n",
       " 'replies': [{'findReplace': {'valuesChanged': 8234,\n",
       "    'formulasChanged': 4,\n",
       "    'rowsChanged': 8225,\n",
       "    'sheetsChanged': 1,\n",
       "    'occurrencesChanged': 8238}}]}"
      ]
     },
     "execution_count": 63,
     "metadata": {},
     "output_type": "execute_result"
    }
   ],
   "source": [
    "#Carga Gestion Zombies\n",
    "sheet_id = '1k9_iZy_xG7EEsKIF9SNzEnyA7bl0BQxp1n1O2aViTrw'\n",
    "wks_name = 'Zombies BQ'\n",
    "sheet = Spread(sheet_id, wks_name, config=cred)\n",
    "sheet.df_to_sheet(zc[zc['Zombie_Churn'] == 'Zombie'], index=False, sheet=wks_name, replace=True)"
   ]
  },
  {
   "cell_type": "code",
   "execution_count": 64,
   "metadata": {},
   "outputs": [
    {
     "data": {
      "text/plain": [
       "{'spreadsheetId': '1k9_iZy_xG7EEsKIF9SNzEnyA7bl0BQxp1n1O2aViTrw',\n",
       " 'replies': [{'findReplace': {'valuesChanged': 2401,\n",
       "    'formulasChanged': 1,\n",
       "    'rowsChanged': 2398,\n",
       "    'sheetsChanged': 1,\n",
       "    'occurrencesChanged': 2402}}]}"
      ]
     },
     "execution_count": 64,
     "metadata": {},
     "output_type": "execute_result"
    }
   ],
   "source": [
    "#Carga Gestion Zombies\n",
    "sheet_id = '1k9_iZy_xG7EEsKIF9SNzEnyA7bl0BQxp1n1O2aViTrw'\n",
    "wks_name = 'Churns BQ'\n",
    "sheet = Spread(sheet_id, wks_name, config=cred)\n",
    "sheet.df_to_sheet(zc[zc['Zombie_Churn'] == 'Churn'], index=False, sheet=wks_name, replace=True)"
   ]
  }
 ],
 "metadata": {
  "kernelspec": {
   "display_name": "Python 3",
   "language": "python",
   "name": "python3"
  },
  "language_info": {
   "codemirror_mode": {
    "name": "ipython",
    "version": 3
   },
   "file_extension": ".py",
   "mimetype": "text/x-python",
   "name": "python",
   "nbconvert_exporter": "python",
   "pygments_lexer": "ipython3",
   "version": "3.8.5"
  }
 },
 "nbformat": 4,
 "nbformat_minor": 4
}
