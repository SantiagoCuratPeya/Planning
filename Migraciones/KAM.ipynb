{
 "cells": [
  {
   "cell_type": "markdown",
   "metadata": {},
   "source": [
    "### IMPORTS"
   ]
  },
  {
   "cell_type": "code",
   "execution_count": 1,
   "metadata": {},
   "outputs": [],
   "source": [
    "import pandas as pd\n",
    "import numpy as np\n",
    "import pandas_gbq\n",
    "import datetime\n",
    "from dateutil.relativedelta import relativedelta\n",
    "from Roster import *\n",
    "from gspread_pandas import Spread, conf"
   ]
  },
  {
   "cell_type": "markdown",
   "metadata": {},
   "source": [
    "### CREDENCIALES"
   ]
  },
  {
   "cell_type": "code",
   "execution_count": 2,
   "metadata": {},
   "outputs": [],
   "source": [
    "cred = conf.get_config('C:\\\\Users\\\\santiago.curat\\\\Pandas\\\\PEYA', 'PedidosYa-8b8c4d19f61c.json')"
   ]
  },
  {
   "cell_type": "markdown",
   "metadata": {},
   "source": [
    "### CONSTANTES"
   ]
  },
  {
   "cell_type": "code",
   "execution_count": 3,
   "metadata": {},
   "outputs": [],
   "source": [
    "# Fechas\n",
    "today = datetime.date.today()\n",
    "if today.day == 1:\n",
    "    ftm = str(today - relativedelta(days=1))\n",
    "    itm = str((today - relativedelta(days=1)).replace(day=1))\n",
    "else:\n",
    "    itm = str(today.replace(day=1))\n",
    "    ftm = str(today + relativedelta(months=1) - relativedelta(days=(today + relativedelta(months=1)).day))"
   ]
  },
  {
   "cell_type": "markdown",
   "metadata": {},
   "source": [
    "### GOOGLE SHEETS"
   ]
  },
  {
   "cell_type": "code",
   "execution_count": 4,
   "metadata": {},
   "outputs": [],
   "source": [
    "# Partners PEYA\n",
    "sheet_id = '1HmAvHYbJJa3JyRTgRJGKXataQB_TvFwNzyo8a6qXd2o'\n",
    "wks_name = 'Partners PEYA'\n",
    "sheet = Spread(sheet_id, wks_name, config=cred)\n",
    "partners = sheet.sheet_to_df(index=0,header_rows=1)"
   ]
  },
  {
   "cell_type": "code",
   "execution_count": 5,
   "metadata": {},
   "outputs": [],
   "source": [
    "# Stats PEYA\n",
    "sheet_id = '1PO5kGLgz5Xn_WNCQQB0OPcKCl7KeS7kMrkJaGxafqmY'\n",
    "wks_name = 'Stats PEYA'\n",
    "sheet = Spread(sheet_id, wks_name, config=cred)\n",
    "stats = sheet.sheet_to_df(index=0,header_rows=1)"
   ]
  },
  {
   "cell_type": "markdown",
   "metadata": {},
   "source": [
    "### TRABAJO"
   ]
  },
  {
   "cell_type": "code",
   "execution_count": 102,
   "metadata": {},
   "outputs": [],
   "source": [
    "# Filtro las KAMS\n",
    "kams = partners[partners['KAM'] == 'Si'].copy()\n",
    "# Filtro las columnas a usar\n",
    "cols = ['Account_Owner','Grid','Id','Franchise','Name','City','Area','Main_Cuisine','Logistic','Online','Online_TM']\n",
    "# Preparo KAMs TM y LM\n",
    "kams_tm = kams[cols].copy()\n",
    "kams_lm = kams[cols].copy()\n",
    "# Cambio nombre a las columnas para evitar errores con Logistic y las órdenes Logísticas\n",
    "cols = ['Account_Owner','Grid','Id','Franchise','Name','City','Area','Main_Cuisine','Is Logistic','Online','Online_TM']\n",
    "kams_tm.columns = cols\n",
    "kams_lm.columns = cols"
   ]
  },
  {
   "cell_type": "code",
   "execution_count": 103,
   "metadata": {},
   "outputs": [],
   "source": [
    "# Separo las columnas según TM y LM\n",
    "cols = ['Active_Users','Confirmed_Voucher','Confirmed','Logistic','Confirmed_OP','VFR_Num','Total',\n",
    "       'DF_No_Discount','Sessions','Transactions','GMV','Revenue','VL_Denominador','VL_Numerador']\n",
    "cols_tm = ['Id']+[i+' TM' for i in cols]\n",
    "cols_lm = ['Id']+[i+' LM' for i in cols]"
   ]
  },
  {
   "cell_type": "code",
   "execution_count": 104,
   "metadata": {},
   "outputs": [],
   "source": [
    "# Separo las Stats TM y LM\n",
    "stats_tm = stats[cols_tm].copy()\n",
    "stats_lm = stats[cols_lm].copy()\n",
    "# Doy formato a las columnas\n",
    "stats_tm = stats_tm.astype(float)\n",
    "stats_lm = stats_lm.astype(float)"
   ]
  },
  {
   "cell_type": "code",
   "execution_count": 105,
   "metadata": {},
   "outputs": [],
   "source": [
    "# Doy formato a las columnas\n",
    "kams_tm['Id'] = kams_tm['Id'].astype(float)\n",
    "kams_lm['Id'] = kams_lm['Id'].astype(float)\n",
    "# Uno las tablas\n",
    "kams_tm = kams_tm.merge(stats_tm,on=['Id'],how='left')\n",
    "kams_lm = kams_lm.merge(stats_lm,on=['Id'],how='left')"
   ]
  },
  {
   "cell_type": "code",
   "execution_count": 106,
   "metadata": {},
   "outputs": [],
   "source": [
    "# Borro los TM y LM de las columnas\n",
    "cols_tm = [i.replace(' TM','') for i in kams_tm.columns]\n",
    "cols_lm = [i.replace(' LM','') for i in kams_lm.columns]\n",
    "# Reemplazo los nombres de las columnas\n",
    "kams_tm.columns = cols_tm\n",
    "kams_lm.columns = cols_lm"
   ]
  },
  {
   "cell_type": "code",
   "execution_count": 107,
   "metadata": {},
   "outputs": [],
   "source": [
    "# Creo las columnas faltantes\n",
    "kams_tm['VFR'] = kams_tm['VFR_Num'] / kams_tm['Total']\n",
    "kams_lm['VFR'] = kams_lm['VFR_Num'] / kams_lm['Total']\n",
    "kams_tm['CVR'] = kams_tm['Transactions'] / kams_tm['Sessions']\n",
    "kams_lm['CVR'] = kams_lm['Transactions'] / kams_lm['Sessions']\n",
    "kams_tm.replace([np.nan,np.inf,-np.inf],0,inplace=True)\n",
    "kams_lm.replace([np.nan,np.inf,-np.inf],0,inplace=True)\n",
    "# Cambio el CVR sin Sesiones a '-'\n",
    "kams_tm['CVR'] = kams_tm['CVR'].apply(lambda x: '-' if x == 0 else x)\n",
    "kams_lm['CVR'] = kams_lm['CVR'].apply(lambda x: '-' if x == 0 else x)"
   ]
  },
  {
   "cell_type": "markdown",
   "metadata": {},
   "source": [
    "### CARGA"
   ]
  },
  {
   "cell_type": "code",
   "execution_count": 100,
   "metadata": {},
   "outputs": [
    {
     "data": {
      "text/plain": [
       "{'spreadsheetId': '1K_H2gVUHQ0NA9eoCjrAxwgigl_HBJz-PUcbGEdrSMuY',\n",
       " 'replies': [{'findReplace': {'valuesChanged': 81557,\n",
       "    'rowsChanged': 4921,\n",
       "    'sheetsChanged': 1,\n",
       "    'occurrencesChanged': 81557}}]}"
      ]
     },
     "execution_count": 100,
     "metadata": {},
     "output_type": "execute_result"
    }
   ],
   "source": [
    "# Carga TM\n",
    "sheet_id = '1K_H2gVUHQ0NA9eoCjrAxwgigl_HBJz-PUcbGEdrSMuY'\n",
    "wks_name = 'TM'\n",
    "sheet = Spread(sheet_id, wks_name, config=cred)\n",
    "sheet.df_to_sheet(kams_tm, index=False, sheet=wks_name, replace=True)"
   ]
  },
  {
   "cell_type": "code",
   "execution_count": 108,
   "metadata": {},
   "outputs": [
    {
     "data": {
      "text/plain": [
       "{'spreadsheetId': '1K_H2gVUHQ0NA9eoCjrAxwgigl_HBJz-PUcbGEdrSMuY',\n",
       " 'replies': [{'findReplace': {'valuesChanged': 81536,\n",
       "    'rowsChanged': 4921,\n",
       "    'sheetsChanged': 1,\n",
       "    'occurrencesChanged': 81536}}]}"
      ]
     },
     "execution_count": 108,
     "metadata": {},
     "output_type": "execute_result"
    }
   ],
   "source": [
    "# Carga LM\n",
    "sheet_id = '1K_H2gVUHQ0NA9eoCjrAxwgigl_HBJz-PUcbGEdrSMuY'\n",
    "wks_name = 'LM'\n",
    "sheet = Spread(sheet_id, wks_name, config=cred)\n",
    "sheet.df_to_sheet(kams_lm, index=False, sheet=wks_name, replace=True)"
   ]
  }
 ],
 "metadata": {
  "kernelspec": {
   "display_name": "Python 3",
   "language": "python",
   "name": "python3"
  },
  "language_info": {
   "codemirror_mode": {
    "name": "ipython",
    "version": 3
   },
   "file_extension": ".py",
   "mimetype": "text/x-python",
   "name": "python",
   "nbconvert_exporter": "python",
   "pygments_lexer": "ipython3",
   "version": "3.7.6"
  }
 },
 "nbformat": 4,
 "nbformat_minor": 4
}
